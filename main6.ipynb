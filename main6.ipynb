{
 "cells": [
  {
   "cell_type": "code",
   "execution_count": null,
   "metadata": {},
   "outputs": [
    {
     "name": "stdout",
     "output_type": "stream",
     "text": [
      "pygame 2.6.1 (SDL 2.28.4, Python 3.11.9)\n",
      "Hello from the pygame community. https://www.pygame.org/contribute.html\n"
     ]
    }
   ],
   "source": [
    "from ParticleSystem import ParticleSystem\n",
    "import pandas as pd\n",
    "import os\n",
    "import random\n",
    "\n",
    "WORLD_WIDTH = 200\n",
    "WORLD_HEIGHT = 200\n",
    "DELTA = 0.0001\n",
    "MU = 0.4\n",
    "EPSILON = 0.9\n",
    "ALPHA = 0.8\n",
    "DOT_SIZE = 3\n",
    "MIDDLE_CLUSTER_SIZE = -1\n",
    "NUM_ITERATIONS = 10 ** 7 \n",
    "INIT_REFRESH_RATE = 10\n",
    "INIT_PAUSED_STATUS = False\n",
    "\n",
    "min_cluster_size=100\n",
    "\n",
    "file_name = f'M{MU}D{DELTA}E{EPSILON}A{ALPHA}_{WORLD_WIDTH}x{WORLD_HEIGHT}_MC{min_cluster_size}_num_cluster_tracker.xlsx'\n",
    "\n",
    "# Ensure the Excel file has the correct column headers if it doesn't exist\n",
    "if not os.path.isfile(file_name):\n",
    "    df = pd.DataFrame(columns=[\"Iteration\"])\n",
    "    df.to_excel(file_name, index=False)  # Create the file with header\n",
    "\n",
    "for i in range(200):\n",
    "\n",
    "    world = ParticleSystem(\n",
    "        WORLD_WIDTH,\n",
    "        WORLD_HEIGHT,\n",
    "        DELTA,\n",
    "        MU,\n",
    "        EPSILON,\n",
    "        ALPHA,\n",
    "        DOT_SIZE,\n",
    "        MIDDLE_CLUSTER_SIZE,\n",
    "        NUM_ITERATIONS,\n",
    "        INIT_REFRESH_RATE,\n",
    "        INIT_PAUSED_STATUS\n",
    "    )\n",
    "\n",
    "    iteration_num_clusters_df = world.run_simulation_get_num_clusters_at_each_iteration(\n",
    "        min_cluster_size=min_cluster_size,\n",
    "        refresh_rate=280, check_rate=25000, init_render_status=False\n",
    "    )\n",
    "\n",
    "    existing_df = pd.read_excel(file_name, engine=\"openpyxl\") # Load the existing Excel file\n",
    "\n",
    "    # Merge with the existing table (outer join to keep all iterations)\n",
    "    merged_df = pd.merge(existing_df, iteration_num_clusters_df, on=\"Iteration\", how=\"outer\")\n",
    "\n",
    "    # Save back to Excel\n",
    "    merged_df.to_excel(file_name, index=False, engine=\"openpyxl\")\n",
    "\n",
    "    print(f'Finished World: {i} , Run id {world.id}')"
   ]
  },
  {
   "cell_type": "code",
   "execution_count": 1,
   "metadata": {},
   "outputs": [
    {
     "name": "stdout",
     "output_type": "stream",
     "text": [
      "pygame 2.6.1 (SDL 2.28.4, Python 3.11.9)\n",
      "Hello from the pygame community. https://www.pygame.org/contribute.html\n"
     ]
    },
    {
     "ename": "KeyboardInterrupt",
     "evalue": "",
     "output_type": "error",
     "traceback": [
      "\u001b[1;31m---------------------------------------------------------------------------\u001b[0m",
      "\u001b[1;31mKeyboardInterrupt\u001b[0m                         Traceback (most recent call last)",
      "Cell \u001b[1;32mIn[1], line 44\u001b[0m\n\u001b[0;32m     28\u001b[0m curr_check_rate \u001b[38;5;241m=\u001b[39m \u001b[38;5;28mint\u001b[39m(random\u001b[38;5;241m.\u001b[39muniform(\u001b[38;5;241m50000\u001b[39m, \u001b[38;5;241m55000\u001b[39m))\n\u001b[0;32m     30\u001b[0m world \u001b[38;5;241m=\u001b[39m ParticleSystem(\n\u001b[0;32m     31\u001b[0m     WORLD_WIDTH,\n\u001b[0;32m     32\u001b[0m     WORLD_HEIGHT,\n\u001b[1;32m   (...)\u001b[0m\n\u001b[0;32m     41\u001b[0m     INIT_PAUSED_STATUS\n\u001b[0;32m     42\u001b[0m )\n\u001b[1;32m---> 44\u001b[0m num_iterations_it_took \u001b[38;5;241m=\u001b[39m \u001b[43mworld\u001b[49m\u001b[38;5;241;43m.\u001b[39;49m\u001b[43mrun_simulation_get_iteration_of_first_single_cluster\u001b[49m\u001b[43m(\u001b[49m\n\u001b[0;32m     45\u001b[0m \u001b[43m    \u001b[49m\u001b[43mrefresh_rate\u001b[49m\u001b[38;5;241;43m=\u001b[39;49m\u001b[38;5;241;43m280\u001b[39;49m\u001b[43m,\u001b[49m\u001b[43m \u001b[49m\u001b[43mcheck_rate\u001b[49m\u001b[38;5;241;43m=\u001b[39;49m\u001b[43mcurr_check_rate\u001b[49m\u001b[43m,\u001b[49m\u001b[43m \u001b[49m\u001b[43minit_render_status\u001b[49m\u001b[38;5;241;43m=\u001b[39;49m\u001b[38;5;28;43;01mFalse\u001b[39;49;00m\u001b[43m,\u001b[49m\u001b[43m \u001b[49m\u001b[43mfirst_check\u001b[49m\u001b[38;5;241;43m=\u001b[39;49m\u001b[38;5;241;43m500000\u001b[39;49m\u001b[43m,\u001b[49m\n\u001b[0;32m     46\u001b[0m \u001b[43m    \u001b[49m\u001b[43mmin_cluster_size\u001b[49m\u001b[38;5;241;43m=\u001b[39;49m\u001b[38;5;241;43m500\u001b[39;49m\n\u001b[0;32m     47\u001b[0m \u001b[43m\u001b[49m\u001b[43m)\u001b[49m\n\u001b[0;32m     49\u001b[0m \u001b[38;5;66;03m# Append directly to the file (avoiding reading the whole file)\u001b[39;00m\n\u001b[0;32m     50\u001b[0m new_data \u001b[38;5;241m=\u001b[39m pd\u001b[38;5;241m.\u001b[39mDataFrame([[world\u001b[38;5;241m.\u001b[39mid, num_iterations_it_took, MU, DELTA, EPSILON, ALPHA, WORLD_WIDTH, WORLD_HEIGHT]], \n\u001b[0;32m     51\u001b[0m                         columns\u001b[38;5;241m=\u001b[39m[\u001b[38;5;124m\"\u001b[39m\u001b[38;5;124mRun ID\u001b[39m\u001b[38;5;124m\"\u001b[39m, \u001b[38;5;124m\"\u001b[39m\u001b[38;5;124mnum iterations\u001b[39m\u001b[38;5;124m\"\u001b[39m, \u001b[38;5;124m'\u001b[39m\u001b[38;5;124mMU\u001b[39m\u001b[38;5;124m'\u001b[39m, \u001b[38;5;124m'\u001b[39m\u001b[38;5;124mDELTA\u001b[39m\u001b[38;5;124m'\u001b[39m, \u001b[38;5;124m'\u001b[39m\u001b[38;5;124mEPSILON\u001b[39m\u001b[38;5;124m'\u001b[39m, \u001b[38;5;124m'\u001b[39m\u001b[38;5;124mALPHA\u001b[39m\u001b[38;5;124m'\u001b[39m, \u001b[38;5;124m'\u001b[39m\u001b[38;5;124mWORLD_WIDTH\u001b[39m\u001b[38;5;124m'\u001b[39m, \u001b[38;5;124m'\u001b[39m\u001b[38;5;124mWORLD_HEIGHT\u001b[39m\u001b[38;5;124m'\u001b[39m])\n",
      "File \u001b[1;32mc:\\Users\\MichelFaloughi\\OneDrive - Count Energy Trading BV\\Other\\Bachelor Project\\Python\\ParticleSystem.py:508\u001b[0m, in \u001b[0;36mParticleSystem.run_simulation_get_iteration_of_first_single_cluster\u001b[1;34m(self, refresh_rate, check_rate, init_render_status, first_check, min_cluster_size)\u001b[0m\n\u001b[0;32m    506\u001b[0m \u001b[38;5;28;01mfor\u001b[39;00m _ \u001b[38;5;129;01min\u001b[39;00m \u001b[38;5;28mrange\u001b[39m(\u001b[38;5;28mself\u001b[39m\u001b[38;5;241m.\u001b[39mrefresh_rate):\n\u001b[0;32m    507\u001b[0m     p \u001b[38;5;241m=\u001b[39m random\u001b[38;5;241m.\u001b[39mchoice(\u001b[38;5;28mself\u001b[39m\u001b[38;5;241m.\u001b[39mparticles)\n\u001b[1;32m--> 508\u001b[0m     \u001b[43mp\u001b[49m\u001b[38;5;241;43m.\u001b[39;49m\u001b[43mupdate_particle\u001b[49m\u001b[43m(\u001b[49m\u001b[38;5;28;43mself\u001b[39;49m\u001b[38;5;241;43m.\u001b[39;49m\u001b[43mdelta\u001b[49m\u001b[43m,\u001b[49m\u001b[43m \u001b[49m\u001b[38;5;28;43mself\u001b[39;49m\u001b[38;5;241;43m.\u001b[39;49m\u001b[43mepsilon\u001b[49m\u001b[43m)\u001b[49m\n\u001b[0;32m    509\u001b[0m \u001b[38;5;28mself\u001b[39m\u001b[38;5;241m.\u001b[39mnum_updates \u001b[38;5;241m+\u001b[39m\u001b[38;5;241m=\u001b[39m \u001b[38;5;241m1\u001b[39m\n\u001b[0;32m    510\u001b[0m num_updates_for_cluster_checking \u001b[38;5;241m+\u001b[39m\u001b[38;5;241m=\u001b[39m \u001b[38;5;241m1\u001b[39m\n",
      "File \u001b[1;32mc:\\Users\\MichelFaloughi\\OneDrive - Count Energy Trading BV\\Other\\Bachelor Project\\Python\\Particle.py:40\u001b[0m, in \u001b[0;36mParticle.update_particle\u001b[1;34m(self, delta, epsilon)\u001b[0m\n\u001b[0;32m     35\u001b[0m \u001b[38;5;28mself\u001b[39m\u001b[38;5;241m.\u001b[39mprevious_x, \u001b[38;5;28mself\u001b[39m\u001b[38;5;241m.\u001b[39mprevious_y \u001b[38;5;241m=\u001b[39m \u001b[38;5;28mself\u001b[39m\u001b[38;5;241m.\u001b[39mx, \u001b[38;5;28mself\u001b[39m\u001b[38;5;241m.\u001b[39my\n\u001b[0;32m     38\u001b[0m \u001b[38;5;28;01mif\u001b[39;00m \u001b[38;5;28mself\u001b[39m\u001b[38;5;241m.\u001b[39mactive \u001b[38;5;241m==\u001b[39m \u001b[38;5;28;01mFalse\u001b[39;00m: \u001b[38;5;66;03m# if the particle is not an active particle, assume epsilon = 1\u001b[39;00m\n\u001b[0;32m     39\u001b[0m     \u001b[38;5;66;03m# (ie particle will always randomly move, not sure if that epsilon = 1 or 0 actually, too lazy to check)\u001b[39;00m\n\u001b[1;32m---> 40\u001b[0m     random_direction \u001b[38;5;241m=\u001b[39m \u001b[43mrandom\u001b[49m\u001b[38;5;241;43m.\u001b[39;49m\u001b[43mchoice\u001b[49m\u001b[43m(\u001b[49m\u001b[43mglobal_possible_directions\u001b[49m\u001b[43m)\u001b[49m\n\u001b[0;32m     42\u001b[0m     \u001b[38;5;66;03m# random_direction = random.choices(global_possible_directions, weights=global_weights, k=1)[0]\u001b[39;00m\n\u001b[0;32m     43\u001b[0m     new_x \u001b[38;5;241m=\u001b[39m (\u001b[38;5;28mself\u001b[39m\u001b[38;5;241m.\u001b[39mx \u001b[38;5;241m+\u001b[39m random_direction[\u001b[38;5;241m0\u001b[39m]) \u001b[38;5;241m%\u001b[39m \u001b[38;5;28mself\u001b[39m\u001b[38;5;241m.\u001b[39mboard\u001b[38;5;241m.\u001b[39mshape[\u001b[38;5;241m0\u001b[39m]\n",
      "File \u001b[1;32mc:\\Users\\MichelFaloughi\\AppData\\Local\\Programs\\Python\\Python311\\Lib\\random.py:374\u001b[0m, in \u001b[0;36mRandom.choice\u001b[1;34m(self, seq)\u001b[0m\n\u001b[0;32m    372\u001b[0m \u001b[38;5;28;01mif\u001b[39;00m \u001b[38;5;129;01mnot\u001b[39;00m \u001b[38;5;28mlen\u001b[39m(seq):\n\u001b[0;32m    373\u001b[0m     \u001b[38;5;28;01mraise\u001b[39;00m \u001b[38;5;167;01mIndexError\u001b[39;00m(\u001b[38;5;124m'\u001b[39m\u001b[38;5;124mCannot choose from an empty sequence\u001b[39m\u001b[38;5;124m'\u001b[39m)\n\u001b[1;32m--> 374\u001b[0m \u001b[38;5;28;01mreturn\u001b[39;00m seq[\u001b[38;5;28;43mself\u001b[39;49m\u001b[38;5;241;43m.\u001b[39;49m\u001b[43m_randbelow\u001b[49m\u001b[43m(\u001b[49m\u001b[38;5;28;43mlen\u001b[39;49m\u001b[43m(\u001b[49m\u001b[43mseq\u001b[49m\u001b[43m)\u001b[49m\u001b[43m)\u001b[49m]\n",
      "File \u001b[1;32mc:\\Users\\MichelFaloughi\\AppData\\Local\\Programs\\Python\\Python311\\Lib\\random.py:235\u001b[0m, in \u001b[0;36mRandom._randbelow_with_getrandbits\u001b[1;34m(self, n)\u001b[0m\n\u001b[0;32m    232\u001b[0m             \u001b[38;5;28mcls\u001b[39m\u001b[38;5;241m.\u001b[39m_randbelow \u001b[38;5;241m=\u001b[39m \u001b[38;5;28mcls\u001b[39m\u001b[38;5;241m.\u001b[39m_randbelow_without_getrandbits\n\u001b[0;32m    233\u001b[0m             \u001b[38;5;28;01mbreak\u001b[39;00m\n\u001b[1;32m--> 235\u001b[0m \u001b[38;5;28;01mdef\u001b[39;00m \u001b[38;5;21m_randbelow_with_getrandbits\u001b[39m(\u001b[38;5;28mself\u001b[39m, n):\n\u001b[0;32m    236\u001b[0m     \u001b[38;5;124m\"\u001b[39m\u001b[38;5;124mReturn a random int in the range [0,n).  Defined for n > 0.\u001b[39m\u001b[38;5;124m\"\u001b[39m\n\u001b[0;32m    238\u001b[0m     getrandbits \u001b[38;5;241m=\u001b[39m \u001b[38;5;28mself\u001b[39m\u001b[38;5;241m.\u001b[39mgetrandbits\n",
      "\u001b[1;31mKeyboardInterrupt\u001b[0m: "
     ]
    }
   ],
   "source": [
    "# This is taking too long, (ie 300 by 300 is too much) This is for the 'first cluster' experiment\n",
    "\n",
    "\n",
    "from ParticleSystem import ParticleSystem\n",
    "import pandas as pd\n",
    "import os\n",
    "import random\n",
    "\n",
    "WORLD_WIDTH = 300\n",
    "WORLD_HEIGHT = 300\n",
    "DELTA = 0.0001\n",
    "MU = 0.4\n",
    "EPSILON = 0.9\n",
    "ALPHA = 0.8\n",
    "DOT_SIZE = 3\n",
    "MIDDLE_CLUSTER_SIZE = -1\n",
    "NUM_ITERATIONS = 10 ** 18\n",
    "INIT_REFRESH_RATE = 10\n",
    "INIT_PAUSED_STATUS = False\n",
    "\n",
    "file_name = f'M{MU}D{DELTA}E{EPSILON}A{ALPHA}_{WORLD_WIDTH}x{WORLD_HEIGHT}_first_cluster.xlsx'\n",
    "\n",
    "# Ensure the Excel file has the correct column headers if it doesn't exist\n",
    "if not os.path.isfile(file_name):\n",
    "    df = pd.DataFrame(columns=[\"Run ID\", \"num iterations\", 'MU', 'DELTA', 'EPSILON', 'ALPHA', 'WORLD_WIDTH', 'WORLD_HEIGHT'])\n",
    "    df.to_excel(file_name, index=False)  # Create the file with headers\n",
    "\n",
    "for i in range(200):\n",
    "\n",
    "    # randomize check_rate\n",
    "    curr_check_rate = int(random.uniform(50000, 55000))\n",
    "\n",
    "    world = ParticleSystem(\n",
    "        WORLD_WIDTH,\n",
    "        WORLD_HEIGHT,\n",
    "        DELTA,\n",
    "        MU,\n",
    "        EPSILON,\n",
    "        ALPHA,\n",
    "        DOT_SIZE,\n",
    "        MIDDLE_CLUSTER_SIZE,\n",
    "        NUM_ITERATIONS,\n",
    "        INIT_REFRESH_RATE,\n",
    "        INIT_PAUSED_STATUS\n",
    "    )\n",
    "\n",
    "    num_iterations_it_took = world.run_simulation_get_iteration_of_first_single_cluster(\n",
    "        refresh_rate=280, check_rate=curr_check_rate, init_render_status=False, first_check=500000,\n",
    "        min_cluster_size=500\n",
    "    )\n",
    "\n",
    "    # Append directly to the file (avoiding reading the whole file)\n",
    "    new_data = pd.DataFrame([[world.id, num_iterations_it_took, MU, DELTA, EPSILON, ALPHA, WORLD_WIDTH, WORLD_HEIGHT]], \n",
    "                            columns=[\"Run ID\", \"num iterations\", 'MU', 'DELTA', 'EPSILON', 'ALPHA', 'WORLD_WIDTH', 'WORLD_HEIGHT'])\n",
    "\n",
    "    with pd.ExcelWriter(file_name, mode='a', if_sheet_exists='overlay', engine='openpyxl') as writer:\n",
    "        new_data.to_excel(writer, index=False, header=False, startrow=writer.sheets['Sheet1'].max_row)\n",
    "\n",
    "    print(f'Finished World: {i} , Run id {world.id}')"
   ]
  }
 ],
 "metadata": {
  "kernelspec": {
   "display_name": "Python 3",
   "language": "python",
   "name": "python3"
  },
  "language_info": {
   "codemirror_mode": {
    "name": "ipython",
    "version": 3
   },
   "file_extension": ".py",
   "mimetype": "text/x-python",
   "name": "python",
   "nbconvert_exporter": "python",
   "pygments_lexer": "ipython3",
   "version": "3.11.9"
  }
 },
 "nbformat": 4,
 "nbformat_minor": 2
}
