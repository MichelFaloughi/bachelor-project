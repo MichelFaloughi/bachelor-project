{
 "cells": [
  {
   "cell_type": "code",
   "execution_count": null,
   "metadata": {},
   "outputs": [],
   "source": [
    "# I ran it here with the SIMPLE function let's see if it runs faster"
   ]
  },
  {
   "cell_type": "code",
   "execution_count": null,
   "metadata": {},
   "outputs": [
    {
     "name": "stdout",
     "output_type": "stream",
     "text": [
      "pygame 2.6.1 (SDL 2.28.4, Python 3.11.9)\n",
      "Hello from the pygame community. https://www.pygame.org/contribute.html\n"
     ]
    }
   ],
   "source": [
    "from ParticleSystem import ParticleSystem\n",
    "import pandas as pd\n",
    "import os\n",
    "\n",
    "WORLD_WIDTH = 300\n",
    "WORLD_HEIGHT = 300\n",
    "DELTA = 0.0001\n",
    "MU = 0.4\n",
    "EPSILON = 0.9\n",
    "ALPHA = 0.8\n",
    "DOT_SIZE = 3\n",
    "MIDDLE_CLUSTER_SIZE = -1\n",
    "NUM_ITERATIONS = 10 ** 18\n",
    "INIT_REFRESH_RATE = 10\n",
    "INIT_PAUSED_STATUS = False\n",
    "\n",
    "file_name = f'M{MU}D{DELTA}E{EPSILON}A{ALPHA}_{WORLD_WIDTH}x{WORLD_HEIGHT}_first_cluster.xlsx'\n",
    "\n",
    "# Ensure the Excel file has the correct column headers if it doesn't exist\n",
    "if not os.path.isfile(file_name):\n",
    "    df = pd.DataFrame(columns=[\"Run ID\", \"num iterations\", 'MU', 'DELTA', 'EPSILON', 'ALPHA', 'WORLD_WIDTH', 'WORLD_HEIGHT'])\n",
    "    df.to_excel(file_name, index=False)  # Create the file with headers\n",
    "\n",
    "for i in range(200):\n",
    "    world = ParticleSystem(\n",
    "        WORLD_WIDTH,\n",
    "        WORLD_HEIGHT,\n",
    "        DELTA,\n",
    "        MU,\n",
    "        EPSILON,\n",
    "        ALPHA,\n",
    "        DOT_SIZE,\n",
    "        MIDDLE_CLUSTER_SIZE,\n",
    "        NUM_ITERATIONS,\n",
    "        INIT_REFRESH_RATE,\n",
    "        INIT_PAUSED_STATUS\n",
    "    )\n",
    "\n",
    "    num_iterations_it_took = world.SIMPLE_run_simulation_get_iteration_of_first_single_cluster(\n",
    "        refresh_rate=280, check_rate=50789, init_render_status=False, first_check=500000\n",
    "    )\n",
    "\n",
    "    # Append directly to the file (avoiding reading the whole file)\n",
    "    new_data = pd.DataFrame([[world.id, num_iterations_it_took, MU, DELTA, EPSILON, ALPHA, WORLD_WIDTH, WORLD_HEIGHT]], \n",
    "                            columns=[\"Run ID\", \"num iterations\", 'MU', 'DELTA', 'EPSILON', 'ALPHA', 'WORLD_WIDTH', 'WORLD_HEIGHT'])\n",
    "\n",
    "    with pd.ExcelWriter(file_name, mode='a', if_sheet_exists='overlay', engine='openpyxl') as writer:\n",
    "        new_data.to_excel(writer, index=False, header=False, startrow=writer.sheets['Sheet1'].max_row)\n",
    "\n",
    "    print(f'Finished World: {i}')"
   ]
  }
 ],
 "metadata": {
  "kernelspec": {
   "display_name": "Python 3",
   "language": "python",
   "name": "python3"
  },
  "language_info": {
   "codemirror_mode": {
    "name": "ipython",
    "version": 3
   },
   "file_extension": ".py",
   "mimetype": "text/x-python",
   "name": "python",
   "nbconvert_exporter": "python",
   "pygments_lexer": "ipython3",
   "version": "3.11.9"
  }
 },
 "nbformat": 4,
 "nbformat_minor": 2
}
