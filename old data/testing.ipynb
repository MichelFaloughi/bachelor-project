{
 "cells": [
  {
   "cell_type": "code",
   "execution_count": 10,
   "metadata": {},
   "outputs": [
    {
     "name": "stdout",
     "output_type": "stream",
     "text": [
      "[0.45454545 0.90909091 0.         0.45454545 1.36363636]\n"
     ]
    }
   ],
   "source": [
    "################################################\n",
    "## Testing get_color_row_from_positions_array ##\n",
    "################################################\n",
    "\n",
    "import numpy as np\n",
    "screen_width = 5\n",
    "positions_array = np.array([1, 0, 1, 1, 0, 0, 1, 0, 1, 1, 1])  # Example positions array\n",
    "L = len(positions_array) / screen_width\n",
    "\n",
    "def get_color_row_from_positions_array():\n",
    "    \n",
    "    row = np.zeros(screen_width)\n",
    "\n",
    "    for i in range(screen_width):\n",
    "        start_index = int(i * L)\n",
    "        end_index = int((i + 1) * L)\n",
    "\n",
    "        # Calculate the proportion of particles (1s) in the range\n",
    "        segment = positions_array[start_index:end_index]\n",
    "        row[i] = np.sum(segment) / L\n",
    "\n",
    "\n",
    "        assert abs(len(segment) - L) < 5, 'sum wrong 3abbes'\n",
    "\n",
    "    return row\n",
    "\n",
    "color_row = get_color_row_from_positions_array()\n",
    "print(color_row)"
   ]
  },
  {
   "cell_type": "code",
   "execution_count": 7,
   "metadata": {},
   "outputs": [
    {
     "name": "stdout",
     "output_type": "stream",
     "text": [
      "[array([1, 2, 3, 4, 5]), array([1, 2, 3, 4, 5]), array([1, 2, 3, 4, 5]), array([1, 2, 3, 4, 5]), array([1, 2, 3, 4, 5]), array([4, 4, 4, 4, 4])]\n"
     ]
    }
   ],
   "source": [
    "import numpy as np\n",
    "matrix = list(np.zeros((6,5)))\n",
    "new_row = np.array([1,2,3,4,5])\n",
    "newer_row = np.array([4,4,4,4,4])\n",
    "\n",
    "def update_color_history_matrix(mat, new_row):\n",
    "    mat.pop(0)\n",
    "    mat.append(new_row)\n",
    "\n",
    "\n",
    "update_color_history_matrix(matrix, new_row)\n",
    "update_color_history_matrix(matrix, new_row)\n",
    "update_color_history_matrix(matrix, new_row)\n",
    "update_color_history_matrix(matrix, new_row)\n",
    "update_color_history_matrix(matrix, new_row)\n",
    "update_color_history_matrix(matrix, new_row)\n",
    "update_color_history_matrix(matrix, newer_row)\n",
    "\n",
    "print(matrix)\n",
    "\n"
   ]
  },
  {
   "cell_type": "code",
   "execution_count": 9,
   "metadata": {},
   "outputs": [
    {
     "data": {
      "text/plain": [
       "(255, 84, 0)"
      ]
     },
     "execution_count": 9,
     "metadata": {},
     "output_type": "execute_result"
    }
   ],
   "source": [
    "def get_rgb_tuple_from_fraction(fraction):\n",
    "        assert 0 <= fraction <= 1, \"Fraction must be between 0 and 1 inclusive.\"\n",
    "\n",
    "        if fraction <= 0.33:  # Black to Red\n",
    "            red = int((fraction / 0.33) * 255)\n",
    "            green = 0\n",
    "            blue = 0\n",
    "        elif fraction <= 0.66:  # Red to Orange\n",
    "            red = 255\n",
    "            green = int(((fraction - 0.33) / 0.33) * 165)  # Orange's green component\n",
    "            blue = 0\n",
    "        else:  # Orange to Yellow\n",
    "            red = 255\n",
    "            green = 165 + int(((fraction - 0.66) / 0.34) * (255 - 165))\n",
    "            blue = 0\n",
    "        \n",
    "        # # Interpolate between black (0, 0, 0) and red (255, 0, 0)\n",
    "        # red = int(fraction * 255)\n",
    "        # green = 0\n",
    "        # blue = 0\n",
    "\n",
    "        return (red, green, blue)\n",
    "\n",
    "get_rgb_tuple_from_fraction(0.5)"
   ]
  }
 ],
 "metadata": {
  "kernelspec": {
   "display_name": "Python 3",
   "language": "python",
   "name": "python3"
  },
  "language_info": {
   "codemirror_mode": {
    "name": "ipython",
    "version": 3
   },
   "file_extension": ".py",
   "mimetype": "text/x-python",
   "name": "python",
   "nbconvert_exporter": "python",
   "pygments_lexer": "ipython3",
   "version": "3.11.9"
  }
 },
 "nbformat": 4,
 "nbformat_minor": 2
}
