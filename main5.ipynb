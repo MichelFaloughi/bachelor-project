{
 "cells": [
  {
   "cell_type": "code",
   "execution_count": 1,
   "metadata": {},
   "outputs": [
    {
     "name": "stdout",
     "output_type": "stream",
     "text": [
      "pygame 2.6.1 (SDL 2.28.4, Python 3.11.9)\n",
      "Hello from the pygame community. https://www.pygame.org/contribute.html\n"
     ]
    },
    {
     "ename": "KeyboardInterrupt",
     "evalue": "",
     "output_type": "error",
     "traceback": [
      "\u001b[1;31m---------------------------------------------------------------------------\u001b[0m",
      "\u001b[1;31mKeyboardInterrupt\u001b[0m                         Traceback (most recent call last)",
      "Cell \u001b[1;32mIn[1], line 44\u001b[0m\n\u001b[0;32m     28\u001b[0m curr_check_rate \u001b[38;5;241m=\u001b[39m \u001b[38;5;28mint\u001b[39m(random\u001b[38;5;241m.\u001b[39muniform(\u001b[38;5;241m50000\u001b[39m, \u001b[38;5;241m55000\u001b[39m))\n\u001b[0;32m     30\u001b[0m world \u001b[38;5;241m=\u001b[39m ParticleSystem(\n\u001b[0;32m     31\u001b[0m     WORLD_WIDTH,\n\u001b[0;32m     32\u001b[0m     WORLD_HEIGHT,\n\u001b[1;32m   (...)\u001b[0m\n\u001b[0;32m     41\u001b[0m     INIT_PAUSED_STATUS\n\u001b[0;32m     42\u001b[0m )\n\u001b[1;32m---> 44\u001b[0m num_iterations_it_took \u001b[38;5;241m=\u001b[39m \u001b[43mworld\u001b[49m\u001b[38;5;241;43m.\u001b[39;49m\u001b[43mrun_simulation_get_iteration_of_first_single_cluster\u001b[49m\u001b[43m(\u001b[49m\n\u001b[0;32m     45\u001b[0m \u001b[43m    \u001b[49m\u001b[43mrefresh_rate\u001b[49m\u001b[38;5;241;43m=\u001b[39;49m\u001b[38;5;241;43m280\u001b[39;49m\u001b[43m,\u001b[49m\u001b[43m \u001b[49m\u001b[43mcheck_rate\u001b[49m\u001b[38;5;241;43m=\u001b[39;49m\u001b[43mcurr_check_rate\u001b[49m\u001b[43m,\u001b[49m\u001b[43m \u001b[49m\u001b[43minit_render_status\u001b[49m\u001b[38;5;241;43m=\u001b[39;49m\u001b[38;5;28;43;01mFalse\u001b[39;49;00m\u001b[43m,\u001b[49m\u001b[43m \u001b[49m\u001b[43mfirst_check\u001b[49m\u001b[38;5;241;43m=\u001b[39;49m\u001b[38;5;241;43m500000\u001b[39;49m\u001b[43m,\u001b[49m\n\u001b[0;32m     46\u001b[0m \u001b[43m    \u001b[49m\u001b[43mmin_cluster_size\u001b[49m\u001b[38;5;241;43m=\u001b[39;49m\u001b[38;5;241;43m500\u001b[39;49m\n\u001b[0;32m     47\u001b[0m \u001b[43m\u001b[49m\u001b[43m)\u001b[49m\n\u001b[0;32m     49\u001b[0m \u001b[38;5;66;03m# Append directly to the file (avoiding reading the whole file)\u001b[39;00m\n\u001b[0;32m     50\u001b[0m new_data \u001b[38;5;241m=\u001b[39m pd\u001b[38;5;241m.\u001b[39mDataFrame([[world\u001b[38;5;241m.\u001b[39mid, num_iterations_it_took, MU, DELTA, EPSILON, ALPHA, WORLD_WIDTH, WORLD_HEIGHT]], \n\u001b[0;32m     51\u001b[0m                         columns\u001b[38;5;241m=\u001b[39m[\u001b[38;5;124m\"\u001b[39m\u001b[38;5;124mRun ID\u001b[39m\u001b[38;5;124m\"\u001b[39m, \u001b[38;5;124m\"\u001b[39m\u001b[38;5;124mnum iterations\u001b[39m\u001b[38;5;124m\"\u001b[39m, \u001b[38;5;124m'\u001b[39m\u001b[38;5;124mMU\u001b[39m\u001b[38;5;124m'\u001b[39m, \u001b[38;5;124m'\u001b[39m\u001b[38;5;124mDELTA\u001b[39m\u001b[38;5;124m'\u001b[39m, \u001b[38;5;124m'\u001b[39m\u001b[38;5;124mEPSILON\u001b[39m\u001b[38;5;124m'\u001b[39m, \u001b[38;5;124m'\u001b[39m\u001b[38;5;124mALPHA\u001b[39m\u001b[38;5;124m'\u001b[39m, \u001b[38;5;124m'\u001b[39m\u001b[38;5;124mWORLD_WIDTH\u001b[39m\u001b[38;5;124m'\u001b[39m, \u001b[38;5;124m'\u001b[39m\u001b[38;5;124mWORLD_HEIGHT\u001b[39m\u001b[38;5;124m'\u001b[39m])\n",
      "File \u001b[1;32mc:\\Users\\MichelFaloughi\\OneDrive - Count Energy Trading BV\\Other\\Bachelor Project\\Python\\ParticleSystem.py:540\u001b[0m, in \u001b[0;36mParticleSystem.run_simulation_get_iteration_of_first_single_cluster\u001b[1;34m(self, refresh_rate, check_rate, init_render_status, first_check, min_cluster_size)\u001b[0m\n\u001b[0;32m    534\u001b[0m \u001b[38;5;66;03m# I can keep the counter but not the world if you want, up to you prof Stauffer\u001b[39;00m\n\u001b[0;32m    535\u001b[0m         \n\u001b[0;32m    536\u001b[0m \u001b[38;5;66;03m# Check when we get one cluster\u001b[39;00m\n\u001b[0;32m    537\u001b[0m \u001b[38;5;28;01mif\u001b[39;00m num_updates_for_cluster_checking \u001b[38;5;241m>\u001b[39m\u001b[38;5;241m=\u001b[39m check_rate \u001b[38;5;129;01mand\u001b[39;00m current_iteration \u001b[38;5;241m>\u001b[39m first_check: \u001b[38;5;66;03m# we won't check else this\u001b[39;00m\n\u001b[0;32m    538\u001b[0m         \n\u001b[0;32m    539\u001b[0m     \u001b[38;5;66;03m# ASSUMING IT WILL ALWAYS CONVERGE TO 1, WHICH MIGHT BE A BAD ASSUMPTION\u001b[39;00m\n\u001b[1;32m--> 540\u001b[0m     curr_num_clusters \u001b[38;5;241m=\u001b[39m \u001b[38;5;28mlen\u001b[39m(\u001b[38;5;28;43mself\u001b[39;49m\u001b[38;5;241;43m.\u001b[39;49m\u001b[43mget_curr_cluster_sizes\u001b[49m\u001b[43m(\u001b[49m\u001b[43mstop_at\u001b[49m\u001b[38;5;241;43m=\u001b[39;49m\u001b[38;5;241;43m2\u001b[39;49m\u001b[43m,\u001b[49m\u001b[43m \u001b[49m\u001b[43mmin_cluster_size\u001b[49m\u001b[38;5;241;43m=\u001b[39;49m\u001b[43mmin_cluster_size\u001b[49m\u001b[43m)\u001b[49m)\n\u001b[0;32m    542\u001b[0m     \u001b[38;5;28;01mif\u001b[39;00m curr_num_clusters \u001b[38;5;241m==\u001b[39m \u001b[38;5;241m1\u001b[39m: \n\u001b[0;32m    543\u001b[0m         pygame\u001b[38;5;241m.\u001b[39mquit()\n",
      "File \u001b[1;32mc:\\Users\\MichelFaloughi\\OneDrive - Count Energy Trading BV\\Other\\Bachelor Project\\Python\\ParticleSystem.py:1053\u001b[0m, in \u001b[0;36mParticleSystem.get_curr_cluster_sizes\u001b[1;34m(self, min_cluster_size, stop_at)\u001b[0m\n\u001b[0;32m   1050\u001b[0m curr_coords \u001b[38;5;241m=\u001b[39m \u001b[38;5;28mself\u001b[39m\u001b[38;5;241m.\u001b[39mcoordinates\u001b[38;5;241m.\u001b[39mcopy()  \u001b[38;5;66;03m# Make a copy\u001b[39;00m\n\u001b[0;32m   1052\u001b[0m \u001b[38;5;28;01mwhile\u001b[39;00m curr_coords:  \u001b[38;5;66;03m# Process until all coordinates are visited\u001b[39;00m\n\u001b[1;32m-> 1053\u001b[0m     x, y \u001b[38;5;241m=\u001b[39m curr_coords\u001b[38;5;241m.\u001b[39mpop(\u001b[38;5;241m0\u001b[39m)  \u001b[38;5;66;03m# Get first coordinate and remove it\u001b[39;00m\n\u001b[0;32m   1054\u001b[0m     length, visited_nodes \u001b[38;5;241m=\u001b[39m \u001b[38;5;28mself\u001b[39m\u001b[38;5;241m.\u001b[39mget_curr_cluster_STRICT_cardinality(\n\u001b[0;32m   1055\u001b[0m         start_x\u001b[38;5;241m=\u001b[39mx, start_y\u001b[38;5;241m=\u001b[39my, also_return_visited_nodes\u001b[38;5;241m=\u001b[39m\u001b[38;5;28;01mTrue\u001b[39;00m\n\u001b[0;32m   1056\u001b[0m     )\n\u001b[0;32m   1058\u001b[0m     \u001b[38;5;66;03m# Remove visited nodes from curr_coords\u001b[39;00m\n",
      "\u001b[1;31mKeyboardInterrupt\u001b[0m: "
     ]
    }
   ],
   "source": [
    "# This is taking too long, (ie 300 by 300 is too much) This is for the 'first cluster' experiment\n",
    "\n",
    "from ParticleSystem import ParticleSystem\n",
    "import pandas as pd\n",
    "import os\n",
    "import random\n",
    "\n",
    "WORLD_WIDTH = 300\n",
    "WORLD_HEIGHT = 300\n",
    "DELTA = 0.0001\n",
    "MU = 0.4\n",
    "EPSILON = 0.9\n",
    "ALPHA = 0.8\n",
    "DOT_SIZE = 3\n",
    "MIDDLE_CLUSTER_SIZE = -1\n",
    "NUM_ITERATIONS = 10 ** 18\n",
    "INIT_REFRESH_RATE = 10\n",
    "INIT_PAUSED_STATUS = False\n",
    "\n",
    "file_name = f'M{MU}D{DELTA}E{EPSILON}A{ALPHA}_{WORLD_WIDTH}x{WORLD_HEIGHT}_first_cluster.xlsx'\n",
    "\n",
    "# Ensure the Excel file has the correct column headers if it doesn't exist\n",
    "if not os.path.isfile(file_name):\n",
    "    df = pd.DataFrame(columns=[\"Run ID\", \"num iterations\", 'MU', 'DELTA', 'EPSILON', 'ALPHA', 'WORLD_WIDTH', 'WORLD_HEIGHT'])\n",
    "    df.to_excel(file_name, index=False)  # Create the file with headers\n",
    "\n",
    "for i in range(200):\n",
    "\n",
    "    # randomize check_rate\n",
    "    curr_check_rate = int(random.uniform(50000, 55000))\n",
    "\n",
    "    world = ParticleSystem(\n",
    "        WORLD_WIDTH,\n",
    "        WORLD_HEIGHT,\n",
    "        DELTA,\n",
    "        MU,\n",
    "        EPSILON,\n",
    "        ALPHA,\n",
    "        DOT_SIZE,\n",
    "        MIDDLE_CLUSTER_SIZE,\n",
    "        NUM_ITERATIONS,\n",
    "        INIT_REFRESH_RATE,\n",
    "        INIT_PAUSED_STATUS\n",
    "    )\n",
    "\n",
    "    num_iterations_it_took = world.run_simulation_get_iteration_of_first_single_cluster(\n",
    "        refresh_rate=280, check_rate=curr_check_rate, init_render_status=False, first_check=500000,\n",
    "        min_cluster_size=500\n",
    "    )\n",
    "\n",
    "    # Append directly to the file (avoiding reading the whole file)\n",
    "    new_data = pd.DataFrame([[world.id, num_iterations_it_took, MU, DELTA, EPSILON, ALPHA, WORLD_WIDTH, WORLD_HEIGHT]], \n",
    "                            columns=[\"Run ID\", \"num iterations\", 'MU', 'DELTA', 'EPSILON', 'ALPHA', 'WORLD_WIDTH', 'WORLD_HEIGHT'])\n",
    "\n",
    "    with pd.ExcelWriter(file_name, mode='a', if_sheet_exists='overlay', engine='openpyxl') as writer:\n",
    "        new_data.to_excel(writer, index=False, header=False, startrow=writer.sheets['Sheet1'].max_row)\n",
    "\n",
    "    print(f'Finished World: {i} , Run id {world.id}')"
   ]
  }
 ],
 "metadata": {
  "kernelspec": {
   "display_name": "Python 3",
   "language": "python",
   "name": "python3"
  },
  "language_info": {
   "codemirror_mode": {
    "name": "ipython",
    "version": 3
   },
   "file_extension": ".py",
   "mimetype": "text/x-python",
   "name": "python",
   "nbconvert_exporter": "python",
   "pygments_lexer": "ipython3",
   "version": "3.11.9"
  }
 },
 "nbformat": 4,
 "nbformat_minor": 2
}
