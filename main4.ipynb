{
 "cells": [
  {
   "cell_type": "code",
   "execution_count": 1,
   "metadata": {},
   "outputs": [
    {
     "name": "stdout",
     "output_type": "stream",
     "text": [
      "    Run ID  num iterations\n",
      "0      442           50001\n",
      "1      444          290001\n",
      "2      445          680001\n",
      "3      447           95001\n",
      "4      443         1025001\n",
      "5      446          785001\n",
      "6      450           80001\n",
      "7      448          500001\n",
      "8      451          395001\n",
      "9      453          110001\n",
      "10     452          875001\n",
      "11     455         1895001\n",
      "12     456          200001\n",
      "13     454         2915001\n",
      "14     458         1370001\n",
      "15     449         5750001\n"
     ]
    }
   ],
   "source": [
    "import pandas as pd\n",
    "\n",
    "df = pd.read_excel('M0.4D0.0001E0.9A0.8_100x100_first_cluster.xlsx')\n",
    "print(df)"
   ]
  }
 ],
 "metadata": {
  "kernelspec": {
   "display_name": "Python 3",
   "language": "python",
   "name": "python3"
  },
  "language_info": {
   "codemirror_mode": {
    "name": "ipython",
    "version": 3
   },
   "file_extension": ".py",
   "mimetype": "text/x-python",
   "name": "python",
   "nbconvert_exporter": "python",
   "pygments_lexer": "ipython3",
   "version": "3.11.9"
  }
 },
 "nbformat": 4,
 "nbformat_minor": 2
}
