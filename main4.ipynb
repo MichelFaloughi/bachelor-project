{
 "cells": [
  {
   "cell_type": "code",
   "execution_count": 4,
   "metadata": {},
   "outputs": [
    {
     "name": "stdout",
     "output_type": "stream",
     "text": [
      "     Run ID  num iterations\n",
      "0       442           50001\n",
      "1       444          290001\n",
      "2       445          680001\n",
      "3       447           95001\n",
      "4       443         1025001\n",
      "..      ...             ...\n",
      "410     846         3740001\n",
      "411     854          260001\n",
      "412     853          335001\n",
      "413     858           95001\n",
      "414     857         1220001\n",
      "\n",
      "[415 rows x 2 columns]\n"
     ]
    }
   ],
   "source": [
    "import pandas as pd\n",
    "\n",
    "df = pd.read_excel('M0.4D0.0001E0.9A0.8_100x100_first_cluster.xlsx')\n",
    "print(df)"
   ]
  },
  {
   "cell_type": "code",
   "execution_count": 2,
   "metadata": {},
   "outputs": [
    {
     "data": {
      "application/vnd.plotly.v1+json": {
       "config": {
        "plotlyServerURL": "https://plot.ly"
       },
       "data": [
        {
         "hovertemplate": "Run ID=%{x}<br>num iterations=%{y}<extra></extra>",
         "legendgroup": "",
         "marker": {
          "color": "#636efa",
          "symbol": "circle"
         },
         "mode": "markers",
         "name": "",
         "orientation": "v",
         "showlegend": false,
         "type": "scatter",
         "x": [
          442,
          444,
          445,
          447,
          443,
          446,
          450,
          448,
          451,
          453,
          452,
          455,
          456,
          454,
          458,
          449,
          460,
          461,
          462,
          463,
          464,
          457,
          465,
          467,
          468,
          469,
          470,
          459,
          472,
          471,
          474,
          475,
          476,
          477,
          478,
          473,
          480,
          481,
          466,
          483,
          484,
          485,
          479,
          486,
          487,
          489,
          488,
          491,
          490,
          493,
          494,
          495,
          492,
          496,
          497,
          498,
          499,
          500,
          501,
          502,
          503,
          504,
          505,
          482,
          506,
          509,
          507,
          510,
          511,
          513,
          512,
          508,
          514,
          516,
          517,
          519,
          520,
          521,
          522,
          518,
          524,
          525,
          523,
          526,
          528,
          529,
          527,
          515,
          532,
          531,
          533,
          534,
          536,
          535,
          538,
          537,
          540,
          530,
          541,
          543,
          544,
          545,
          542,
          539,
          548,
          547,
          550,
          551,
          552,
          553,
          549,
          554,
          556,
          555,
          558,
          559,
          560,
          546,
          562,
          563,
          564,
          557,
          566,
          565,
          567,
          568,
          561,
          570,
          572,
          573,
          574,
          569,
          575,
          576,
          578,
          579,
          580,
          581,
          577,
          582,
          584,
          571,
          585,
          587,
          583,
          589,
          586,
          590,
          592,
          593,
          594,
          591,
          595,
          596,
          588,
          597,
          598,
          599,
          602,
          603,
          601,
          605,
          606,
          607,
          604,
          608,
          609,
          611,
          612,
          613,
          610,
          614,
          615,
          617,
          616,
          619,
          620,
          621,
          622,
          618,
          623,
          624,
          626,
          627,
          628,
          600,
          629,
          631,
          632,
          630,
          634,
          625,
          635,
          636,
          633,
          637,
          640,
          639,
          642,
          638,
          643,
          644,
          645,
          641,
          648,
          647,
          650,
          651,
          652,
          653,
          646,
          649,
          656,
          657,
          654,
          655,
          658,
          660,
          662,
          659,
          664,
          663,
          665,
          667,
          666,
          661,
          669,
          668,
          672,
          670,
          674,
          675,
          676,
          677,
          678,
          679,
          671,
          681,
          682,
          680,
          684,
          685,
          683,
          687,
          688,
          673,
          690,
          686,
          691,
          693,
          694,
          695,
          696,
          689,
          698,
          699,
          700,
          697,
          702,
          703,
          704,
          705,
          706,
          692,
          707,
          708,
          701,
          711,
          709,
          712,
          713,
          715,
          716,
          714,
          718,
          717,
          719,
          721,
          722,
          710,
          724,
          725,
          726,
          727,
          728,
          729,
          730,
          720,
          732,
          733,
          723,
          734,
          735,
          737,
          738,
          739,
          740,
          736,
          741,
          743,
          742,
          744,
          746,
          745,
          747,
          749,
          748,
          731,
          752,
          753,
          754,
          755,
          756,
          757,
          750,
          758,
          760,
          759,
          751,
          763,
          762,
          764,
          766,
          767,
          768,
          769,
          761,
          770,
          772,
          771,
          773,
          775,
          776,
          774,
          778,
          777,
          779,
          781,
          782,
          765,
          783,
          780,
          784,
          786,
          787,
          788,
          790,
          789,
          792,
          785,
          793,
          794,
          795,
          791,
          796,
          799,
          797,
          798,
          802,
          800,
          804,
          803,
          801,
          807,
          806,
          808,
          809,
          805,
          812,
          813,
          810,
          815,
          811,
          816,
          814,
          817,
          819,
          818,
          821,
          822,
          823,
          825,
          820,
          826,
          827,
          828,
          829,
          830,
          824,
          833,
          832,
          835,
          834,
          836,
          838,
          837,
          840,
          839,
          841,
          843,
          831,
          845,
          844,
          842,
          848,
          847
         ],
         "xaxis": "x",
         "y": [
          50001,
          290001,
          680001,
          95001,
          1025001,
          785001,
          80001,
          500001,
          395001,
          110001,
          875001,
          1895001,
          200001,
          2915001,
          1370001,
          5750001,
          695001,
          245001,
          80001,
          335001,
          1010001,
          4745001,
          95001,
          1070001,
          80001,
          830001,
          110001,
          5930001,
          170001,
          1445001,
          65001,
          470001,
          185001,
          155001,
          335001,
          2975001,
          65001,
          80001,
          8495001,
          140001,
          530001,
          500001,
          4955001,
          110001,
          95001,
          80001,
          140001,
          140001,
          215001,
          95001,
          200001,
          440001,
          830001,
          80001,
          110001,
          125001,
          80001,
          125001,
          125001,
          95001,
          95001,
          95001,
          65001,
          5570001,
          290001,
          140001,
          425001,
          110001,
          365001,
          140001,
          395001,
          1910001,
          1340001,
          245001,
          215001,
          470001,
          155001,
          155001,
          95001,
          1490001,
          95001,
          110001,
          1925001,
          1250001,
          185001,
          95001,
          1985001,
          6635001,
          140001,
          485001,
          185001,
          170001,
          80001,
          140001,
          335001,
          440001,
          590001,
          3350001,
          110001,
          110001,
          185001,
          65001,
          755001,
          1715001,
          95001,
          470001,
          110001,
          800001,
          140001,
          125001,
          1475001,
          815001,
          50001,
          995001,
          110001,
          110001,
          80001,
          3620001,
          110001,
          455001,
          125001,
          1310001,
          50001,
          170001,
          230001,
          185001,
          1070001,
          110001,
          155001,
          50001,
          140001,
          785001,
          890001,
          935001,
          1085001,
          125001,
          65001,
          605001,
          3050001,
          905001,
          125001,
          4730001,
          80001,
          335001,
          1565001,
          155001,
          1685001,
          890001,
          95001,
          125001,
          95001,
          965001,
          200001,
          200001,
          2510001,
          1460001,
          1505001,
          1655001,
          290001,
          245001,
          2240001,
          320001,
          80001,
          65001,
          2075001,
          155001,
          140001,
          125001,
          140001,
          125001,
          785001,
          680001,
          425001,
          95001,
          245001,
          95001,
          245001,
          200001,
          365001,
          1175001,
          260001,
          275001,
          65001,
          1520001,
          1580001,
          9320001,
          230001,
          965001,
          215001,
          1220001,
          140001,
          4970001,
          110001,
          110001,
          320001,
          680001,
          80001,
          2810001,
          650001,
          3470001,
          275001,
          605001,
          770001,
          4130001,
          80001,
          815001,
          1190001,
          140001,
          170001,
          140001,
          3200001,
          3050001,
          125001,
          485001,
          1550001,
          1910001,
          2300001,
          2060001,
          665001,
          3575001,
          245001,
          695001,
          425001,
          65001,
          590001,
          2315001,
          200001,
          1490001,
          605001,
          3500001,
          110001,
          65001,
          2090001,
          170001,
          65001,
          1115001,
          7235001,
          95001,
          485001,
          1505001,
          215001,
          230001,
          1955001,
          185001,
          155001,
          9335001,
          125001,
          2345001,
          575001,
          185001,
          710001,
          65001,
          155001,
          2795001,
          260001,
          110001,
          95001,
          620001,
          140001,
          140001,
          95001,
          785001,
          140001,
          4145001,
          710001,
          500001,
          2600001,
          455001,
          1145001,
          230001,
          305001,
          215001,
          230001,
          755001,
          95001,
          560001,
          740001,
          1235001,
          440001,
          4430001,
          65001,
          65001,
          515001,
          185001,
          920001,
          950001,
          1550001,
          6785001,
          65001,
          335001,
          5945001,
          890001,
          320001,
          125001,
          305001,
          185001,
          80001,
          1235001,
          605001,
          125001,
          320001,
          200001,
          140001,
          1205001,
          1340001,
          110001,
          455001,
          5375001,
          125001,
          230001,
          155001,
          470001,
          80001,
          380001,
          2180001,
          125001,
          65001,
          350001,
          2630001,
          200001,
          305001,
          320001,
          395001,
          125001,
          965001,
          215001,
          3005001,
          470001,
          500001,
          1025001,
          635001,
          125001,
          530001,
          860001,
          95001,
          125001,
          230001,
          125001,
          485001,
          5825001,
          545001,
          1670001,
          965001,
          485001,
          125001,
          140001,
          500001,
          605001,
          80001,
          1640001,
          65001,
          110001,
          380001,
          620001,
          980001,
          125001,
          980001,
          1655001,
          440001,
          1400001,
          80001,
          425001,
          3050001,
          230001,
          2975001,
          1505001,
          440001,
          8315001,
          125001,
          260001,
          5900001,
          95001,
          6275001,
          530001,
          1670001,
          515001,
          170001,
          500001,
          125001,
          215001,
          1100001,
          125001,
          1460001,
          125001,
          140001,
          110001,
          725001,
          1280001,
          2630001,
          155001,
          305001,
          125001,
          200001,
          125001,
          95001,
          770001,
          755001,
          2420001,
          2045001,
          95001,
          5015001,
          50001,
          500001,
          3290001,
          80001,
          2345001
         ],
         "yaxis": "y"
        }
       ],
       "layout": {
        "legend": {
         "tracegroupgap": 0
        },
        "margin": {
         "t": 60
        },
        "template": {
         "data": {
          "bar": [
           {
            "error_x": {
             "color": "#2a3f5f"
            },
            "error_y": {
             "color": "#2a3f5f"
            },
            "marker": {
             "line": {
              "color": "#E5ECF6",
              "width": 0.5
             },
             "pattern": {
              "fillmode": "overlay",
              "size": 10,
              "solidity": 0.2
             }
            },
            "type": "bar"
           }
          ],
          "barpolar": [
           {
            "marker": {
             "line": {
              "color": "#E5ECF6",
              "width": 0.5
             },
             "pattern": {
              "fillmode": "overlay",
              "size": 10,
              "solidity": 0.2
             }
            },
            "type": "barpolar"
           }
          ],
          "carpet": [
           {
            "aaxis": {
             "endlinecolor": "#2a3f5f",
             "gridcolor": "white",
             "linecolor": "white",
             "minorgridcolor": "white",
             "startlinecolor": "#2a3f5f"
            },
            "baxis": {
             "endlinecolor": "#2a3f5f",
             "gridcolor": "white",
             "linecolor": "white",
             "minorgridcolor": "white",
             "startlinecolor": "#2a3f5f"
            },
            "type": "carpet"
           }
          ],
          "choropleth": [
           {
            "colorbar": {
             "outlinewidth": 0,
             "ticks": ""
            },
            "type": "choropleth"
           }
          ],
          "contour": [
           {
            "colorbar": {
             "outlinewidth": 0,
             "ticks": ""
            },
            "colorscale": [
             [
              0,
              "#0d0887"
             ],
             [
              0.1111111111111111,
              "#46039f"
             ],
             [
              0.2222222222222222,
              "#7201a8"
             ],
             [
              0.3333333333333333,
              "#9c179e"
             ],
             [
              0.4444444444444444,
              "#bd3786"
             ],
             [
              0.5555555555555556,
              "#d8576b"
             ],
             [
              0.6666666666666666,
              "#ed7953"
             ],
             [
              0.7777777777777778,
              "#fb9f3a"
             ],
             [
              0.8888888888888888,
              "#fdca26"
             ],
             [
              1,
              "#f0f921"
             ]
            ],
            "type": "contour"
           }
          ],
          "contourcarpet": [
           {
            "colorbar": {
             "outlinewidth": 0,
             "ticks": ""
            },
            "type": "contourcarpet"
           }
          ],
          "heatmap": [
           {
            "colorbar": {
             "outlinewidth": 0,
             "ticks": ""
            },
            "colorscale": [
             [
              0,
              "#0d0887"
             ],
             [
              0.1111111111111111,
              "#46039f"
             ],
             [
              0.2222222222222222,
              "#7201a8"
             ],
             [
              0.3333333333333333,
              "#9c179e"
             ],
             [
              0.4444444444444444,
              "#bd3786"
             ],
             [
              0.5555555555555556,
              "#d8576b"
             ],
             [
              0.6666666666666666,
              "#ed7953"
             ],
             [
              0.7777777777777778,
              "#fb9f3a"
             ],
             [
              0.8888888888888888,
              "#fdca26"
             ],
             [
              1,
              "#f0f921"
             ]
            ],
            "type": "heatmap"
           }
          ],
          "heatmapgl": [
           {
            "colorbar": {
             "outlinewidth": 0,
             "ticks": ""
            },
            "colorscale": [
             [
              0,
              "#0d0887"
             ],
             [
              0.1111111111111111,
              "#46039f"
             ],
             [
              0.2222222222222222,
              "#7201a8"
             ],
             [
              0.3333333333333333,
              "#9c179e"
             ],
             [
              0.4444444444444444,
              "#bd3786"
             ],
             [
              0.5555555555555556,
              "#d8576b"
             ],
             [
              0.6666666666666666,
              "#ed7953"
             ],
             [
              0.7777777777777778,
              "#fb9f3a"
             ],
             [
              0.8888888888888888,
              "#fdca26"
             ],
             [
              1,
              "#f0f921"
             ]
            ],
            "type": "heatmapgl"
           }
          ],
          "histogram": [
           {
            "marker": {
             "pattern": {
              "fillmode": "overlay",
              "size": 10,
              "solidity": 0.2
             }
            },
            "type": "histogram"
           }
          ],
          "histogram2d": [
           {
            "colorbar": {
             "outlinewidth": 0,
             "ticks": ""
            },
            "colorscale": [
             [
              0,
              "#0d0887"
             ],
             [
              0.1111111111111111,
              "#46039f"
             ],
             [
              0.2222222222222222,
              "#7201a8"
             ],
             [
              0.3333333333333333,
              "#9c179e"
             ],
             [
              0.4444444444444444,
              "#bd3786"
             ],
             [
              0.5555555555555556,
              "#d8576b"
             ],
             [
              0.6666666666666666,
              "#ed7953"
             ],
             [
              0.7777777777777778,
              "#fb9f3a"
             ],
             [
              0.8888888888888888,
              "#fdca26"
             ],
             [
              1,
              "#f0f921"
             ]
            ],
            "type": "histogram2d"
           }
          ],
          "histogram2dcontour": [
           {
            "colorbar": {
             "outlinewidth": 0,
             "ticks": ""
            },
            "colorscale": [
             [
              0,
              "#0d0887"
             ],
             [
              0.1111111111111111,
              "#46039f"
             ],
             [
              0.2222222222222222,
              "#7201a8"
             ],
             [
              0.3333333333333333,
              "#9c179e"
             ],
             [
              0.4444444444444444,
              "#bd3786"
             ],
             [
              0.5555555555555556,
              "#d8576b"
             ],
             [
              0.6666666666666666,
              "#ed7953"
             ],
             [
              0.7777777777777778,
              "#fb9f3a"
             ],
             [
              0.8888888888888888,
              "#fdca26"
             ],
             [
              1,
              "#f0f921"
             ]
            ],
            "type": "histogram2dcontour"
           }
          ],
          "mesh3d": [
           {
            "colorbar": {
             "outlinewidth": 0,
             "ticks": ""
            },
            "type": "mesh3d"
           }
          ],
          "parcoords": [
           {
            "line": {
             "colorbar": {
              "outlinewidth": 0,
              "ticks": ""
             }
            },
            "type": "parcoords"
           }
          ],
          "pie": [
           {
            "automargin": true,
            "type": "pie"
           }
          ],
          "scatter": [
           {
            "fillpattern": {
             "fillmode": "overlay",
             "size": 10,
             "solidity": 0.2
            },
            "type": "scatter"
           }
          ],
          "scatter3d": [
           {
            "line": {
             "colorbar": {
              "outlinewidth": 0,
              "ticks": ""
             }
            },
            "marker": {
             "colorbar": {
              "outlinewidth": 0,
              "ticks": ""
             }
            },
            "type": "scatter3d"
           }
          ],
          "scattercarpet": [
           {
            "marker": {
             "colorbar": {
              "outlinewidth": 0,
              "ticks": ""
             }
            },
            "type": "scattercarpet"
           }
          ],
          "scattergeo": [
           {
            "marker": {
             "colorbar": {
              "outlinewidth": 0,
              "ticks": ""
             }
            },
            "type": "scattergeo"
           }
          ],
          "scattergl": [
           {
            "marker": {
             "colorbar": {
              "outlinewidth": 0,
              "ticks": ""
             }
            },
            "type": "scattergl"
           }
          ],
          "scattermapbox": [
           {
            "marker": {
             "colorbar": {
              "outlinewidth": 0,
              "ticks": ""
             }
            },
            "type": "scattermapbox"
           }
          ],
          "scatterpolar": [
           {
            "marker": {
             "colorbar": {
              "outlinewidth": 0,
              "ticks": ""
             }
            },
            "type": "scatterpolar"
           }
          ],
          "scatterpolargl": [
           {
            "marker": {
             "colorbar": {
              "outlinewidth": 0,
              "ticks": ""
             }
            },
            "type": "scatterpolargl"
           }
          ],
          "scatterternary": [
           {
            "marker": {
             "colorbar": {
              "outlinewidth": 0,
              "ticks": ""
             }
            },
            "type": "scatterternary"
           }
          ],
          "surface": [
           {
            "colorbar": {
             "outlinewidth": 0,
             "ticks": ""
            },
            "colorscale": [
             [
              0,
              "#0d0887"
             ],
             [
              0.1111111111111111,
              "#46039f"
             ],
             [
              0.2222222222222222,
              "#7201a8"
             ],
             [
              0.3333333333333333,
              "#9c179e"
             ],
             [
              0.4444444444444444,
              "#bd3786"
             ],
             [
              0.5555555555555556,
              "#d8576b"
             ],
             [
              0.6666666666666666,
              "#ed7953"
             ],
             [
              0.7777777777777778,
              "#fb9f3a"
             ],
             [
              0.8888888888888888,
              "#fdca26"
             ],
             [
              1,
              "#f0f921"
             ]
            ],
            "type": "surface"
           }
          ],
          "table": [
           {
            "cells": {
             "fill": {
              "color": "#EBF0F8"
             },
             "line": {
              "color": "white"
             }
            },
            "header": {
             "fill": {
              "color": "#C8D4E3"
             },
             "line": {
              "color": "white"
             }
            },
            "type": "table"
           }
          ]
         },
         "layout": {
          "annotationdefaults": {
           "arrowcolor": "#2a3f5f",
           "arrowhead": 0,
           "arrowwidth": 1
          },
          "autotypenumbers": "strict",
          "coloraxis": {
           "colorbar": {
            "outlinewidth": 0,
            "ticks": ""
           }
          },
          "colorscale": {
           "diverging": [
            [
             0,
             "#8e0152"
            ],
            [
             0.1,
             "#c51b7d"
            ],
            [
             0.2,
             "#de77ae"
            ],
            [
             0.3,
             "#f1b6da"
            ],
            [
             0.4,
             "#fde0ef"
            ],
            [
             0.5,
             "#f7f7f7"
            ],
            [
             0.6,
             "#e6f5d0"
            ],
            [
             0.7,
             "#b8e186"
            ],
            [
             0.8,
             "#7fbc41"
            ],
            [
             0.9,
             "#4d9221"
            ],
            [
             1,
             "#276419"
            ]
           ],
           "sequential": [
            [
             0,
             "#0d0887"
            ],
            [
             0.1111111111111111,
             "#46039f"
            ],
            [
             0.2222222222222222,
             "#7201a8"
            ],
            [
             0.3333333333333333,
             "#9c179e"
            ],
            [
             0.4444444444444444,
             "#bd3786"
            ],
            [
             0.5555555555555556,
             "#d8576b"
            ],
            [
             0.6666666666666666,
             "#ed7953"
            ],
            [
             0.7777777777777778,
             "#fb9f3a"
            ],
            [
             0.8888888888888888,
             "#fdca26"
            ],
            [
             1,
             "#f0f921"
            ]
           ],
           "sequentialminus": [
            [
             0,
             "#0d0887"
            ],
            [
             0.1111111111111111,
             "#46039f"
            ],
            [
             0.2222222222222222,
             "#7201a8"
            ],
            [
             0.3333333333333333,
             "#9c179e"
            ],
            [
             0.4444444444444444,
             "#bd3786"
            ],
            [
             0.5555555555555556,
             "#d8576b"
            ],
            [
             0.6666666666666666,
             "#ed7953"
            ],
            [
             0.7777777777777778,
             "#fb9f3a"
            ],
            [
             0.8888888888888888,
             "#fdca26"
            ],
            [
             1,
             "#f0f921"
            ]
           ]
          },
          "colorway": [
           "#636efa",
           "#EF553B",
           "#00cc96",
           "#ab63fa",
           "#FFA15A",
           "#19d3f3",
           "#FF6692",
           "#B6E880",
           "#FF97FF",
           "#FECB52"
          ],
          "font": {
           "color": "#2a3f5f"
          },
          "geo": {
           "bgcolor": "white",
           "lakecolor": "white",
           "landcolor": "#E5ECF6",
           "showlakes": true,
           "showland": true,
           "subunitcolor": "white"
          },
          "hoverlabel": {
           "align": "left"
          },
          "hovermode": "closest",
          "mapbox": {
           "style": "light"
          },
          "paper_bgcolor": "white",
          "plot_bgcolor": "#E5ECF6",
          "polar": {
           "angularaxis": {
            "gridcolor": "white",
            "linecolor": "white",
            "ticks": ""
           },
           "bgcolor": "#E5ECF6",
           "radialaxis": {
            "gridcolor": "white",
            "linecolor": "white",
            "ticks": ""
           }
          },
          "scene": {
           "xaxis": {
            "backgroundcolor": "#E5ECF6",
            "gridcolor": "white",
            "gridwidth": 2,
            "linecolor": "white",
            "showbackground": true,
            "ticks": "",
            "zerolinecolor": "white"
           },
           "yaxis": {
            "backgroundcolor": "#E5ECF6",
            "gridcolor": "white",
            "gridwidth": 2,
            "linecolor": "white",
            "showbackground": true,
            "ticks": "",
            "zerolinecolor": "white"
           },
           "zaxis": {
            "backgroundcolor": "#E5ECF6",
            "gridcolor": "white",
            "gridwidth": 2,
            "linecolor": "white",
            "showbackground": true,
            "ticks": "",
            "zerolinecolor": "white"
           }
          },
          "shapedefaults": {
           "line": {
            "color": "#2a3f5f"
           }
          },
          "ternary": {
           "aaxis": {
            "gridcolor": "white",
            "linecolor": "white",
            "ticks": ""
           },
           "baxis": {
            "gridcolor": "white",
            "linecolor": "white",
            "ticks": ""
           },
           "bgcolor": "#E5ECF6",
           "caxis": {
            "gridcolor": "white",
            "linecolor": "white",
            "ticks": ""
           }
          },
          "title": {
           "x": 0.05
          },
          "xaxis": {
           "automargin": true,
           "gridcolor": "white",
           "linecolor": "white",
           "ticks": "",
           "title": {
            "standoff": 15
           },
           "zerolinecolor": "white",
           "zerolinewidth": 2
          },
          "yaxis": {
           "automargin": true,
           "gridcolor": "white",
           "linecolor": "white",
           "ticks": "",
           "title": {
            "standoff": 15
           },
           "zerolinecolor": "white",
           "zerolinewidth": 2
          }
         }
        },
        "xaxis": {
         "anchor": "y",
         "domain": [
          0,
          1
         ],
         "title": {
          "text": "Run ID"
         }
        },
        "yaxis": {
         "anchor": "x",
         "domain": [
          0,
          1
         ],
         "title": {
          "text": "num iterations"
         }
        }
       }
      }
     },
     "metadata": {},
     "output_type": "display_data"
    }
   ],
   "source": [
    "import plotly.express as px\n",
    "\n",
    "fig = px.scatter(df, x='Run ID', y='num iterations')\n",
    "fig.show()"
   ]
  },
  {
   "cell_type": "code",
   "execution_count": null,
   "metadata": {},
   "outputs": [],
   "source": [
    "# and make sure to make the visualizations with bins hek you also kinda see the pmf/pdf\n",
    "# of the distributions of the runs."
   ]
  }
 ],
 "metadata": {
  "kernelspec": {
   "display_name": "Python 3",
   "language": "python",
   "name": "python3"
  },
  "language_info": {
   "codemirror_mode": {
    "name": "ipython",
    "version": 3
   },
   "file_extension": ".py",
   "mimetype": "text/x-python",
   "name": "python",
   "nbconvert_exporter": "python",
   "pygments_lexer": "ipython3",
   "version": "3.11.9"
  }
 },
 "nbformat": 4,
 "nbformat_minor": 2
}
