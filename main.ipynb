{
 "cells": [
  {
   "cell_type": "code",
   "execution_count": 11,
   "metadata": {},
   "outputs": [
    {
     "name": "stdout",
     "output_type": "stream",
     "text": [
      "Mus: [0.  0.1 0.2 0.3 0.4 0.5 0.6]\n",
      "Deltas: [1.e-02 1.e-03 1.e-04 1.e-05]\n",
      "Epsilons: [0.7 0.8 0.9 1.  1.1]\n",
      "Alphas: [0.1 0.2 0.3 0.4 0.5 0.6 0.7 0.8 0.9 1. ]\n",
      "num iterations: 1400\n"
     ]
    }
   ],
   "source": [
    "import numpy as np\n",
    "\n",
    "# Fix these ranges, not all is interesting everywhere\n",
    "mus = np.arange(0, 0.7, 0.1)  \n",
    "deltas = np.array([0.01, 0.001, 0.0001, 0.00001])\n",
    "epsilons = np.arange(0.7, 1.1, 0.1)  \n",
    "alphas = np.arange(0.1, 1.1, 0.1)\n",
    "\n",
    "\n",
    "print(f'Mus: {mus}')\n",
    "print(f'Deltas: {deltas}')\n",
    "print(f'Epsilons: {epsilons}')\n",
    "print(f'Alphas: {alphas}')\n",
    "\n",
    "# for mu in mus:\n",
    "#     for delta in deltas:\n",
    "#         for epsilon in epsilons:\n",
    "#             for alpha in alphas:\n",
    "\n",
    "#                 # Check for time T where the system's clusteredness is stationary\n",
    "#                 print('hi')\n",
    "\n",
    "print(f'num iterations: {len(mus)*len(deltas)*len(epsilons)*len(alphas)}')\n"
   ]
  },
  {
   "cell_type": "code",
   "execution_count": 2,
   "metadata": {},
   "outputs": [
    {
     "ename": "KeyboardInterrupt",
     "evalue": "",
     "output_type": "error",
     "traceback": [
      "\u001b[1;31m---------------------------------------------------------------------------\u001b[0m",
      "\u001b[1;31mKeyboardInterrupt\u001b[0m                         Traceback (most recent call last)",
      "Cell \u001b[1;32mIn[2], line 37\u001b[0m\n\u001b[0;32m     21\u001b[0m \u001b[38;5;28;01mfor\u001b[39;00m MU \u001b[38;5;129;01min\u001b[39;00m MUS:\n\u001b[0;32m     23\u001b[0m     world \u001b[38;5;241m=\u001b[39m ParticleSystem(\n\u001b[0;32m     24\u001b[0m         WORLD_WIDTH,\n\u001b[0;32m     25\u001b[0m         WORLD_HEIGHT,\n\u001b[1;32m   (...)\u001b[0m\n\u001b[0;32m     34\u001b[0m         INIT_PAUSED_STATUS\n\u001b[0;32m     35\u001b[0m     )\n\u001b[1;32m---> 37\u001b[0m     T \u001b[38;5;241m=\u001b[39m \u001b[43mworld\u001b[49m\u001b[38;5;241;43m.\u001b[39;49m\u001b[43mrun_simulation\u001b[49m\u001b[43m(\u001b[49m\u001b[43m)\u001b[49m\n\u001b[0;32m     39\u001b[0m     results\u001b[38;5;241m.\u001b[39mappend({\u001b[38;5;124m'\u001b[39m\u001b[38;5;124mmu\u001b[39m\u001b[38;5;124m'\u001b[39m: MU, \u001b[38;5;124m'\u001b[39m\u001b[38;5;124mT\u001b[39m\u001b[38;5;124m'\u001b[39m: T})\n\u001b[0;32m     40\u001b[0m     \u001b[38;5;28mprint\u001b[39m(\u001b[38;5;124mf\u001b[39m\u001b[38;5;124m'\u001b[39m\u001b[38;5;124mDone for mu = \u001b[39m\u001b[38;5;132;01m{\u001b[39;00mMU\u001b[38;5;132;01m}\u001b[39;00m\u001b[38;5;124m, T = \u001b[39m\u001b[38;5;132;01m{\u001b[39;00mT\u001b[38;5;132;01m}\u001b[39;00m\u001b[38;5;124m'\u001b[39m)\n",
      "File \u001b[1;32mc:\\Users\\MichelFaloughi\\OneDrive - Count Energy Trading BV\\Other\\Bachelor Project\\Python\\ParticleSystem.py:241\u001b[0m, in \u001b[0;36mParticleSystem.run_simulation\u001b[1;34m(self)\u001b[0m\n\u001b[0;32m    238\u001b[0m         text_surface \u001b[38;5;241m=\u001b[39m font\u001b[38;5;241m.\u001b[39mrender(\u001b[38;5;124mf\u001b[39m\u001b[38;5;124m\"\u001b[39m\u001b[38;5;124mIteration: \u001b[39m\u001b[38;5;132;01m{\u001b[39;00mcurrent_iteration\u001b[38;5;250m \u001b[39m\u001b[38;5;241m+\u001b[39m\u001b[38;5;250m \u001b[39m\u001b[38;5;241m1\u001b[39m\u001b[38;5;132;01m}\u001b[39;00m\u001b[38;5;124m/\u001b[39m\u001b[38;5;132;01m{\u001b[39;00m\u001b[38;5;28mself\u001b[39m\u001b[38;5;241m.\u001b[39mnum_iterations\u001b[38;5;132;01m}\u001b[39;00m\u001b[38;5;124m\"\u001b[39m, \u001b[38;5;28;01mTrue\u001b[39;00m, (\u001b[38;5;241m255\u001b[39m, \u001b[38;5;241m0\u001b[39m, \u001b[38;5;241m0\u001b[39m))\n\u001b[0;32m    239\u001b[0m         \u001b[38;5;28mself\u001b[39m\u001b[38;5;241m.\u001b[39mscreen\u001b[38;5;241m.\u001b[39mblit(text_surface, (\u001b[38;5;241m10\u001b[39m, \u001b[38;5;241m10\u001b[39m))  \u001b[38;5;66;03m# Draw iteration count on top\u001b[39;00m\n\u001b[1;32m--> 241\u001b[0m         \u001b[43mpygame\u001b[49m\u001b[38;5;241;43m.\u001b[39;49m\u001b[43mdisplay\u001b[49m\u001b[38;5;241;43m.\u001b[39;49m\u001b[43mupdate\u001b[49m\u001b[43m(\u001b[49m\u001b[43m)\u001b[49m  \u001b[38;5;66;03m# Update display with iteration count visible\u001b[39;00m\n\u001b[0;32m    242\u001b[0m         \u001b[38;5;28mself\u001b[39m\u001b[38;5;241m.\u001b[39mnum_updates \u001b[38;5;241m=\u001b[39m \u001b[38;5;241m0\u001b[39m\n\u001b[0;32m    244\u001b[0m \u001b[38;5;66;03m# I can keep the counter but not the world if you want, up to you prof Stauffer\u001b[39;00m\n",
      "\u001b[1;31mKeyboardInterrupt\u001b[0m: "
     ]
    },
    {
     "ename": "",
     "evalue": "",
     "output_type": "error",
     "traceback": [
      "\u001b[1;31mThe Kernel crashed while executing code in the current cell or a previous cell. \n",
      "\u001b[1;31mPlease review the code in the cell(s) to identify a possible cause of the failure. \n",
      "\u001b[1;31mClick <a href='https://aka.ms/vscodeJupyterKernelCrash'>here</a> for more info. \n",
      "\u001b[1;31mView Jupyter <a href='command:jupyter.viewOutput'>log</a> for further details."
     ]
    }
   ],
   "source": [
    "# I CAN'T HAVE MU 0 DUMBASSSSSSS\n",
    "\n",
    "from ParticleSystem import ParticleSystem\n",
    "import pandas as pd\n",
    "import numpy as np \n",
    "\n",
    "WORLD_WIDTH = 300 # 90 # 200 # 20\n",
    "WORLD_HEIGHT = 300 # 90 # 200 # 20\n",
    "DELTA = 0.0001 # 0.001 # 0.01 # 0.1 # probability to change direction\n",
    "MUS = np.arange(0.1, 0.7, 0.1)  \n",
    "EPSILON = 0.9 # probability to just follow the nomral direction for one iteration (and not randomly move)\n",
    "ALPHA = 0.8 # probability to be an active (normal) particle\n",
    "DOT_SIZE = 3 # 10 # 4\n",
    "MIDDLE_CLUSTER_SIZE = -1 # 10\n",
    "NUM_ITERATIONS =  100000000000000000000 # None # 10000\n",
    "INIT_REFRESH_RATE = 10 # 100\n",
    "INIT_PAUSED_STATUS = False\n",
    "\n",
    "results = []\n",
    "\n",
    "for MU in MUS:\n",
    "\n",
    "    world = ParticleSystem(\n",
    "        WORLD_WIDTH,\n",
    "        WORLD_HEIGHT,\n",
    "        DELTA,\n",
    "        MU,\n",
    "        EPSILON, \n",
    "        ALPHA,\n",
    "        DOT_SIZE,\n",
    "        MIDDLE_CLUSTER_SIZE,\n",
    "        NUM_ITERATIONS,\n",
    "        INIT_REFRESH_RATE,\n",
    "        INIT_PAUSED_STATUS\n",
    "    )\n",
    "\n",
    "    T = world.run_simulation()\n",
    "\n",
    "    results.append({'mu': MU, 'T': T})\n",
    "    print(f'Done for mu = {MU}, T = {T}')\n",
    "\n",
    "results_df = pd.DataFrame(results)\n",
    "\n",
    "results_df.to_csv('latest_latest_run.csv')"
   ]
  },
  {
   "cell_type": "code",
   "execution_count": 6,
   "metadata": {},
   "outputs": [
    {
     "ename": "IndexError",
     "evalue": "Cannot choose from an empty sequence",
     "output_type": "error",
     "traceback": [
      "\u001b[1;31m---------------------------------------------------------------------------\u001b[0m",
      "\u001b[1;31mIndexError\u001b[0m                                Traceback (most recent call last)",
      "Cell \u001b[1;32mIn[6], line 29\u001b[0m\n\u001b[0;32m     14\u001b[0m \u001b[38;5;28;01mfor\u001b[39;00m mu \u001b[38;5;129;01min\u001b[39;00m mus:\n\u001b[0;32m     15\u001b[0m     world \u001b[38;5;241m=\u001b[39m ParticleSystem(\n\u001b[0;32m     16\u001b[0m         \u001b[38;5;241m300\u001b[39m, \u001b[38;5;66;03m# width\u001b[39;00m\n\u001b[0;32m     17\u001b[0m         \u001b[38;5;241m300\u001b[39m, \u001b[38;5;66;03m# height\u001b[39;00m\n\u001b[1;32m   (...)\u001b[0m\n\u001b[0;32m     26\u001b[0m         \u001b[38;5;28;01mFalse\u001b[39;00m \u001b[38;5;66;03m# init paused status\u001b[39;00m\n\u001b[0;32m     27\u001b[0m     )\n\u001b[1;32m---> 29\u001b[0m     T \u001b[38;5;241m=\u001b[39m \u001b[43mworld\u001b[49m\u001b[38;5;241;43m.\u001b[39;49m\u001b[43mrun_simulation\u001b[49m\u001b[43m(\u001b[49m\u001b[43m)\u001b[49m\n\u001b[0;32m     31\u001b[0m     results\u001b[38;5;241m.\u001b[39mappend({\u001b[38;5;124m'\u001b[39m\u001b[38;5;124mmu\u001b[39m\u001b[38;5;124m'\u001b[39m: mu, \u001b[38;5;124m'\u001b[39m\u001b[38;5;124mT\u001b[39m\u001b[38;5;124m'\u001b[39m: T})\n\u001b[0;32m     32\u001b[0m     \u001b[38;5;28mprint\u001b[39m(\u001b[38;5;124mf\u001b[39m\u001b[38;5;124m'\u001b[39m\u001b[38;5;124mDone for mu = \u001b[39m\u001b[38;5;132;01m{\u001b[39;00mmu\u001b[38;5;132;01m}\u001b[39;00m\u001b[38;5;124m, T = \u001b[39m\u001b[38;5;132;01m{\u001b[39;00mT\u001b[38;5;132;01m}\u001b[39;00m\u001b[38;5;124m'\u001b[39m)\n",
      "File \u001b[1;32mc:\\Users\\MichelFaloughi\\OneDrive - Count Energy Trading BV\\Other\\Bachelor Project\\Python\\ParticleSystem.py:224\u001b[0m, in \u001b[0;36mParticleSystem.run_simulation\u001b[1;34m(self)\u001b[0m\n\u001b[0;32m    222\u001b[0m \u001b[38;5;66;03m# Update particles\u001b[39;00m\n\u001b[0;32m    223\u001b[0m \u001b[38;5;28;01mfor\u001b[39;00m _ \u001b[38;5;129;01min\u001b[39;00m \u001b[38;5;28mrange\u001b[39m(\u001b[38;5;28mself\u001b[39m\u001b[38;5;241m.\u001b[39mrefresh_rate):\n\u001b[1;32m--> 224\u001b[0m     p \u001b[38;5;241m=\u001b[39m \u001b[43mrandom\u001b[49m\u001b[38;5;241;43m.\u001b[39;49m\u001b[43mchoice\u001b[49m\u001b[43m(\u001b[49m\u001b[38;5;28;43mself\u001b[39;49m\u001b[38;5;241;43m.\u001b[39;49m\u001b[43mparticles\u001b[49m\u001b[43m)\u001b[49m\n\u001b[0;32m    225\u001b[0m     p\u001b[38;5;241m.\u001b[39mupdate_particle(\u001b[38;5;28mself\u001b[39m\u001b[38;5;241m.\u001b[39mdelta, \u001b[38;5;28mself\u001b[39m\u001b[38;5;241m.\u001b[39mepsilon)\n\u001b[0;32m    226\u001b[0m \u001b[38;5;28mself\u001b[39m\u001b[38;5;241m.\u001b[39mnum_updates \u001b[38;5;241m+\u001b[39m\u001b[38;5;241m=\u001b[39m \u001b[38;5;241m1\u001b[39m\n",
      "File \u001b[1;32mc:\\Users\\MichelFaloughi\\AppData\\Local\\Programs\\Python\\Python311\\Lib\\random.py:373\u001b[0m, in \u001b[0;36mRandom.choice\u001b[1;34m(self, seq)\u001b[0m\n\u001b[0;32m    370\u001b[0m \u001b[38;5;66;03m# As an accommodation for NumPy, we don't use \"if not seq\"\u001b[39;00m\n\u001b[0;32m    371\u001b[0m \u001b[38;5;66;03m# because bool(numpy.array()) raises a ValueError.\u001b[39;00m\n\u001b[0;32m    372\u001b[0m \u001b[38;5;28;01mif\u001b[39;00m \u001b[38;5;129;01mnot\u001b[39;00m \u001b[38;5;28mlen\u001b[39m(seq):\n\u001b[1;32m--> 373\u001b[0m     \u001b[38;5;28;01mraise\u001b[39;00m \u001b[38;5;167;01mIndexError\u001b[39;00m(\u001b[38;5;124m'\u001b[39m\u001b[38;5;124mCannot choose from an empty sequence\u001b[39m\u001b[38;5;124m'\u001b[39m)\n\u001b[0;32m    374\u001b[0m \u001b[38;5;28;01mreturn\u001b[39;00m seq[\u001b[38;5;28mself\u001b[39m\u001b[38;5;241m.\u001b[39m_randbelow(\u001b[38;5;28mlen\u001b[39m(seq))]\n",
      "\u001b[1;31mIndexError\u001b[0m: Cannot choose from an empty sequence"
     ]
    }
   ],
   "source": [
    "# so maybe in a first instance we just vary mu, see how the plots come then vary other parameters\n",
    "# the plot of the data will be mu on the x axis and T on the y axis where T is the time where the system becomes 'converged'\n",
    "import numpy as np\n",
    "from ParticleSystem import ParticleSystem\n",
    "import pandas as pd \n",
    "\n",
    "mus = np.arange(0, 0.7, 0.1)  \n",
    "delta = 0.0001\n",
    "epsilon = 0.9\n",
    "alpha = 0.8\n",
    "\n",
    "results = []\n",
    "\n",
    "for mu in mus:\n",
    "    world = ParticleSystem(\n",
    "        300, # width\n",
    "        300, # height\n",
    "        delta,\n",
    "        mu,\n",
    "        epsilon, \n",
    "        alpha,\n",
    "        3, # dot_size\n",
    "        -1, # middle cluster size\n",
    "        1000000000000000000000000000, # num iterations\n",
    "        150, # init refresh rate\n",
    "        False # init paused status\n",
    "    )\n",
    "\n",
    "    T = world.run_simulation()\n",
    "\n",
    "    results.append({'mu': mu, 'T': T})\n",
    "    print(f'Done for mu = {mu}, T = {T}')\n",
    "\n",
    "results_df = pd.DataFrame(results)\n",
    "\n",
    "results_df.to_csv('latest_latest_run.csv')\n",
    "    \n",
    "              "
   ]
  },
  {
   "cell_type": "code",
   "execution_count": null,
   "metadata": {},
   "outputs": [],
   "source": [
    " \n",
    "\n",
    "\n",
    "\n",
    "\n",
    "\n",
    "\n",
    "\n",
    "\n",
    "\n",
    "\n",
    "\n",
    "\n",
    "\n",
    "\n",
    "\n",
    "\n",
    "\n",
    "\n",
    "\n",
    "\n",
    "\n",
    "\n",
    "\n",
    "\n",
    "\n",
    "\n",
    "\n",
    "\n",
    "\n",
    "\n",
    "\n",
    "\n",
    "\n",
    "\n",
    "\n"
   ]
  },
  {
   "cell_type": "code",
   "execution_count": 1,
   "metadata": {},
   "outputs": [
    {
     "data": {
      "application/vnd.plotly.v1+json": {
       "config": {
        "plotlyServerURL": "https://plot.ly"
       },
       "data": [
        {
         "hovertemplate": "Iteration=%{x}<br>Cluster Cardinality=%{y}<extra></extra>",
         "legendgroup": "",
         "line": {
          "color": "#636efa",
          "dash": "solid"
         },
         "marker": {
          "symbol": "circle"
         },
         "mode": "lines",
         "name": "",
         "orientation": "v",
         "showlegend": false,
         "type": "scatter",
         "x": [
          0,
          100,
          200,
          300,
          400,
          500,
          600,
          700,
          800,
          900,
          999
         ],
         "xaxis": "x",
         "y": [
          21,
          16,
          50,
          48,
          44,
          46,
          49,
          75,
          93,
          76,
          37
         ],
         "yaxis": "y"
        }
       ],
       "layout": {
        "legend": {
         "tracegroupgap": 0
        },
        "template": {
         "data": {
          "bar": [
           {
            "error_x": {
             "color": "#2a3f5f"
            },
            "error_y": {
             "color": "#2a3f5f"
            },
            "marker": {
             "line": {
              "color": "#E5ECF6",
              "width": 0.5
             },
             "pattern": {
              "fillmode": "overlay",
              "size": 10,
              "solidity": 0.2
             }
            },
            "type": "bar"
           }
          ],
          "barpolar": [
           {
            "marker": {
             "line": {
              "color": "#E5ECF6",
              "width": 0.5
             },
             "pattern": {
              "fillmode": "overlay",
              "size": 10,
              "solidity": 0.2
             }
            },
            "type": "barpolar"
           }
          ],
          "carpet": [
           {
            "aaxis": {
             "endlinecolor": "#2a3f5f",
             "gridcolor": "white",
             "linecolor": "white",
             "minorgridcolor": "white",
             "startlinecolor": "#2a3f5f"
            },
            "baxis": {
             "endlinecolor": "#2a3f5f",
             "gridcolor": "white",
             "linecolor": "white",
             "minorgridcolor": "white",
             "startlinecolor": "#2a3f5f"
            },
            "type": "carpet"
           }
          ],
          "choropleth": [
           {
            "colorbar": {
             "outlinewidth": 0,
             "ticks": ""
            },
            "type": "choropleth"
           }
          ],
          "contour": [
           {
            "colorbar": {
             "outlinewidth": 0,
             "ticks": ""
            },
            "colorscale": [
             [
              0,
              "#0d0887"
             ],
             [
              0.1111111111111111,
              "#46039f"
             ],
             [
              0.2222222222222222,
              "#7201a8"
             ],
             [
              0.3333333333333333,
              "#9c179e"
             ],
             [
              0.4444444444444444,
              "#bd3786"
             ],
             [
              0.5555555555555556,
              "#d8576b"
             ],
             [
              0.6666666666666666,
              "#ed7953"
             ],
             [
              0.7777777777777778,
              "#fb9f3a"
             ],
             [
              0.8888888888888888,
              "#fdca26"
             ],
             [
              1,
              "#f0f921"
             ]
            ],
            "type": "contour"
           }
          ],
          "contourcarpet": [
           {
            "colorbar": {
             "outlinewidth": 0,
             "ticks": ""
            },
            "type": "contourcarpet"
           }
          ],
          "heatmap": [
           {
            "colorbar": {
             "outlinewidth": 0,
             "ticks": ""
            },
            "colorscale": [
             [
              0,
              "#0d0887"
             ],
             [
              0.1111111111111111,
              "#46039f"
             ],
             [
              0.2222222222222222,
              "#7201a8"
             ],
             [
              0.3333333333333333,
              "#9c179e"
             ],
             [
              0.4444444444444444,
              "#bd3786"
             ],
             [
              0.5555555555555556,
              "#d8576b"
             ],
             [
              0.6666666666666666,
              "#ed7953"
             ],
             [
              0.7777777777777778,
              "#fb9f3a"
             ],
             [
              0.8888888888888888,
              "#fdca26"
             ],
             [
              1,
              "#f0f921"
             ]
            ],
            "type": "heatmap"
           }
          ],
          "heatmapgl": [
           {
            "colorbar": {
             "outlinewidth": 0,
             "ticks": ""
            },
            "colorscale": [
             [
              0,
              "#0d0887"
             ],
             [
              0.1111111111111111,
              "#46039f"
             ],
             [
              0.2222222222222222,
              "#7201a8"
             ],
             [
              0.3333333333333333,
              "#9c179e"
             ],
             [
              0.4444444444444444,
              "#bd3786"
             ],
             [
              0.5555555555555556,
              "#d8576b"
             ],
             [
              0.6666666666666666,
              "#ed7953"
             ],
             [
              0.7777777777777778,
              "#fb9f3a"
             ],
             [
              0.8888888888888888,
              "#fdca26"
             ],
             [
              1,
              "#f0f921"
             ]
            ],
            "type": "heatmapgl"
           }
          ],
          "histogram": [
           {
            "marker": {
             "pattern": {
              "fillmode": "overlay",
              "size": 10,
              "solidity": 0.2
             }
            },
            "type": "histogram"
           }
          ],
          "histogram2d": [
           {
            "colorbar": {
             "outlinewidth": 0,
             "ticks": ""
            },
            "colorscale": [
             [
              0,
              "#0d0887"
             ],
             [
              0.1111111111111111,
              "#46039f"
             ],
             [
              0.2222222222222222,
              "#7201a8"
             ],
             [
              0.3333333333333333,
              "#9c179e"
             ],
             [
              0.4444444444444444,
              "#bd3786"
             ],
             [
              0.5555555555555556,
              "#d8576b"
             ],
             [
              0.6666666666666666,
              "#ed7953"
             ],
             [
              0.7777777777777778,
              "#fb9f3a"
             ],
             [
              0.8888888888888888,
              "#fdca26"
             ],
             [
              1,
              "#f0f921"
             ]
            ],
            "type": "histogram2d"
           }
          ],
          "histogram2dcontour": [
           {
            "colorbar": {
             "outlinewidth": 0,
             "ticks": ""
            },
            "colorscale": [
             [
              0,
              "#0d0887"
             ],
             [
              0.1111111111111111,
              "#46039f"
             ],
             [
              0.2222222222222222,
              "#7201a8"
             ],
             [
              0.3333333333333333,
              "#9c179e"
             ],
             [
              0.4444444444444444,
              "#bd3786"
             ],
             [
              0.5555555555555556,
              "#d8576b"
             ],
             [
              0.6666666666666666,
              "#ed7953"
             ],
             [
              0.7777777777777778,
              "#fb9f3a"
             ],
             [
              0.8888888888888888,
              "#fdca26"
             ],
             [
              1,
              "#f0f921"
             ]
            ],
            "type": "histogram2dcontour"
           }
          ],
          "mesh3d": [
           {
            "colorbar": {
             "outlinewidth": 0,
             "ticks": ""
            },
            "type": "mesh3d"
           }
          ],
          "parcoords": [
           {
            "line": {
             "colorbar": {
              "outlinewidth": 0,
              "ticks": ""
             }
            },
            "type": "parcoords"
           }
          ],
          "pie": [
           {
            "automargin": true,
            "type": "pie"
           }
          ],
          "scatter": [
           {
            "fillpattern": {
             "fillmode": "overlay",
             "size": 10,
             "solidity": 0.2
            },
            "type": "scatter"
           }
          ],
          "scatter3d": [
           {
            "line": {
             "colorbar": {
              "outlinewidth": 0,
              "ticks": ""
             }
            },
            "marker": {
             "colorbar": {
              "outlinewidth": 0,
              "ticks": ""
             }
            },
            "type": "scatter3d"
           }
          ],
          "scattercarpet": [
           {
            "marker": {
             "colorbar": {
              "outlinewidth": 0,
              "ticks": ""
             }
            },
            "type": "scattercarpet"
           }
          ],
          "scattergeo": [
           {
            "marker": {
             "colorbar": {
              "outlinewidth": 0,
              "ticks": ""
             }
            },
            "type": "scattergeo"
           }
          ],
          "scattergl": [
           {
            "marker": {
             "colorbar": {
              "outlinewidth": 0,
              "ticks": ""
             }
            },
            "type": "scattergl"
           }
          ],
          "scattermapbox": [
           {
            "marker": {
             "colorbar": {
              "outlinewidth": 0,
              "ticks": ""
             }
            },
            "type": "scattermapbox"
           }
          ],
          "scatterpolar": [
           {
            "marker": {
             "colorbar": {
              "outlinewidth": 0,
              "ticks": ""
             }
            },
            "type": "scatterpolar"
           }
          ],
          "scatterpolargl": [
           {
            "marker": {
             "colorbar": {
              "outlinewidth": 0,
              "ticks": ""
             }
            },
            "type": "scatterpolargl"
           }
          ],
          "scatterternary": [
           {
            "marker": {
             "colorbar": {
              "outlinewidth": 0,
              "ticks": ""
             }
            },
            "type": "scatterternary"
           }
          ],
          "surface": [
           {
            "colorbar": {
             "outlinewidth": 0,
             "ticks": ""
            },
            "colorscale": [
             [
              0,
              "#0d0887"
             ],
             [
              0.1111111111111111,
              "#46039f"
             ],
             [
              0.2222222222222222,
              "#7201a8"
             ],
             [
              0.3333333333333333,
              "#9c179e"
             ],
             [
              0.4444444444444444,
              "#bd3786"
             ],
             [
              0.5555555555555556,
              "#d8576b"
             ],
             [
              0.6666666666666666,
              "#ed7953"
             ],
             [
              0.7777777777777778,
              "#fb9f3a"
             ],
             [
              0.8888888888888888,
              "#fdca26"
             ],
             [
              1,
              "#f0f921"
             ]
            ],
            "type": "surface"
           }
          ],
          "table": [
           {
            "cells": {
             "fill": {
              "color": "#EBF0F8"
             },
             "line": {
              "color": "white"
             }
            },
            "header": {
             "fill": {
              "color": "#C8D4E3"
             },
             "line": {
              "color": "white"
             }
            },
            "type": "table"
           }
          ]
         },
         "layout": {
          "annotationdefaults": {
           "arrowcolor": "#2a3f5f",
           "arrowhead": 0,
           "arrowwidth": 1
          },
          "autotypenumbers": "strict",
          "coloraxis": {
           "colorbar": {
            "outlinewidth": 0,
            "ticks": ""
           }
          },
          "colorscale": {
           "diverging": [
            [
             0,
             "#8e0152"
            ],
            [
             0.1,
             "#c51b7d"
            ],
            [
             0.2,
             "#de77ae"
            ],
            [
             0.3,
             "#f1b6da"
            ],
            [
             0.4,
             "#fde0ef"
            ],
            [
             0.5,
             "#f7f7f7"
            ],
            [
             0.6,
             "#e6f5d0"
            ],
            [
             0.7,
             "#b8e186"
            ],
            [
             0.8,
             "#7fbc41"
            ],
            [
             0.9,
             "#4d9221"
            ],
            [
             1,
             "#276419"
            ]
           ],
           "sequential": [
            [
             0,
             "#0d0887"
            ],
            [
             0.1111111111111111,
             "#46039f"
            ],
            [
             0.2222222222222222,
             "#7201a8"
            ],
            [
             0.3333333333333333,
             "#9c179e"
            ],
            [
             0.4444444444444444,
             "#bd3786"
            ],
            [
             0.5555555555555556,
             "#d8576b"
            ],
            [
             0.6666666666666666,
             "#ed7953"
            ],
            [
             0.7777777777777778,
             "#fb9f3a"
            ],
            [
             0.8888888888888888,
             "#fdca26"
            ],
            [
             1,
             "#f0f921"
            ]
           ],
           "sequentialminus": [
            [
             0,
             "#0d0887"
            ],
            [
             0.1111111111111111,
             "#46039f"
            ],
            [
             0.2222222222222222,
             "#7201a8"
            ],
            [
             0.3333333333333333,
             "#9c179e"
            ],
            [
             0.4444444444444444,
             "#bd3786"
            ],
            [
             0.5555555555555556,
             "#d8576b"
            ],
            [
             0.6666666666666666,
             "#ed7953"
            ],
            [
             0.7777777777777778,
             "#fb9f3a"
            ],
            [
             0.8888888888888888,
             "#fdca26"
            ],
            [
             1,
             "#f0f921"
            ]
           ]
          },
          "colorway": [
           "#636efa",
           "#EF553B",
           "#00cc96",
           "#ab63fa",
           "#FFA15A",
           "#19d3f3",
           "#FF6692",
           "#B6E880",
           "#FF97FF",
           "#FECB52"
          ],
          "font": {
           "color": "#2a3f5f"
          },
          "geo": {
           "bgcolor": "white",
           "lakecolor": "white",
           "landcolor": "#E5ECF6",
           "showlakes": true,
           "showland": true,
           "subunitcolor": "white"
          },
          "hoverlabel": {
           "align": "left"
          },
          "hovermode": "closest",
          "mapbox": {
           "style": "light"
          },
          "paper_bgcolor": "white",
          "plot_bgcolor": "#E5ECF6",
          "polar": {
           "angularaxis": {
            "gridcolor": "white",
            "linecolor": "white",
            "ticks": ""
           },
           "bgcolor": "#E5ECF6",
           "radialaxis": {
            "gridcolor": "white",
            "linecolor": "white",
            "ticks": ""
           }
          },
          "scene": {
           "xaxis": {
            "backgroundcolor": "#E5ECF6",
            "gridcolor": "white",
            "gridwidth": 2,
            "linecolor": "white",
            "showbackground": true,
            "ticks": "",
            "zerolinecolor": "white"
           },
           "yaxis": {
            "backgroundcolor": "#E5ECF6",
            "gridcolor": "white",
            "gridwidth": 2,
            "linecolor": "white",
            "showbackground": true,
            "ticks": "",
            "zerolinecolor": "white"
           },
           "zaxis": {
            "backgroundcolor": "#E5ECF6",
            "gridcolor": "white",
            "gridwidth": 2,
            "linecolor": "white",
            "showbackground": true,
            "ticks": "",
            "zerolinecolor": "white"
           }
          },
          "shapedefaults": {
           "line": {
            "color": "#2a3f5f"
           }
          },
          "ternary": {
           "aaxis": {
            "gridcolor": "white",
            "linecolor": "white",
            "ticks": ""
           },
           "baxis": {
            "gridcolor": "white",
            "linecolor": "white",
            "ticks": ""
           },
           "bgcolor": "#E5ECF6",
           "caxis": {
            "gridcolor": "white",
            "linecolor": "white",
            "ticks": ""
           }
          },
          "title": {
           "x": 0.05
          },
          "xaxis": {
           "automargin": true,
           "gridcolor": "white",
           "linecolor": "white",
           "ticks": "",
           "title": {
            "standoff": 15
           },
           "zerolinecolor": "white",
           "zerolinewidth": 2
          },
          "yaxis": {
           "automargin": true,
           "gridcolor": "white",
           "linecolor": "white",
           "ticks": "",
           "title": {
            "standoff": 15
           },
           "zerolinecolor": "white",
           "zerolinewidth": 2
          }
         }
        },
        "title": {
         "text": "Cluster Cardinality over Time"
        },
        "xaxis": {
         "anchor": "y",
         "domain": [
          0,
          1
         ],
         "title": {
          "text": "Iteration"
         }
        },
        "yaxis": {
         "anchor": "x",
         "domain": [
          0,
          1
         ],
         "title": {
          "text": "Cluster Cardinality"
         }
        }
       }
      }
     },
     "metadata": {},
     "output_type": "display_data"
    }
   ],
   "source": [
    "import pandas as pd\n",
    "import plotly.express as px\n",
    "\n",
    "df = pd.read_csv('latest_run_cluster_records.csv')\n",
    "# print(df.head())\n",
    "\n",
    "fig = px.line(df, x='Iteration', y='Cluster Cardinality', title='Cluster Cardinality over Time')\n",
    "# fig.update_layout()\n",
    "fig.show()"
   ]
  },
  {
   "cell_type": "code",
   "execution_count": 12,
   "metadata": {},
   "outputs": [
    {
     "data": {
      "application/vnd.plotly.v1+json": {
       "config": {
        "plotlyServerURL": "https://plot.ly"
       },
       "data": [
        {
         "marker": {
          "color": "blue",
          "size": 4
         },
         "mode": "markers",
         "name": "Lattice Points",
         "type": "scatter3d",
         "x": [
          2.6,
          2.1034441853748636,
          0.8034441853748634,
          -0.8034441853748631,
          -2.103444185374863,
          -2.6,
          -2.1034441853748636,
          -0.8034441853748637,
          0.8034441853748628,
          2.103444185374863,
          2.4854101966249686,
          2.010739087062379,
          0.7680339887498949,
          -0.7680339887498947,
          -2.010739087062379,
          -2.4854101966249686,
          -2.010739087062379,
          -0.7680339887498953,
          0.7680339887498944,
          2.010739087062379,
          2.1854101966249684,
          1.7680339887498948,
          0.6753288904374106,
          -0.6753288904374104,
          -1.7680339887498946,
          -2.1854101966249684,
          -1.7680339887498948,
          -0.675328890437411,
          0.6753288904374102,
          1.7680339887498946,
          1.8145898033750316,
          1.468033988749895,
          0.5607390870623792,
          -0.560739087062379,
          -1.4680339887498948,
          -1.8145898033750316,
          -1.468033988749895,
          -0.5607390870623793,
          0.5607390870623787,
          1.4680339887498948,
          1.5145898033750316,
          1.2253288904374107,
          0.4680339887498949,
          -0.4680339887498947,
          -1.2253288904374104,
          -1.5145898033750316,
          -1.2253288904374107,
          -0.46803398874989505,
          0.46803398874989455,
          1.2253288904374104,
          1.4,
          1.1326237921249263,
          0.4326237921249264,
          -0.43262379212492624,
          -1.1326237921249263,
          -1.4,
          -1.1326237921249263,
          -0.4326237921249266,
          0.4326237921249261,
          1.1326237921249263,
          1.5145898033750316,
          1.2253288904374107,
          0.4680339887498949,
          -0.4680339887498947,
          -1.2253288904374104,
          -1.5145898033750316,
          -1.2253288904374107,
          -0.46803398874989505,
          0.46803398874989455,
          1.2253288904374104,
          1.8145898033750314,
          1.4680339887498948,
          0.5607390870623791,
          -0.5607390870623788,
          -1.4680339887498945,
          -1.8145898033750314,
          -1.4680339887498948,
          -0.5607390870623793,
          0.5607390870623786,
          1.4680339887498945,
          2.1854101966249684,
          1.7680339887498948,
          0.6753288904374106,
          -0.6753288904374104,
          -1.7680339887498946,
          -2.1854101966249684,
          -1.7680339887498948,
          -0.675328890437411,
          0.6753288904374102,
          1.7680339887498946,
          2.485410196624968,
          2.010739087062379,
          0.7680339887498948,
          -0.7680339887498946,
          -2.0107390870623787,
          -2.485410196624968,
          -2.010739087062379,
          -0.7680339887498951,
          0.7680339887498943,
          2.0107390870623787
         ],
         "y": [
          0,
          1.5282416559604302,
          2.472746942367399,
          2.4727469423673996,
          1.5282416559604306,
          3.1840816777831187e-16,
          -1.52824165596043,
          -2.472746942367399,
          -2.4727469423673996,
          -1.5282416559604308,
          0,
          1.4608874594734924,
          2.363765563166595,
          2.3637655631665955,
          1.4608874594734926,
          3.0437496418649616e-16,
          -1.4608874594734922,
          -2.363765563166595,
          -2.3637655631665955,
          -1.460887459473493,
          0,
          1.2845518837857504,
          2.078448608278049,
          2.078448608278049,
          1.2845518837857506,
          2.6763556021207555e-16,
          -1.2845518837857501,
          -2.078448608278049,
          -2.078448608278049,
          -1.2845518837857508,
          0,
          1.0665891253841422,
          1.7257774569025652,
          1.7257774569025655,
          1.0665891253841424,
          2.2222315944686573e-16,
          -1.066589125384142,
          -1.7257774569025652,
          -1.7257774569025655,
          -1.0665891253841426,
          0,
          0.8902535496964002,
          1.440460502014019,
          1.4404605020140193,
          0.8902535496964004,
          1.8548375547244515e-16,
          -0.8902535496964,
          -1.440460502014019,
          -1.4404605020140193,
          -0.8902535496964006,
          0,
          0.8228993532094624,
          1.3314791228132148,
          1.331479122813215,
          0.8228993532094625,
          1.7145055188062944e-16,
          -0.8228993532094622,
          -1.3314791228132148,
          -1.331479122813215,
          -0.8228993532094626,
          0,
          0.8902535496964002,
          1.440460502014019,
          1.4404605020140193,
          0.8902535496964004,
          1.8548375547244515e-16,
          -0.8902535496964,
          -1.440460502014019,
          -1.4404605020140193,
          -0.8902535496964006,
          0,
          1.066589125384142,
          1.725777456902565,
          1.7257774569025652,
          1.0665891253841422,
          2.2222315944686573e-16,
          -1.0665891253841417,
          -1.725777456902565,
          -1.7257774569025652,
          -1.0665891253841424,
          0,
          1.2845518837857504,
          2.078448608278049,
          2.078448608278049,
          1.2845518837857506,
          2.6763556021207555e-16,
          -1.2845518837857501,
          -2.078448608278049,
          -2.078448608278049,
          -1.2845518837857508,
          0,
          1.4608874594734922,
          2.363765563166595,
          2.363765563166595,
          1.4608874594734924,
          3.043749641864961e-16,
          -1.460887459473492,
          -2.363765563166595,
          -2.363765563166595,
          -1.4608874594734929
         ],
         "z": [
          0,
          0,
          0,
          0,
          0,
          0,
          0,
          0,
          0,
          0,
          0.3526711513754839,
          0.3526711513754839,
          0.3526711513754839,
          0.3526711513754839,
          0.3526711513754839,
          0.3526711513754839,
          0.3526711513754839,
          0.3526711513754839,
          0.3526711513754839,
          0.3526711513754839,
          0.570633909777092,
          0.570633909777092,
          0.570633909777092,
          0.570633909777092,
          0.570633909777092,
          0.570633909777092,
          0.570633909777092,
          0.570633909777092,
          0.570633909777092,
          0.570633909777092,
          0.5706339097770922,
          0.5706339097770922,
          0.5706339097770922,
          0.5706339097770922,
          0.5706339097770922,
          0.5706339097770922,
          0.5706339097770922,
          0.5706339097770922,
          0.5706339097770922,
          0.5706339097770922,
          0.35267115137548394,
          0.35267115137548394,
          0.35267115137548394,
          0.35267115137548394,
          0.35267115137548394,
          0.35267115137548394,
          0.35267115137548394,
          0.35267115137548394,
          0.35267115137548394,
          0.35267115137548394,
          7.347880794884119e-17,
          7.347880794884119e-17,
          7.347880794884119e-17,
          7.347880794884119e-17,
          7.347880794884119e-17,
          7.347880794884119e-17,
          7.347880794884119e-17,
          7.347880794884119e-17,
          7.347880794884119e-17,
          7.347880794884119e-17,
          -0.3526711513754838,
          -0.3526711513754838,
          -0.3526711513754838,
          -0.3526711513754838,
          -0.3526711513754838,
          -0.3526711513754838,
          -0.3526711513754838,
          -0.3526711513754838,
          -0.3526711513754838,
          -0.3526711513754838,
          -0.570633909777092,
          -0.570633909777092,
          -0.570633909777092,
          -0.570633909777092,
          -0.570633909777092,
          -0.570633909777092,
          -0.570633909777092,
          -0.570633909777092,
          -0.570633909777092,
          -0.570633909777092,
          -0.5706339097770922,
          -0.5706339097770922,
          -0.5706339097770922,
          -0.5706339097770922,
          -0.5706339097770922,
          -0.5706339097770922,
          -0.5706339097770922,
          -0.5706339097770922,
          -0.5706339097770922,
          -0.5706339097770922,
          -0.352671151375484,
          -0.352671151375484,
          -0.352671151375484,
          -0.352671151375484,
          -0.352671151375484,
          -0.352671151375484,
          -0.352671151375484,
          -0.352671151375484,
          -0.352671151375484,
          -0.352671151375484
         ]
        },
        {
         "line": {
          "color": "black",
          "width": 2
         },
         "mode": "lines",
         "showlegend": false,
         "type": "scatter3d",
         "x": [
          2.6,
          2.4854101966249686
         ],
         "y": [
          0,
          0
         ],
         "z": [
          0,
          0.3526711513754839
         ]
        },
        {
         "line": {
          "color": "black",
          "width": 2
         },
         "mode": "lines",
         "showlegend": false,
         "type": "scatter3d",
         "x": [
          2.6,
          2.1034441853748636
         ],
         "y": [
          0,
          1.5282416559604302
         ],
         "z": [
          0,
          0
         ]
        },
        {
         "line": {
          "color": "black",
          "width": 2
         },
         "mode": "lines",
         "showlegend": false,
         "type": "scatter3d",
         "x": [
          2.1034441853748636,
          2.010739087062379
         ],
         "y": [
          1.5282416559604302,
          1.4608874594734924
         ],
         "z": [
          0,
          0.3526711513754839
         ]
        },
        {
         "line": {
          "color": "black",
          "width": 2
         },
         "mode": "lines",
         "showlegend": false,
         "type": "scatter3d",
         "x": [
          2.1034441853748636,
          0.8034441853748634
         ],
         "y": [
          1.5282416559604302,
          2.472746942367399
         ],
         "z": [
          0,
          0
         ]
        },
        {
         "line": {
          "color": "black",
          "width": 2
         },
         "mode": "lines",
         "showlegend": false,
         "type": "scatter3d",
         "x": [
          0.8034441853748634,
          0.7680339887498949
         ],
         "y": [
          2.472746942367399,
          2.363765563166595
         ],
         "z": [
          0,
          0.3526711513754839
         ]
        },
        {
         "line": {
          "color": "black",
          "width": 2
         },
         "mode": "lines",
         "showlegend": false,
         "type": "scatter3d",
         "x": [
          0.8034441853748634,
          -0.8034441853748631
         ],
         "y": [
          2.472746942367399,
          2.4727469423673996
         ],
         "z": [
          0,
          0
         ]
        },
        {
         "line": {
          "color": "black",
          "width": 2
         },
         "mode": "lines",
         "showlegend": false,
         "type": "scatter3d",
         "x": [
          -0.8034441853748631,
          -0.7680339887498947
         ],
         "y": [
          2.4727469423673996,
          2.3637655631665955
         ],
         "z": [
          0,
          0.3526711513754839
         ]
        },
        {
         "line": {
          "color": "black",
          "width": 2
         },
         "mode": "lines",
         "showlegend": false,
         "type": "scatter3d",
         "x": [
          -0.8034441853748631,
          -2.103444185374863
         ],
         "y": [
          2.4727469423673996,
          1.5282416559604306
         ],
         "z": [
          0,
          0
         ]
        },
        {
         "line": {
          "color": "black",
          "width": 2
         },
         "mode": "lines",
         "showlegend": false,
         "type": "scatter3d",
         "x": [
          -2.103444185374863,
          -2.010739087062379
         ],
         "y": [
          1.5282416559604306,
          1.4608874594734926
         ],
         "z": [
          0,
          0.3526711513754839
         ]
        },
        {
         "line": {
          "color": "black",
          "width": 2
         },
         "mode": "lines",
         "showlegend": false,
         "type": "scatter3d",
         "x": [
          -2.103444185374863,
          -2.6
         ],
         "y": [
          1.5282416559604306,
          3.1840816777831187e-16
         ],
         "z": [
          0,
          0
         ]
        },
        {
         "line": {
          "color": "black",
          "width": 2
         },
         "mode": "lines",
         "showlegend": false,
         "type": "scatter3d",
         "x": [
          -2.6,
          -2.4854101966249686
         ],
         "y": [
          3.1840816777831187e-16,
          3.0437496418649616e-16
         ],
         "z": [
          0,
          0.3526711513754839
         ]
        },
        {
         "line": {
          "color": "black",
          "width": 2
         },
         "mode": "lines",
         "showlegend": false,
         "type": "scatter3d",
         "x": [
          -2.6,
          -2.1034441853748636
         ],
         "y": [
          3.1840816777831187e-16,
          -1.52824165596043
         ],
         "z": [
          0,
          0
         ]
        },
        {
         "line": {
          "color": "black",
          "width": 2
         },
         "mode": "lines",
         "showlegend": false,
         "type": "scatter3d",
         "x": [
          -2.1034441853748636,
          -2.010739087062379
         ],
         "y": [
          -1.52824165596043,
          -1.4608874594734922
         ],
         "z": [
          0,
          0.3526711513754839
         ]
        },
        {
         "line": {
          "color": "black",
          "width": 2
         },
         "mode": "lines",
         "showlegend": false,
         "type": "scatter3d",
         "x": [
          -2.1034441853748636,
          -0.8034441853748637
         ],
         "y": [
          -1.52824165596043,
          -2.472746942367399
         ],
         "z": [
          0,
          0
         ]
        },
        {
         "line": {
          "color": "black",
          "width": 2
         },
         "mode": "lines",
         "showlegend": false,
         "type": "scatter3d",
         "x": [
          -0.8034441853748637,
          -0.7680339887498953
         ],
         "y": [
          -2.472746942367399,
          -2.363765563166595
         ],
         "z": [
          0,
          0.3526711513754839
         ]
        },
        {
         "line": {
          "color": "black",
          "width": 2
         },
         "mode": "lines",
         "showlegend": false,
         "type": "scatter3d",
         "x": [
          -0.8034441853748637,
          0.8034441853748628
         ],
         "y": [
          -2.472746942367399,
          -2.4727469423673996
         ],
         "z": [
          0,
          0
         ]
        },
        {
         "line": {
          "color": "black",
          "width": 2
         },
         "mode": "lines",
         "showlegend": false,
         "type": "scatter3d",
         "x": [
          0.8034441853748628,
          0.7680339887498944
         ],
         "y": [
          -2.4727469423673996,
          -2.3637655631665955
         ],
         "z": [
          0,
          0.3526711513754839
         ]
        },
        {
         "line": {
          "color": "black",
          "width": 2
         },
         "mode": "lines",
         "showlegend": false,
         "type": "scatter3d",
         "x": [
          0.8034441853748628,
          2.103444185374863
         ],
         "y": [
          -2.4727469423673996,
          -1.5282416559604308
         ],
         "z": [
          0,
          0
         ]
        },
        {
         "line": {
          "color": "black",
          "width": 2
         },
         "mode": "lines",
         "showlegend": false,
         "type": "scatter3d",
         "x": [
          2.103444185374863,
          2.010739087062379
         ],
         "y": [
          -1.5282416559604308,
          -1.460887459473493
         ],
         "z": [
          0,
          0.3526711513754839
         ]
        },
        {
         "line": {
          "color": "black",
          "width": 2
         },
         "mode": "lines",
         "showlegend": false,
         "type": "scatter3d",
         "x": [
          2.103444185374863,
          2.6
         ],
         "y": [
          -1.5282416559604308,
          0
         ],
         "z": [
          0,
          0
         ]
        },
        {
         "line": {
          "color": "black",
          "width": 2
         },
         "mode": "lines",
         "showlegend": false,
         "type": "scatter3d",
         "x": [
          2.4854101966249686,
          2.1854101966249684
         ],
         "y": [
          0,
          0
         ],
         "z": [
          0.3526711513754839,
          0.570633909777092
         ]
        },
        {
         "line": {
          "color": "black",
          "width": 2
         },
         "mode": "lines",
         "showlegend": false,
         "type": "scatter3d",
         "x": [
          2.4854101966249686,
          2.010739087062379
         ],
         "y": [
          0,
          1.4608874594734924
         ],
         "z": [
          0.3526711513754839,
          0.3526711513754839
         ]
        },
        {
         "line": {
          "color": "black",
          "width": 2
         },
         "mode": "lines",
         "showlegend": false,
         "type": "scatter3d",
         "x": [
          2.010739087062379,
          1.7680339887498948
         ],
         "y": [
          1.4608874594734924,
          1.2845518837857504
         ],
         "z": [
          0.3526711513754839,
          0.570633909777092
         ]
        },
        {
         "line": {
          "color": "black",
          "width": 2
         },
         "mode": "lines",
         "showlegend": false,
         "type": "scatter3d",
         "x": [
          2.010739087062379,
          0.7680339887498949
         ],
         "y": [
          1.4608874594734924,
          2.363765563166595
         ],
         "z": [
          0.3526711513754839,
          0.3526711513754839
         ]
        },
        {
         "line": {
          "color": "black",
          "width": 2
         },
         "mode": "lines",
         "showlegend": false,
         "type": "scatter3d",
         "x": [
          0.7680339887498949,
          0.6753288904374106
         ],
         "y": [
          2.363765563166595,
          2.078448608278049
         ],
         "z": [
          0.3526711513754839,
          0.570633909777092
         ]
        },
        {
         "line": {
          "color": "black",
          "width": 2
         },
         "mode": "lines",
         "showlegend": false,
         "type": "scatter3d",
         "x": [
          0.7680339887498949,
          -0.7680339887498947
         ],
         "y": [
          2.363765563166595,
          2.3637655631665955
         ],
         "z": [
          0.3526711513754839,
          0.3526711513754839
         ]
        },
        {
         "line": {
          "color": "black",
          "width": 2
         },
         "mode": "lines",
         "showlegend": false,
         "type": "scatter3d",
         "x": [
          -0.7680339887498947,
          -0.6753288904374104
         ],
         "y": [
          2.3637655631665955,
          2.078448608278049
         ],
         "z": [
          0.3526711513754839,
          0.570633909777092
         ]
        },
        {
         "line": {
          "color": "black",
          "width": 2
         },
         "mode": "lines",
         "showlegend": false,
         "type": "scatter3d",
         "x": [
          -0.7680339887498947,
          -2.010739087062379
         ],
         "y": [
          2.3637655631665955,
          1.4608874594734926
         ],
         "z": [
          0.3526711513754839,
          0.3526711513754839
         ]
        },
        {
         "line": {
          "color": "black",
          "width": 2
         },
         "mode": "lines",
         "showlegend": false,
         "type": "scatter3d",
         "x": [
          -2.010739087062379,
          -1.7680339887498946
         ],
         "y": [
          1.4608874594734926,
          1.2845518837857506
         ],
         "z": [
          0.3526711513754839,
          0.570633909777092
         ]
        },
        {
         "line": {
          "color": "black",
          "width": 2
         },
         "mode": "lines",
         "showlegend": false,
         "type": "scatter3d",
         "x": [
          -2.010739087062379,
          -2.4854101966249686
         ],
         "y": [
          1.4608874594734926,
          3.0437496418649616e-16
         ],
         "z": [
          0.3526711513754839,
          0.3526711513754839
         ]
        },
        {
         "line": {
          "color": "black",
          "width": 2
         },
         "mode": "lines",
         "showlegend": false,
         "type": "scatter3d",
         "x": [
          -2.4854101966249686,
          -2.1854101966249684
         ],
         "y": [
          3.0437496418649616e-16,
          2.6763556021207555e-16
         ],
         "z": [
          0.3526711513754839,
          0.570633909777092
         ]
        },
        {
         "line": {
          "color": "black",
          "width": 2
         },
         "mode": "lines",
         "showlegend": false,
         "type": "scatter3d",
         "x": [
          -2.4854101966249686,
          -2.010739087062379
         ],
         "y": [
          3.0437496418649616e-16,
          -1.4608874594734922
         ],
         "z": [
          0.3526711513754839,
          0.3526711513754839
         ]
        },
        {
         "line": {
          "color": "black",
          "width": 2
         },
         "mode": "lines",
         "showlegend": false,
         "type": "scatter3d",
         "x": [
          -2.010739087062379,
          -1.7680339887498948
         ],
         "y": [
          -1.4608874594734922,
          -1.2845518837857501
         ],
         "z": [
          0.3526711513754839,
          0.570633909777092
         ]
        },
        {
         "line": {
          "color": "black",
          "width": 2
         },
         "mode": "lines",
         "showlegend": false,
         "type": "scatter3d",
         "x": [
          -2.010739087062379,
          -0.7680339887498953
         ],
         "y": [
          -1.4608874594734922,
          -2.363765563166595
         ],
         "z": [
          0.3526711513754839,
          0.3526711513754839
         ]
        },
        {
         "line": {
          "color": "black",
          "width": 2
         },
         "mode": "lines",
         "showlegend": false,
         "type": "scatter3d",
         "x": [
          -0.7680339887498953,
          -0.675328890437411
         ],
         "y": [
          -2.363765563166595,
          -2.078448608278049
         ],
         "z": [
          0.3526711513754839,
          0.570633909777092
         ]
        },
        {
         "line": {
          "color": "black",
          "width": 2
         },
         "mode": "lines",
         "showlegend": false,
         "type": "scatter3d",
         "x": [
          -0.7680339887498953,
          0.7680339887498944
         ],
         "y": [
          -2.363765563166595,
          -2.3637655631665955
         ],
         "z": [
          0.3526711513754839,
          0.3526711513754839
         ]
        },
        {
         "line": {
          "color": "black",
          "width": 2
         },
         "mode": "lines",
         "showlegend": false,
         "type": "scatter3d",
         "x": [
          0.7680339887498944,
          0.6753288904374102
         ],
         "y": [
          -2.3637655631665955,
          -2.078448608278049
         ],
         "z": [
          0.3526711513754839,
          0.570633909777092
         ]
        },
        {
         "line": {
          "color": "black",
          "width": 2
         },
         "mode": "lines",
         "showlegend": false,
         "type": "scatter3d",
         "x": [
          0.7680339887498944,
          2.010739087062379
         ],
         "y": [
          -2.3637655631665955,
          -1.460887459473493
         ],
         "z": [
          0.3526711513754839,
          0.3526711513754839
         ]
        },
        {
         "line": {
          "color": "black",
          "width": 2
         },
         "mode": "lines",
         "showlegend": false,
         "type": "scatter3d",
         "x": [
          2.010739087062379,
          1.7680339887498946
         ],
         "y": [
          -1.460887459473493,
          -1.2845518837857508
         ],
         "z": [
          0.3526711513754839,
          0.570633909777092
         ]
        },
        {
         "line": {
          "color": "black",
          "width": 2
         },
         "mode": "lines",
         "showlegend": false,
         "type": "scatter3d",
         "x": [
          2.010739087062379,
          2.4854101966249686
         ],
         "y": [
          -1.460887459473493,
          0
         ],
         "z": [
          0.3526711513754839,
          0.3526711513754839
         ]
        },
        {
         "line": {
          "color": "black",
          "width": 2
         },
         "mode": "lines",
         "showlegend": false,
         "type": "scatter3d",
         "x": [
          2.1854101966249684,
          1.8145898033750316
         ],
         "y": [
          0,
          0
         ],
         "z": [
          0.570633909777092,
          0.5706339097770922
         ]
        },
        {
         "line": {
          "color": "black",
          "width": 2
         },
         "mode": "lines",
         "showlegend": false,
         "type": "scatter3d",
         "x": [
          2.1854101966249684,
          1.7680339887498948
         ],
         "y": [
          0,
          1.2845518837857504
         ],
         "z": [
          0.570633909777092,
          0.570633909777092
         ]
        },
        {
         "line": {
          "color": "black",
          "width": 2
         },
         "mode": "lines",
         "showlegend": false,
         "type": "scatter3d",
         "x": [
          1.7680339887498948,
          1.468033988749895
         ],
         "y": [
          1.2845518837857504,
          1.0665891253841422
         ],
         "z": [
          0.570633909777092,
          0.5706339097770922
         ]
        },
        {
         "line": {
          "color": "black",
          "width": 2
         },
         "mode": "lines",
         "showlegend": false,
         "type": "scatter3d",
         "x": [
          1.7680339887498948,
          0.6753288904374106
         ],
         "y": [
          1.2845518837857504,
          2.078448608278049
         ],
         "z": [
          0.570633909777092,
          0.570633909777092
         ]
        },
        {
         "line": {
          "color": "black",
          "width": 2
         },
         "mode": "lines",
         "showlegend": false,
         "type": "scatter3d",
         "x": [
          0.6753288904374106,
          0.5607390870623792
         ],
         "y": [
          2.078448608278049,
          1.7257774569025652
         ],
         "z": [
          0.570633909777092,
          0.5706339097770922
         ]
        },
        {
         "line": {
          "color": "black",
          "width": 2
         },
         "mode": "lines",
         "showlegend": false,
         "type": "scatter3d",
         "x": [
          0.6753288904374106,
          -0.6753288904374104
         ],
         "y": [
          2.078448608278049,
          2.078448608278049
         ],
         "z": [
          0.570633909777092,
          0.570633909777092
         ]
        },
        {
         "line": {
          "color": "black",
          "width": 2
         },
         "mode": "lines",
         "showlegend": false,
         "type": "scatter3d",
         "x": [
          -0.6753288904374104,
          -0.560739087062379
         ],
         "y": [
          2.078448608278049,
          1.7257774569025655
         ],
         "z": [
          0.570633909777092,
          0.5706339097770922
         ]
        },
        {
         "line": {
          "color": "black",
          "width": 2
         },
         "mode": "lines",
         "showlegend": false,
         "type": "scatter3d",
         "x": [
          -0.6753288904374104,
          -1.7680339887498946
         ],
         "y": [
          2.078448608278049,
          1.2845518837857506
         ],
         "z": [
          0.570633909777092,
          0.570633909777092
         ]
        },
        {
         "line": {
          "color": "black",
          "width": 2
         },
         "mode": "lines",
         "showlegend": false,
         "type": "scatter3d",
         "x": [
          -1.7680339887498946,
          -1.4680339887498948
         ],
         "y": [
          1.2845518837857506,
          1.0665891253841424
         ],
         "z": [
          0.570633909777092,
          0.5706339097770922
         ]
        },
        {
         "line": {
          "color": "black",
          "width": 2
         },
         "mode": "lines",
         "showlegend": false,
         "type": "scatter3d",
         "x": [
          -1.7680339887498946,
          -2.1854101966249684
         ],
         "y": [
          1.2845518837857506,
          2.6763556021207555e-16
         ],
         "z": [
          0.570633909777092,
          0.570633909777092
         ]
        },
        {
         "line": {
          "color": "black",
          "width": 2
         },
         "mode": "lines",
         "showlegend": false,
         "type": "scatter3d",
         "x": [
          -2.1854101966249684,
          -1.8145898033750316
         ],
         "y": [
          2.6763556021207555e-16,
          2.2222315944686573e-16
         ],
         "z": [
          0.570633909777092,
          0.5706339097770922
         ]
        },
        {
         "line": {
          "color": "black",
          "width": 2
         },
         "mode": "lines",
         "showlegend": false,
         "type": "scatter3d",
         "x": [
          -2.1854101966249684,
          -1.7680339887498948
         ],
         "y": [
          2.6763556021207555e-16,
          -1.2845518837857501
         ],
         "z": [
          0.570633909777092,
          0.570633909777092
         ]
        },
        {
         "line": {
          "color": "black",
          "width": 2
         },
         "mode": "lines",
         "showlegend": false,
         "type": "scatter3d",
         "x": [
          -1.7680339887498948,
          -1.468033988749895
         ],
         "y": [
          -1.2845518837857501,
          -1.066589125384142
         ],
         "z": [
          0.570633909777092,
          0.5706339097770922
         ]
        },
        {
         "line": {
          "color": "black",
          "width": 2
         },
         "mode": "lines",
         "showlegend": false,
         "type": "scatter3d",
         "x": [
          -1.7680339887498948,
          -0.675328890437411
         ],
         "y": [
          -1.2845518837857501,
          -2.078448608278049
         ],
         "z": [
          0.570633909777092,
          0.570633909777092
         ]
        },
        {
         "line": {
          "color": "black",
          "width": 2
         },
         "mode": "lines",
         "showlegend": false,
         "type": "scatter3d",
         "x": [
          -0.675328890437411,
          -0.5607390870623793
         ],
         "y": [
          -2.078448608278049,
          -1.7257774569025652
         ],
         "z": [
          0.570633909777092,
          0.5706339097770922
         ]
        },
        {
         "line": {
          "color": "black",
          "width": 2
         },
         "mode": "lines",
         "showlegend": false,
         "type": "scatter3d",
         "x": [
          -0.675328890437411,
          0.6753288904374102
         ],
         "y": [
          -2.078448608278049,
          -2.078448608278049
         ],
         "z": [
          0.570633909777092,
          0.570633909777092
         ]
        },
        {
         "line": {
          "color": "black",
          "width": 2
         },
         "mode": "lines",
         "showlegend": false,
         "type": "scatter3d",
         "x": [
          0.6753288904374102,
          0.5607390870623787
         ],
         "y": [
          -2.078448608278049,
          -1.7257774569025655
         ],
         "z": [
          0.570633909777092,
          0.5706339097770922
         ]
        },
        {
         "line": {
          "color": "black",
          "width": 2
         },
         "mode": "lines",
         "showlegend": false,
         "type": "scatter3d",
         "x": [
          0.6753288904374102,
          1.7680339887498946
         ],
         "y": [
          -2.078448608278049,
          -1.2845518837857508
         ],
         "z": [
          0.570633909777092,
          0.570633909777092
         ]
        },
        {
         "line": {
          "color": "black",
          "width": 2
         },
         "mode": "lines",
         "showlegend": false,
         "type": "scatter3d",
         "x": [
          1.7680339887498946,
          1.4680339887498948
         ],
         "y": [
          -1.2845518837857508,
          -1.0665891253841426
         ],
         "z": [
          0.570633909777092,
          0.5706339097770922
         ]
        },
        {
         "line": {
          "color": "black",
          "width": 2
         },
         "mode": "lines",
         "showlegend": false,
         "type": "scatter3d",
         "x": [
          1.7680339887498946,
          2.1854101966249684
         ],
         "y": [
          -1.2845518837857508,
          0
         ],
         "z": [
          0.570633909777092,
          0.570633909777092
         ]
        },
        {
         "line": {
          "color": "black",
          "width": 2
         },
         "mode": "lines",
         "showlegend": false,
         "type": "scatter3d",
         "x": [
          1.8145898033750316,
          1.5145898033750316
         ],
         "y": [
          0,
          0
         ],
         "z": [
          0.5706339097770922,
          0.35267115137548394
         ]
        },
        {
         "line": {
          "color": "black",
          "width": 2
         },
         "mode": "lines",
         "showlegend": false,
         "type": "scatter3d",
         "x": [
          1.8145898033750316,
          1.468033988749895
         ],
         "y": [
          0,
          1.0665891253841422
         ],
         "z": [
          0.5706339097770922,
          0.5706339097770922
         ]
        },
        {
         "line": {
          "color": "black",
          "width": 2
         },
         "mode": "lines",
         "showlegend": false,
         "type": "scatter3d",
         "x": [
          1.468033988749895,
          1.2253288904374107
         ],
         "y": [
          1.0665891253841422,
          0.8902535496964002
         ],
         "z": [
          0.5706339097770922,
          0.35267115137548394
         ]
        },
        {
         "line": {
          "color": "black",
          "width": 2
         },
         "mode": "lines",
         "showlegend": false,
         "type": "scatter3d",
         "x": [
          1.468033988749895,
          0.5607390870623792
         ],
         "y": [
          1.0665891253841422,
          1.7257774569025652
         ],
         "z": [
          0.5706339097770922,
          0.5706339097770922
         ]
        },
        {
         "line": {
          "color": "black",
          "width": 2
         },
         "mode": "lines",
         "showlegend": false,
         "type": "scatter3d",
         "x": [
          0.5607390870623792,
          0.4680339887498949
         ],
         "y": [
          1.7257774569025652,
          1.440460502014019
         ],
         "z": [
          0.5706339097770922,
          0.35267115137548394
         ]
        },
        {
         "line": {
          "color": "black",
          "width": 2
         },
         "mode": "lines",
         "showlegend": false,
         "type": "scatter3d",
         "x": [
          0.5607390870623792,
          -0.560739087062379
         ],
         "y": [
          1.7257774569025652,
          1.7257774569025655
         ],
         "z": [
          0.5706339097770922,
          0.5706339097770922
         ]
        },
        {
         "line": {
          "color": "black",
          "width": 2
         },
         "mode": "lines",
         "showlegend": false,
         "type": "scatter3d",
         "x": [
          -0.560739087062379,
          -0.4680339887498947
         ],
         "y": [
          1.7257774569025655,
          1.4404605020140193
         ],
         "z": [
          0.5706339097770922,
          0.35267115137548394
         ]
        },
        {
         "line": {
          "color": "black",
          "width": 2
         },
         "mode": "lines",
         "showlegend": false,
         "type": "scatter3d",
         "x": [
          -0.560739087062379,
          -1.4680339887498948
         ],
         "y": [
          1.7257774569025655,
          1.0665891253841424
         ],
         "z": [
          0.5706339097770922,
          0.5706339097770922
         ]
        },
        {
         "line": {
          "color": "black",
          "width": 2
         },
         "mode": "lines",
         "showlegend": false,
         "type": "scatter3d",
         "x": [
          -1.4680339887498948,
          -1.2253288904374104
         ],
         "y": [
          1.0665891253841424,
          0.8902535496964004
         ],
         "z": [
          0.5706339097770922,
          0.35267115137548394
         ]
        },
        {
         "line": {
          "color": "black",
          "width": 2
         },
         "mode": "lines",
         "showlegend": false,
         "type": "scatter3d",
         "x": [
          -1.4680339887498948,
          -1.8145898033750316
         ],
         "y": [
          1.0665891253841424,
          2.2222315944686573e-16
         ],
         "z": [
          0.5706339097770922,
          0.5706339097770922
         ]
        },
        {
         "line": {
          "color": "black",
          "width": 2
         },
         "mode": "lines",
         "showlegend": false,
         "type": "scatter3d",
         "x": [
          -1.8145898033750316,
          -1.5145898033750316
         ],
         "y": [
          2.2222315944686573e-16,
          1.8548375547244515e-16
         ],
         "z": [
          0.5706339097770922,
          0.35267115137548394
         ]
        },
        {
         "line": {
          "color": "black",
          "width": 2
         },
         "mode": "lines",
         "showlegend": false,
         "type": "scatter3d",
         "x": [
          -1.8145898033750316,
          -1.468033988749895
         ],
         "y": [
          2.2222315944686573e-16,
          -1.066589125384142
         ],
         "z": [
          0.5706339097770922,
          0.5706339097770922
         ]
        },
        {
         "line": {
          "color": "black",
          "width": 2
         },
         "mode": "lines",
         "showlegend": false,
         "type": "scatter3d",
         "x": [
          -1.468033988749895,
          -1.2253288904374107
         ],
         "y": [
          -1.066589125384142,
          -0.8902535496964
         ],
         "z": [
          0.5706339097770922,
          0.35267115137548394
         ]
        },
        {
         "line": {
          "color": "black",
          "width": 2
         },
         "mode": "lines",
         "showlegend": false,
         "type": "scatter3d",
         "x": [
          -1.468033988749895,
          -0.5607390870623793
         ],
         "y": [
          -1.066589125384142,
          -1.7257774569025652
         ],
         "z": [
          0.5706339097770922,
          0.5706339097770922
         ]
        },
        {
         "line": {
          "color": "black",
          "width": 2
         },
         "mode": "lines",
         "showlegend": false,
         "type": "scatter3d",
         "x": [
          -0.5607390870623793,
          -0.46803398874989505
         ],
         "y": [
          -1.7257774569025652,
          -1.440460502014019
         ],
         "z": [
          0.5706339097770922,
          0.35267115137548394
         ]
        },
        {
         "line": {
          "color": "black",
          "width": 2
         },
         "mode": "lines",
         "showlegend": false,
         "type": "scatter3d",
         "x": [
          -0.5607390870623793,
          0.5607390870623787
         ],
         "y": [
          -1.7257774569025652,
          -1.7257774569025655
         ],
         "z": [
          0.5706339097770922,
          0.5706339097770922
         ]
        },
        {
         "line": {
          "color": "black",
          "width": 2
         },
         "mode": "lines",
         "showlegend": false,
         "type": "scatter3d",
         "x": [
          0.5607390870623787,
          0.46803398874989455
         ],
         "y": [
          -1.7257774569025655,
          -1.4404605020140193
         ],
         "z": [
          0.5706339097770922,
          0.35267115137548394
         ]
        },
        {
         "line": {
          "color": "black",
          "width": 2
         },
         "mode": "lines",
         "showlegend": false,
         "type": "scatter3d",
         "x": [
          0.5607390870623787,
          1.4680339887498948
         ],
         "y": [
          -1.7257774569025655,
          -1.0665891253841426
         ],
         "z": [
          0.5706339097770922,
          0.5706339097770922
         ]
        },
        {
         "line": {
          "color": "black",
          "width": 2
         },
         "mode": "lines",
         "showlegend": false,
         "type": "scatter3d",
         "x": [
          1.4680339887498948,
          1.2253288904374104
         ],
         "y": [
          -1.0665891253841426,
          -0.8902535496964006
         ],
         "z": [
          0.5706339097770922,
          0.35267115137548394
         ]
        },
        {
         "line": {
          "color": "black",
          "width": 2
         },
         "mode": "lines",
         "showlegend": false,
         "type": "scatter3d",
         "x": [
          1.4680339887498948,
          1.8145898033750316
         ],
         "y": [
          -1.0665891253841426,
          0
         ],
         "z": [
          0.5706339097770922,
          0.5706339097770922
         ]
        },
        {
         "line": {
          "color": "black",
          "width": 2
         },
         "mode": "lines",
         "showlegend": false,
         "type": "scatter3d",
         "x": [
          1.5145898033750316,
          1.4
         ],
         "y": [
          0,
          0
         ],
         "z": [
          0.35267115137548394,
          7.347880794884119e-17
         ]
        },
        {
         "line": {
          "color": "black",
          "width": 2
         },
         "mode": "lines",
         "showlegend": false,
         "type": "scatter3d",
         "x": [
          1.5145898033750316,
          1.2253288904374107
         ],
         "y": [
          0,
          0.8902535496964002
         ],
         "z": [
          0.35267115137548394,
          0.35267115137548394
         ]
        },
        {
         "line": {
          "color": "black",
          "width": 2
         },
         "mode": "lines",
         "showlegend": false,
         "type": "scatter3d",
         "x": [
          1.2253288904374107,
          1.1326237921249263
         ],
         "y": [
          0.8902535496964002,
          0.8228993532094624
         ],
         "z": [
          0.35267115137548394,
          7.347880794884119e-17
         ]
        },
        {
         "line": {
          "color": "black",
          "width": 2
         },
         "mode": "lines",
         "showlegend": false,
         "type": "scatter3d",
         "x": [
          1.2253288904374107,
          0.4680339887498949
         ],
         "y": [
          0.8902535496964002,
          1.440460502014019
         ],
         "z": [
          0.35267115137548394,
          0.35267115137548394
         ]
        },
        {
         "line": {
          "color": "black",
          "width": 2
         },
         "mode": "lines",
         "showlegend": false,
         "type": "scatter3d",
         "x": [
          0.4680339887498949,
          0.4326237921249264
         ],
         "y": [
          1.440460502014019,
          1.3314791228132148
         ],
         "z": [
          0.35267115137548394,
          7.347880794884119e-17
         ]
        },
        {
         "line": {
          "color": "black",
          "width": 2
         },
         "mode": "lines",
         "showlegend": false,
         "type": "scatter3d",
         "x": [
          0.4680339887498949,
          -0.4680339887498947
         ],
         "y": [
          1.440460502014019,
          1.4404605020140193
         ],
         "z": [
          0.35267115137548394,
          0.35267115137548394
         ]
        },
        {
         "line": {
          "color": "black",
          "width": 2
         },
         "mode": "lines",
         "showlegend": false,
         "type": "scatter3d",
         "x": [
          -0.4680339887498947,
          -0.43262379212492624
         ],
         "y": [
          1.4404605020140193,
          1.331479122813215
         ],
         "z": [
          0.35267115137548394,
          7.347880794884119e-17
         ]
        },
        {
         "line": {
          "color": "black",
          "width": 2
         },
         "mode": "lines",
         "showlegend": false,
         "type": "scatter3d",
         "x": [
          -0.4680339887498947,
          -1.2253288904374104
         ],
         "y": [
          1.4404605020140193,
          0.8902535496964004
         ],
         "z": [
          0.35267115137548394,
          0.35267115137548394
         ]
        },
        {
         "line": {
          "color": "black",
          "width": 2
         },
         "mode": "lines",
         "showlegend": false,
         "type": "scatter3d",
         "x": [
          -1.2253288904374104,
          -1.1326237921249263
         ],
         "y": [
          0.8902535496964004,
          0.8228993532094625
         ],
         "z": [
          0.35267115137548394,
          7.347880794884119e-17
         ]
        },
        {
         "line": {
          "color": "black",
          "width": 2
         },
         "mode": "lines",
         "showlegend": false,
         "type": "scatter3d",
         "x": [
          -1.2253288904374104,
          -1.5145898033750316
         ],
         "y": [
          0.8902535496964004,
          1.8548375547244515e-16
         ],
         "z": [
          0.35267115137548394,
          0.35267115137548394
         ]
        },
        {
         "line": {
          "color": "black",
          "width": 2
         },
         "mode": "lines",
         "showlegend": false,
         "type": "scatter3d",
         "x": [
          -1.5145898033750316,
          -1.4
         ],
         "y": [
          1.8548375547244515e-16,
          1.7145055188062944e-16
         ],
         "z": [
          0.35267115137548394,
          7.347880794884119e-17
         ]
        },
        {
         "line": {
          "color": "black",
          "width": 2
         },
         "mode": "lines",
         "showlegend": false,
         "type": "scatter3d",
         "x": [
          -1.5145898033750316,
          -1.2253288904374107
         ],
         "y": [
          1.8548375547244515e-16,
          -0.8902535496964
         ],
         "z": [
          0.35267115137548394,
          0.35267115137548394
         ]
        },
        {
         "line": {
          "color": "black",
          "width": 2
         },
         "mode": "lines",
         "showlegend": false,
         "type": "scatter3d",
         "x": [
          -1.2253288904374107,
          -1.1326237921249263
         ],
         "y": [
          -0.8902535496964,
          -0.8228993532094622
         ],
         "z": [
          0.35267115137548394,
          7.347880794884119e-17
         ]
        },
        {
         "line": {
          "color": "black",
          "width": 2
         },
         "mode": "lines",
         "showlegend": false,
         "type": "scatter3d",
         "x": [
          -1.2253288904374107,
          -0.46803398874989505
         ],
         "y": [
          -0.8902535496964,
          -1.440460502014019
         ],
         "z": [
          0.35267115137548394,
          0.35267115137548394
         ]
        },
        {
         "line": {
          "color": "black",
          "width": 2
         },
         "mode": "lines",
         "showlegend": false,
         "type": "scatter3d",
         "x": [
          -0.46803398874989505,
          -0.4326237921249266
         ],
         "y": [
          -1.440460502014019,
          -1.3314791228132148
         ],
         "z": [
          0.35267115137548394,
          7.347880794884119e-17
         ]
        },
        {
         "line": {
          "color": "black",
          "width": 2
         },
         "mode": "lines",
         "showlegend": false,
         "type": "scatter3d",
         "x": [
          -0.46803398874989505,
          0.46803398874989455
         ],
         "y": [
          -1.440460502014019,
          -1.4404605020140193
         ],
         "z": [
          0.35267115137548394,
          0.35267115137548394
         ]
        },
        {
         "line": {
          "color": "black",
          "width": 2
         },
         "mode": "lines",
         "showlegend": false,
         "type": "scatter3d",
         "x": [
          0.46803398874989455,
          0.4326237921249261
         ],
         "y": [
          -1.4404605020140193,
          -1.331479122813215
         ],
         "z": [
          0.35267115137548394,
          7.347880794884119e-17
         ]
        },
        {
         "line": {
          "color": "black",
          "width": 2
         },
         "mode": "lines",
         "showlegend": false,
         "type": "scatter3d",
         "x": [
          0.46803398874989455,
          1.2253288904374104
         ],
         "y": [
          -1.4404605020140193,
          -0.8902535496964006
         ],
         "z": [
          0.35267115137548394,
          0.35267115137548394
         ]
        },
        {
         "line": {
          "color": "black",
          "width": 2
         },
         "mode": "lines",
         "showlegend": false,
         "type": "scatter3d",
         "x": [
          1.2253288904374104,
          1.1326237921249263
         ],
         "y": [
          -0.8902535496964006,
          -0.8228993532094626
         ],
         "z": [
          0.35267115137548394,
          7.347880794884119e-17
         ]
        },
        {
         "line": {
          "color": "black",
          "width": 2
         },
         "mode": "lines",
         "showlegend": false,
         "type": "scatter3d",
         "x": [
          1.2253288904374104,
          1.5145898033750316
         ],
         "y": [
          -0.8902535496964006,
          0
         ],
         "z": [
          0.35267115137548394,
          0.35267115137548394
         ]
        },
        {
         "line": {
          "color": "black",
          "width": 2
         },
         "mode": "lines",
         "showlegend": false,
         "type": "scatter3d",
         "x": [
          1.4,
          1.5145898033750316
         ],
         "y": [
          0,
          0
         ],
         "z": [
          7.347880794884119e-17,
          -0.3526711513754838
         ]
        },
        {
         "line": {
          "color": "black",
          "width": 2
         },
         "mode": "lines",
         "showlegend": false,
         "type": "scatter3d",
         "x": [
          1.4,
          1.1326237921249263
         ],
         "y": [
          0,
          0.8228993532094624
         ],
         "z": [
          7.347880794884119e-17,
          7.347880794884119e-17
         ]
        },
        {
         "line": {
          "color": "black",
          "width": 2
         },
         "mode": "lines",
         "showlegend": false,
         "type": "scatter3d",
         "x": [
          1.1326237921249263,
          1.2253288904374107
         ],
         "y": [
          0.8228993532094624,
          0.8902535496964002
         ],
         "z": [
          7.347880794884119e-17,
          -0.3526711513754838
         ]
        },
        {
         "line": {
          "color": "black",
          "width": 2
         },
         "mode": "lines",
         "showlegend": false,
         "type": "scatter3d",
         "x": [
          1.1326237921249263,
          0.4326237921249264
         ],
         "y": [
          0.8228993532094624,
          1.3314791228132148
         ],
         "z": [
          7.347880794884119e-17,
          7.347880794884119e-17
         ]
        },
        {
         "line": {
          "color": "black",
          "width": 2
         },
         "mode": "lines",
         "showlegend": false,
         "type": "scatter3d",
         "x": [
          0.4326237921249264,
          0.4680339887498949
         ],
         "y": [
          1.3314791228132148,
          1.440460502014019
         ],
         "z": [
          7.347880794884119e-17,
          -0.3526711513754838
         ]
        },
        {
         "line": {
          "color": "black",
          "width": 2
         },
         "mode": "lines",
         "showlegend": false,
         "type": "scatter3d",
         "x": [
          0.4326237921249264,
          -0.43262379212492624
         ],
         "y": [
          1.3314791228132148,
          1.331479122813215
         ],
         "z": [
          7.347880794884119e-17,
          7.347880794884119e-17
         ]
        },
        {
         "line": {
          "color": "black",
          "width": 2
         },
         "mode": "lines",
         "showlegend": false,
         "type": "scatter3d",
         "x": [
          -0.43262379212492624,
          -0.4680339887498947
         ],
         "y": [
          1.331479122813215,
          1.4404605020140193
         ],
         "z": [
          7.347880794884119e-17,
          -0.3526711513754838
         ]
        },
        {
         "line": {
          "color": "black",
          "width": 2
         },
         "mode": "lines",
         "showlegend": false,
         "type": "scatter3d",
         "x": [
          -0.43262379212492624,
          -1.1326237921249263
         ],
         "y": [
          1.331479122813215,
          0.8228993532094625
         ],
         "z": [
          7.347880794884119e-17,
          7.347880794884119e-17
         ]
        },
        {
         "line": {
          "color": "black",
          "width": 2
         },
         "mode": "lines",
         "showlegend": false,
         "type": "scatter3d",
         "x": [
          -1.1326237921249263,
          -1.2253288904374104
         ],
         "y": [
          0.8228993532094625,
          0.8902535496964004
         ],
         "z": [
          7.347880794884119e-17,
          -0.3526711513754838
         ]
        },
        {
         "line": {
          "color": "black",
          "width": 2
         },
         "mode": "lines",
         "showlegend": false,
         "type": "scatter3d",
         "x": [
          -1.1326237921249263,
          -1.4
         ],
         "y": [
          0.8228993532094625,
          1.7145055188062944e-16
         ],
         "z": [
          7.347880794884119e-17,
          7.347880794884119e-17
         ]
        },
        {
         "line": {
          "color": "black",
          "width": 2
         },
         "mode": "lines",
         "showlegend": false,
         "type": "scatter3d",
         "x": [
          -1.4,
          -1.5145898033750316
         ],
         "y": [
          1.7145055188062944e-16,
          1.8548375547244515e-16
         ],
         "z": [
          7.347880794884119e-17,
          -0.3526711513754838
         ]
        },
        {
         "line": {
          "color": "black",
          "width": 2
         },
         "mode": "lines",
         "showlegend": false,
         "type": "scatter3d",
         "x": [
          -1.4,
          -1.1326237921249263
         ],
         "y": [
          1.7145055188062944e-16,
          -0.8228993532094622
         ],
         "z": [
          7.347880794884119e-17,
          7.347880794884119e-17
         ]
        },
        {
         "line": {
          "color": "black",
          "width": 2
         },
         "mode": "lines",
         "showlegend": false,
         "type": "scatter3d",
         "x": [
          -1.1326237921249263,
          -1.2253288904374107
         ],
         "y": [
          -0.8228993532094622,
          -0.8902535496964
         ],
         "z": [
          7.347880794884119e-17,
          -0.3526711513754838
         ]
        },
        {
         "line": {
          "color": "black",
          "width": 2
         },
         "mode": "lines",
         "showlegend": false,
         "type": "scatter3d",
         "x": [
          -1.1326237921249263,
          -0.4326237921249266
         ],
         "y": [
          -0.8228993532094622,
          -1.3314791228132148
         ],
         "z": [
          7.347880794884119e-17,
          7.347880794884119e-17
         ]
        },
        {
         "line": {
          "color": "black",
          "width": 2
         },
         "mode": "lines",
         "showlegend": false,
         "type": "scatter3d",
         "x": [
          -0.4326237921249266,
          -0.46803398874989505
         ],
         "y": [
          -1.3314791228132148,
          -1.440460502014019
         ],
         "z": [
          7.347880794884119e-17,
          -0.3526711513754838
         ]
        },
        {
         "line": {
          "color": "black",
          "width": 2
         },
         "mode": "lines",
         "showlegend": false,
         "type": "scatter3d",
         "x": [
          -0.4326237921249266,
          0.4326237921249261
         ],
         "y": [
          -1.3314791228132148,
          -1.331479122813215
         ],
         "z": [
          7.347880794884119e-17,
          7.347880794884119e-17
         ]
        },
        {
         "line": {
          "color": "black",
          "width": 2
         },
         "mode": "lines",
         "showlegend": false,
         "type": "scatter3d",
         "x": [
          0.4326237921249261,
          0.46803398874989455
         ],
         "y": [
          -1.331479122813215,
          -1.4404605020140193
         ],
         "z": [
          7.347880794884119e-17,
          -0.3526711513754838
         ]
        },
        {
         "line": {
          "color": "black",
          "width": 2
         },
         "mode": "lines",
         "showlegend": false,
         "type": "scatter3d",
         "x": [
          0.4326237921249261,
          1.1326237921249263
         ],
         "y": [
          -1.331479122813215,
          -0.8228993532094626
         ],
         "z": [
          7.347880794884119e-17,
          7.347880794884119e-17
         ]
        },
        {
         "line": {
          "color": "black",
          "width": 2
         },
         "mode": "lines",
         "showlegend": false,
         "type": "scatter3d",
         "x": [
          1.1326237921249263,
          1.2253288904374104
         ],
         "y": [
          -0.8228993532094626,
          -0.8902535496964006
         ],
         "z": [
          7.347880794884119e-17,
          -0.3526711513754838
         ]
        },
        {
         "line": {
          "color": "black",
          "width": 2
         },
         "mode": "lines",
         "showlegend": false,
         "type": "scatter3d",
         "x": [
          1.1326237921249263,
          1.4
         ],
         "y": [
          -0.8228993532094626,
          0
         ],
         "z": [
          7.347880794884119e-17,
          7.347880794884119e-17
         ]
        },
        {
         "line": {
          "color": "black",
          "width": 2
         },
         "mode": "lines",
         "showlegend": false,
         "type": "scatter3d",
         "x": [
          1.5145898033750316,
          1.8145898033750314
         ],
         "y": [
          0,
          0
         ],
         "z": [
          -0.3526711513754838,
          -0.570633909777092
         ]
        },
        {
         "line": {
          "color": "black",
          "width": 2
         },
         "mode": "lines",
         "showlegend": false,
         "type": "scatter3d",
         "x": [
          1.5145898033750316,
          1.2253288904374107
         ],
         "y": [
          0,
          0.8902535496964002
         ],
         "z": [
          -0.3526711513754838,
          -0.3526711513754838
         ]
        },
        {
         "line": {
          "color": "black",
          "width": 2
         },
         "mode": "lines",
         "showlegend": false,
         "type": "scatter3d",
         "x": [
          1.2253288904374107,
          1.4680339887498948
         ],
         "y": [
          0.8902535496964002,
          1.066589125384142
         ],
         "z": [
          -0.3526711513754838,
          -0.570633909777092
         ]
        },
        {
         "line": {
          "color": "black",
          "width": 2
         },
         "mode": "lines",
         "showlegend": false,
         "type": "scatter3d",
         "x": [
          1.2253288904374107,
          0.4680339887498949
         ],
         "y": [
          0.8902535496964002,
          1.440460502014019
         ],
         "z": [
          -0.3526711513754838,
          -0.3526711513754838
         ]
        },
        {
         "line": {
          "color": "black",
          "width": 2
         },
         "mode": "lines",
         "showlegend": false,
         "type": "scatter3d",
         "x": [
          0.4680339887498949,
          0.5607390870623791
         ],
         "y": [
          1.440460502014019,
          1.725777456902565
         ],
         "z": [
          -0.3526711513754838,
          -0.570633909777092
         ]
        },
        {
         "line": {
          "color": "black",
          "width": 2
         },
         "mode": "lines",
         "showlegend": false,
         "type": "scatter3d",
         "x": [
          0.4680339887498949,
          -0.4680339887498947
         ],
         "y": [
          1.440460502014019,
          1.4404605020140193
         ],
         "z": [
          -0.3526711513754838,
          -0.3526711513754838
         ]
        },
        {
         "line": {
          "color": "black",
          "width": 2
         },
         "mode": "lines",
         "showlegend": false,
         "type": "scatter3d",
         "x": [
          -0.4680339887498947,
          -0.5607390870623788
         ],
         "y": [
          1.4404605020140193,
          1.7257774569025652
         ],
         "z": [
          -0.3526711513754838,
          -0.570633909777092
         ]
        },
        {
         "line": {
          "color": "black",
          "width": 2
         },
         "mode": "lines",
         "showlegend": false,
         "type": "scatter3d",
         "x": [
          -0.4680339887498947,
          -1.2253288904374104
         ],
         "y": [
          1.4404605020140193,
          0.8902535496964004
         ],
         "z": [
          -0.3526711513754838,
          -0.3526711513754838
         ]
        },
        {
         "line": {
          "color": "black",
          "width": 2
         },
         "mode": "lines",
         "showlegend": false,
         "type": "scatter3d",
         "x": [
          -1.2253288904374104,
          -1.4680339887498945
         ],
         "y": [
          0.8902535496964004,
          1.0665891253841422
         ],
         "z": [
          -0.3526711513754838,
          -0.570633909777092
         ]
        },
        {
         "line": {
          "color": "black",
          "width": 2
         },
         "mode": "lines",
         "showlegend": false,
         "type": "scatter3d",
         "x": [
          -1.2253288904374104,
          -1.5145898033750316
         ],
         "y": [
          0.8902535496964004,
          1.8548375547244515e-16
         ],
         "z": [
          -0.3526711513754838,
          -0.3526711513754838
         ]
        },
        {
         "line": {
          "color": "black",
          "width": 2
         },
         "mode": "lines",
         "showlegend": false,
         "type": "scatter3d",
         "x": [
          -1.5145898033750316,
          -1.8145898033750314
         ],
         "y": [
          1.8548375547244515e-16,
          2.2222315944686573e-16
         ],
         "z": [
          -0.3526711513754838,
          -0.570633909777092
         ]
        },
        {
         "line": {
          "color": "black",
          "width": 2
         },
         "mode": "lines",
         "showlegend": false,
         "type": "scatter3d",
         "x": [
          -1.5145898033750316,
          -1.2253288904374107
         ],
         "y": [
          1.8548375547244515e-16,
          -0.8902535496964
         ],
         "z": [
          -0.3526711513754838,
          -0.3526711513754838
         ]
        },
        {
         "line": {
          "color": "black",
          "width": 2
         },
         "mode": "lines",
         "showlegend": false,
         "type": "scatter3d",
         "x": [
          -1.2253288904374107,
          -1.4680339887498948
         ],
         "y": [
          -0.8902535496964,
          -1.0665891253841417
         ],
         "z": [
          -0.3526711513754838,
          -0.570633909777092
         ]
        },
        {
         "line": {
          "color": "black",
          "width": 2
         },
         "mode": "lines",
         "showlegend": false,
         "type": "scatter3d",
         "x": [
          -1.2253288904374107,
          -0.46803398874989505
         ],
         "y": [
          -0.8902535496964,
          -1.440460502014019
         ],
         "z": [
          -0.3526711513754838,
          -0.3526711513754838
         ]
        },
        {
         "line": {
          "color": "black",
          "width": 2
         },
         "mode": "lines",
         "showlegend": false,
         "type": "scatter3d",
         "x": [
          -0.46803398874989505,
          -0.5607390870623793
         ],
         "y": [
          -1.440460502014019,
          -1.725777456902565
         ],
         "z": [
          -0.3526711513754838,
          -0.570633909777092
         ]
        },
        {
         "line": {
          "color": "black",
          "width": 2
         },
         "mode": "lines",
         "showlegend": false,
         "type": "scatter3d",
         "x": [
          -0.46803398874989505,
          0.46803398874989455
         ],
         "y": [
          -1.440460502014019,
          -1.4404605020140193
         ],
         "z": [
          -0.3526711513754838,
          -0.3526711513754838
         ]
        },
        {
         "line": {
          "color": "black",
          "width": 2
         },
         "mode": "lines",
         "showlegend": false,
         "type": "scatter3d",
         "x": [
          0.46803398874989455,
          0.5607390870623786
         ],
         "y": [
          -1.4404605020140193,
          -1.7257774569025652
         ],
         "z": [
          -0.3526711513754838,
          -0.570633909777092
         ]
        },
        {
         "line": {
          "color": "black",
          "width": 2
         },
         "mode": "lines",
         "showlegend": false,
         "type": "scatter3d",
         "x": [
          0.46803398874989455,
          1.2253288904374104
         ],
         "y": [
          -1.4404605020140193,
          -0.8902535496964006
         ],
         "z": [
          -0.3526711513754838,
          -0.3526711513754838
         ]
        },
        {
         "line": {
          "color": "black",
          "width": 2
         },
         "mode": "lines",
         "showlegend": false,
         "type": "scatter3d",
         "x": [
          1.2253288904374104,
          1.4680339887498945
         ],
         "y": [
          -0.8902535496964006,
          -1.0665891253841424
         ],
         "z": [
          -0.3526711513754838,
          -0.570633909777092
         ]
        },
        {
         "line": {
          "color": "black",
          "width": 2
         },
         "mode": "lines",
         "showlegend": false,
         "type": "scatter3d",
         "x": [
          1.2253288904374104,
          1.5145898033750316
         ],
         "y": [
          -0.8902535496964006,
          0
         ],
         "z": [
          -0.3526711513754838,
          -0.3526711513754838
         ]
        },
        {
         "line": {
          "color": "black",
          "width": 2
         },
         "mode": "lines",
         "showlegend": false,
         "type": "scatter3d",
         "x": [
          1.8145898033750314,
          2.1854101966249684
         ],
         "y": [
          0,
          0
         ],
         "z": [
          -0.570633909777092,
          -0.5706339097770922
         ]
        },
        {
         "line": {
          "color": "black",
          "width": 2
         },
         "mode": "lines",
         "showlegend": false,
         "type": "scatter3d",
         "x": [
          1.8145898033750314,
          1.4680339887498948
         ],
         "y": [
          0,
          1.066589125384142
         ],
         "z": [
          -0.570633909777092,
          -0.570633909777092
         ]
        },
        {
         "line": {
          "color": "black",
          "width": 2
         },
         "mode": "lines",
         "showlegend": false,
         "type": "scatter3d",
         "x": [
          1.4680339887498948,
          1.7680339887498948
         ],
         "y": [
          1.066589125384142,
          1.2845518837857504
         ],
         "z": [
          -0.570633909777092,
          -0.5706339097770922
         ]
        },
        {
         "line": {
          "color": "black",
          "width": 2
         },
         "mode": "lines",
         "showlegend": false,
         "type": "scatter3d",
         "x": [
          1.4680339887498948,
          0.5607390870623791
         ],
         "y": [
          1.066589125384142,
          1.725777456902565
         ],
         "z": [
          -0.570633909777092,
          -0.570633909777092
         ]
        },
        {
         "line": {
          "color": "black",
          "width": 2
         },
         "mode": "lines",
         "showlegend": false,
         "type": "scatter3d",
         "x": [
          0.5607390870623791,
          0.6753288904374106
         ],
         "y": [
          1.725777456902565,
          2.078448608278049
         ],
         "z": [
          -0.570633909777092,
          -0.5706339097770922
         ]
        },
        {
         "line": {
          "color": "black",
          "width": 2
         },
         "mode": "lines",
         "showlegend": false,
         "type": "scatter3d",
         "x": [
          0.5607390870623791,
          -0.5607390870623788
         ],
         "y": [
          1.725777456902565,
          1.7257774569025652
         ],
         "z": [
          -0.570633909777092,
          -0.570633909777092
         ]
        },
        {
         "line": {
          "color": "black",
          "width": 2
         },
         "mode": "lines",
         "showlegend": false,
         "type": "scatter3d",
         "x": [
          -0.5607390870623788,
          -0.6753288904374104
         ],
         "y": [
          1.7257774569025652,
          2.078448608278049
         ],
         "z": [
          -0.570633909777092,
          -0.5706339097770922
         ]
        },
        {
         "line": {
          "color": "black",
          "width": 2
         },
         "mode": "lines",
         "showlegend": false,
         "type": "scatter3d",
         "x": [
          -0.5607390870623788,
          -1.4680339887498945
         ],
         "y": [
          1.7257774569025652,
          1.0665891253841422
         ],
         "z": [
          -0.570633909777092,
          -0.570633909777092
         ]
        },
        {
         "line": {
          "color": "black",
          "width": 2
         },
         "mode": "lines",
         "showlegend": false,
         "type": "scatter3d",
         "x": [
          -1.4680339887498945,
          -1.7680339887498946
         ],
         "y": [
          1.0665891253841422,
          1.2845518837857506
         ],
         "z": [
          -0.570633909777092,
          -0.5706339097770922
         ]
        },
        {
         "line": {
          "color": "black",
          "width": 2
         },
         "mode": "lines",
         "showlegend": false,
         "type": "scatter3d",
         "x": [
          -1.4680339887498945,
          -1.8145898033750314
         ],
         "y": [
          1.0665891253841422,
          2.2222315944686573e-16
         ],
         "z": [
          -0.570633909777092,
          -0.570633909777092
         ]
        },
        {
         "line": {
          "color": "black",
          "width": 2
         },
         "mode": "lines",
         "showlegend": false,
         "type": "scatter3d",
         "x": [
          -1.8145898033750314,
          -2.1854101966249684
         ],
         "y": [
          2.2222315944686573e-16,
          2.6763556021207555e-16
         ],
         "z": [
          -0.570633909777092,
          -0.5706339097770922
         ]
        },
        {
         "line": {
          "color": "black",
          "width": 2
         },
         "mode": "lines",
         "showlegend": false,
         "type": "scatter3d",
         "x": [
          -1.8145898033750314,
          -1.4680339887498948
         ],
         "y": [
          2.2222315944686573e-16,
          -1.0665891253841417
         ],
         "z": [
          -0.570633909777092,
          -0.570633909777092
         ]
        },
        {
         "line": {
          "color": "black",
          "width": 2
         },
         "mode": "lines",
         "showlegend": false,
         "type": "scatter3d",
         "x": [
          -1.4680339887498948,
          -1.7680339887498948
         ],
         "y": [
          -1.0665891253841417,
          -1.2845518837857501
         ],
         "z": [
          -0.570633909777092,
          -0.5706339097770922
         ]
        },
        {
         "line": {
          "color": "black",
          "width": 2
         },
         "mode": "lines",
         "showlegend": false,
         "type": "scatter3d",
         "x": [
          -1.4680339887498948,
          -0.5607390870623793
         ],
         "y": [
          -1.0665891253841417,
          -1.725777456902565
         ],
         "z": [
          -0.570633909777092,
          -0.570633909777092
         ]
        },
        {
         "line": {
          "color": "black",
          "width": 2
         },
         "mode": "lines",
         "showlegend": false,
         "type": "scatter3d",
         "x": [
          -0.5607390870623793,
          -0.675328890437411
         ],
         "y": [
          -1.725777456902565,
          -2.078448608278049
         ],
         "z": [
          -0.570633909777092,
          -0.5706339097770922
         ]
        },
        {
         "line": {
          "color": "black",
          "width": 2
         },
         "mode": "lines",
         "showlegend": false,
         "type": "scatter3d",
         "x": [
          -0.5607390870623793,
          0.5607390870623786
         ],
         "y": [
          -1.725777456902565,
          -1.7257774569025652
         ],
         "z": [
          -0.570633909777092,
          -0.570633909777092
         ]
        },
        {
         "line": {
          "color": "black",
          "width": 2
         },
         "mode": "lines",
         "showlegend": false,
         "type": "scatter3d",
         "x": [
          0.5607390870623786,
          0.6753288904374102
         ],
         "y": [
          -1.7257774569025652,
          -2.078448608278049
         ],
         "z": [
          -0.570633909777092,
          -0.5706339097770922
         ]
        },
        {
         "line": {
          "color": "black",
          "width": 2
         },
         "mode": "lines",
         "showlegend": false,
         "type": "scatter3d",
         "x": [
          0.5607390870623786,
          1.4680339887498945
         ],
         "y": [
          -1.7257774569025652,
          -1.0665891253841424
         ],
         "z": [
          -0.570633909777092,
          -0.570633909777092
         ]
        },
        {
         "line": {
          "color": "black",
          "width": 2
         },
         "mode": "lines",
         "showlegend": false,
         "type": "scatter3d",
         "x": [
          1.4680339887498945,
          1.7680339887498946
         ],
         "y": [
          -1.0665891253841424,
          -1.2845518837857508
         ],
         "z": [
          -0.570633909777092,
          -0.5706339097770922
         ]
        },
        {
         "line": {
          "color": "black",
          "width": 2
         },
         "mode": "lines",
         "showlegend": false,
         "type": "scatter3d",
         "x": [
          1.4680339887498945,
          1.8145898033750314
         ],
         "y": [
          -1.0665891253841424,
          0
         ],
         "z": [
          -0.570633909777092,
          -0.570633909777092
         ]
        },
        {
         "line": {
          "color": "black",
          "width": 2
         },
         "mode": "lines",
         "showlegend": false,
         "type": "scatter3d",
         "x": [
          2.1854101966249684,
          2.485410196624968
         ],
         "y": [
          0,
          0
         ],
         "z": [
          -0.5706339097770922,
          -0.352671151375484
         ]
        },
        {
         "line": {
          "color": "black",
          "width": 2
         },
         "mode": "lines",
         "showlegend": false,
         "type": "scatter3d",
         "x": [
          2.1854101966249684,
          1.7680339887498948
         ],
         "y": [
          0,
          1.2845518837857504
         ],
         "z": [
          -0.5706339097770922,
          -0.5706339097770922
         ]
        },
        {
         "line": {
          "color": "black",
          "width": 2
         },
         "mode": "lines",
         "showlegend": false,
         "type": "scatter3d",
         "x": [
          1.7680339887498948,
          2.010739087062379
         ],
         "y": [
          1.2845518837857504,
          1.4608874594734922
         ],
         "z": [
          -0.5706339097770922,
          -0.352671151375484
         ]
        },
        {
         "line": {
          "color": "black",
          "width": 2
         },
         "mode": "lines",
         "showlegend": false,
         "type": "scatter3d",
         "x": [
          1.7680339887498948,
          0.6753288904374106
         ],
         "y": [
          1.2845518837857504,
          2.078448608278049
         ],
         "z": [
          -0.5706339097770922,
          -0.5706339097770922
         ]
        },
        {
         "line": {
          "color": "black",
          "width": 2
         },
         "mode": "lines",
         "showlegend": false,
         "type": "scatter3d",
         "x": [
          0.6753288904374106,
          0.7680339887498948
         ],
         "y": [
          2.078448608278049,
          2.363765563166595
         ],
         "z": [
          -0.5706339097770922,
          -0.352671151375484
         ]
        },
        {
         "line": {
          "color": "black",
          "width": 2
         },
         "mode": "lines",
         "showlegend": false,
         "type": "scatter3d",
         "x": [
          0.6753288904374106,
          -0.6753288904374104
         ],
         "y": [
          2.078448608278049,
          2.078448608278049
         ],
         "z": [
          -0.5706339097770922,
          -0.5706339097770922
         ]
        },
        {
         "line": {
          "color": "black",
          "width": 2
         },
         "mode": "lines",
         "showlegend": false,
         "type": "scatter3d",
         "x": [
          -0.6753288904374104,
          -0.7680339887498946
         ],
         "y": [
          2.078448608278049,
          2.363765563166595
         ],
         "z": [
          -0.5706339097770922,
          -0.352671151375484
         ]
        },
        {
         "line": {
          "color": "black",
          "width": 2
         },
         "mode": "lines",
         "showlegend": false,
         "type": "scatter3d",
         "x": [
          -0.6753288904374104,
          -1.7680339887498946
         ],
         "y": [
          2.078448608278049,
          1.2845518837857506
         ],
         "z": [
          -0.5706339097770922,
          -0.5706339097770922
         ]
        },
        {
         "line": {
          "color": "black",
          "width": 2
         },
         "mode": "lines",
         "showlegend": false,
         "type": "scatter3d",
         "x": [
          -1.7680339887498946,
          -2.0107390870623787
         ],
         "y": [
          1.2845518837857506,
          1.4608874594734924
         ],
         "z": [
          -0.5706339097770922,
          -0.352671151375484
         ]
        },
        {
         "line": {
          "color": "black",
          "width": 2
         },
         "mode": "lines",
         "showlegend": false,
         "type": "scatter3d",
         "x": [
          -1.7680339887498946,
          -2.1854101966249684
         ],
         "y": [
          1.2845518837857506,
          2.6763556021207555e-16
         ],
         "z": [
          -0.5706339097770922,
          -0.5706339097770922
         ]
        },
        {
         "line": {
          "color": "black",
          "width": 2
         },
         "mode": "lines",
         "showlegend": false,
         "type": "scatter3d",
         "x": [
          -2.1854101966249684,
          -2.485410196624968
         ],
         "y": [
          2.6763556021207555e-16,
          3.043749641864961e-16
         ],
         "z": [
          -0.5706339097770922,
          -0.352671151375484
         ]
        },
        {
         "line": {
          "color": "black",
          "width": 2
         },
         "mode": "lines",
         "showlegend": false,
         "type": "scatter3d",
         "x": [
          -2.1854101966249684,
          -1.7680339887498948
         ],
         "y": [
          2.6763556021207555e-16,
          -1.2845518837857501
         ],
         "z": [
          -0.5706339097770922,
          -0.5706339097770922
         ]
        },
        {
         "line": {
          "color": "black",
          "width": 2
         },
         "mode": "lines",
         "showlegend": false,
         "type": "scatter3d",
         "x": [
          -1.7680339887498948,
          -2.010739087062379
         ],
         "y": [
          -1.2845518837857501,
          -1.460887459473492
         ],
         "z": [
          -0.5706339097770922,
          -0.352671151375484
         ]
        },
        {
         "line": {
          "color": "black",
          "width": 2
         },
         "mode": "lines",
         "showlegend": false,
         "type": "scatter3d",
         "x": [
          -1.7680339887498948,
          -0.675328890437411
         ],
         "y": [
          -1.2845518837857501,
          -2.078448608278049
         ],
         "z": [
          -0.5706339097770922,
          -0.5706339097770922
         ]
        },
        {
         "line": {
          "color": "black",
          "width": 2
         },
         "mode": "lines",
         "showlegend": false,
         "type": "scatter3d",
         "x": [
          -0.675328890437411,
          -0.7680339887498951
         ],
         "y": [
          -2.078448608278049,
          -2.363765563166595
         ],
         "z": [
          -0.5706339097770922,
          -0.352671151375484
         ]
        },
        {
         "line": {
          "color": "black",
          "width": 2
         },
         "mode": "lines",
         "showlegend": false,
         "type": "scatter3d",
         "x": [
          -0.675328890437411,
          0.6753288904374102
         ],
         "y": [
          -2.078448608278049,
          -2.078448608278049
         ],
         "z": [
          -0.5706339097770922,
          -0.5706339097770922
         ]
        },
        {
         "line": {
          "color": "black",
          "width": 2
         },
         "mode": "lines",
         "showlegend": false,
         "type": "scatter3d",
         "x": [
          0.6753288904374102,
          0.7680339887498943
         ],
         "y": [
          -2.078448608278049,
          -2.363765563166595
         ],
         "z": [
          -0.5706339097770922,
          -0.352671151375484
         ]
        },
        {
         "line": {
          "color": "black",
          "width": 2
         },
         "mode": "lines",
         "showlegend": false,
         "type": "scatter3d",
         "x": [
          0.6753288904374102,
          1.7680339887498946
         ],
         "y": [
          -2.078448608278049,
          -1.2845518837857508
         ],
         "z": [
          -0.5706339097770922,
          -0.5706339097770922
         ]
        },
        {
         "line": {
          "color": "black",
          "width": 2
         },
         "mode": "lines",
         "showlegend": false,
         "type": "scatter3d",
         "x": [
          1.7680339887498946,
          2.0107390870623787
         ],
         "y": [
          -1.2845518837857508,
          -1.4608874594734929
         ],
         "z": [
          -0.5706339097770922,
          -0.352671151375484
         ]
        },
        {
         "line": {
          "color": "black",
          "width": 2
         },
         "mode": "lines",
         "showlegend": false,
         "type": "scatter3d",
         "x": [
          1.7680339887498946,
          2.1854101966249684
         ],
         "y": [
          -1.2845518837857508,
          0
         ],
         "z": [
          -0.5706339097770922,
          -0.5706339097770922
         ]
        },
        {
         "line": {
          "color": "black",
          "width": 2
         },
         "mode": "lines",
         "showlegend": false,
         "type": "scatter3d",
         "x": [
          2.485410196624968,
          2.6
         ],
         "y": [
          0,
          0
         ],
         "z": [
          -0.352671151375484,
          0
         ]
        },
        {
         "line": {
          "color": "black",
          "width": 2
         },
         "mode": "lines",
         "showlegend": false,
         "type": "scatter3d",
         "x": [
          2.485410196624968,
          2.010739087062379
         ],
         "y": [
          0,
          1.4608874594734922
         ],
         "z": [
          -0.352671151375484,
          -0.352671151375484
         ]
        },
        {
         "line": {
          "color": "black",
          "width": 2
         },
         "mode": "lines",
         "showlegend": false,
         "type": "scatter3d",
         "x": [
          2.010739087062379,
          2.1034441853748636
         ],
         "y": [
          1.4608874594734922,
          1.5282416559604302
         ],
         "z": [
          -0.352671151375484,
          0
         ]
        },
        {
         "line": {
          "color": "black",
          "width": 2
         },
         "mode": "lines",
         "showlegend": false,
         "type": "scatter3d",
         "x": [
          2.010739087062379,
          0.7680339887498948
         ],
         "y": [
          1.4608874594734922,
          2.363765563166595
         ],
         "z": [
          -0.352671151375484,
          -0.352671151375484
         ]
        },
        {
         "line": {
          "color": "black",
          "width": 2
         },
         "mode": "lines",
         "showlegend": false,
         "type": "scatter3d",
         "x": [
          0.7680339887498948,
          0.8034441853748634
         ],
         "y": [
          2.363765563166595,
          2.472746942367399
         ],
         "z": [
          -0.352671151375484,
          0
         ]
        },
        {
         "line": {
          "color": "black",
          "width": 2
         },
         "mode": "lines",
         "showlegend": false,
         "type": "scatter3d",
         "x": [
          0.7680339887498948,
          -0.7680339887498946
         ],
         "y": [
          2.363765563166595,
          2.363765563166595
         ],
         "z": [
          -0.352671151375484,
          -0.352671151375484
         ]
        },
        {
         "line": {
          "color": "black",
          "width": 2
         },
         "mode": "lines",
         "showlegend": false,
         "type": "scatter3d",
         "x": [
          -0.7680339887498946,
          -0.8034441853748631
         ],
         "y": [
          2.363765563166595,
          2.4727469423673996
         ],
         "z": [
          -0.352671151375484,
          0
         ]
        },
        {
         "line": {
          "color": "black",
          "width": 2
         },
         "mode": "lines",
         "showlegend": false,
         "type": "scatter3d",
         "x": [
          -0.7680339887498946,
          -2.0107390870623787
         ],
         "y": [
          2.363765563166595,
          1.4608874594734924
         ],
         "z": [
          -0.352671151375484,
          -0.352671151375484
         ]
        },
        {
         "line": {
          "color": "black",
          "width": 2
         },
         "mode": "lines",
         "showlegend": false,
         "type": "scatter3d",
         "x": [
          -2.0107390870623787,
          -2.103444185374863
         ],
         "y": [
          1.4608874594734924,
          1.5282416559604306
         ],
         "z": [
          -0.352671151375484,
          0
         ]
        },
        {
         "line": {
          "color": "black",
          "width": 2
         },
         "mode": "lines",
         "showlegend": false,
         "type": "scatter3d",
         "x": [
          -2.0107390870623787,
          -2.485410196624968
         ],
         "y": [
          1.4608874594734924,
          3.043749641864961e-16
         ],
         "z": [
          -0.352671151375484,
          -0.352671151375484
         ]
        },
        {
         "line": {
          "color": "black",
          "width": 2
         },
         "mode": "lines",
         "showlegend": false,
         "type": "scatter3d",
         "x": [
          -2.485410196624968,
          -2.6
         ],
         "y": [
          3.043749641864961e-16,
          3.1840816777831187e-16
         ],
         "z": [
          -0.352671151375484,
          0
         ]
        },
        {
         "line": {
          "color": "black",
          "width": 2
         },
         "mode": "lines",
         "showlegend": false,
         "type": "scatter3d",
         "x": [
          -2.485410196624968,
          -2.010739087062379
         ],
         "y": [
          3.043749641864961e-16,
          -1.460887459473492
         ],
         "z": [
          -0.352671151375484,
          -0.352671151375484
         ]
        },
        {
         "line": {
          "color": "black",
          "width": 2
         },
         "mode": "lines",
         "showlegend": false,
         "type": "scatter3d",
         "x": [
          -2.010739087062379,
          -2.1034441853748636
         ],
         "y": [
          -1.460887459473492,
          -1.52824165596043
         ],
         "z": [
          -0.352671151375484,
          0
         ]
        },
        {
         "line": {
          "color": "black",
          "width": 2
         },
         "mode": "lines",
         "showlegend": false,
         "type": "scatter3d",
         "x": [
          -2.010739087062379,
          -0.7680339887498951
         ],
         "y": [
          -1.460887459473492,
          -2.363765563166595
         ],
         "z": [
          -0.352671151375484,
          -0.352671151375484
         ]
        },
        {
         "line": {
          "color": "black",
          "width": 2
         },
         "mode": "lines",
         "showlegend": false,
         "type": "scatter3d",
         "x": [
          -0.7680339887498951,
          -0.8034441853748637
         ],
         "y": [
          -2.363765563166595,
          -2.472746942367399
         ],
         "z": [
          -0.352671151375484,
          0
         ]
        },
        {
         "line": {
          "color": "black",
          "width": 2
         },
         "mode": "lines",
         "showlegend": false,
         "type": "scatter3d",
         "x": [
          -0.7680339887498951,
          0.7680339887498943
         ],
         "y": [
          -2.363765563166595,
          -2.363765563166595
         ],
         "z": [
          -0.352671151375484,
          -0.352671151375484
         ]
        },
        {
         "line": {
          "color": "black",
          "width": 2
         },
         "mode": "lines",
         "showlegend": false,
         "type": "scatter3d",
         "x": [
          0.7680339887498943,
          0.8034441853748628
         ],
         "y": [
          -2.363765563166595,
          -2.4727469423673996
         ],
         "z": [
          -0.352671151375484,
          0
         ]
        },
        {
         "line": {
          "color": "black",
          "width": 2
         },
         "mode": "lines",
         "showlegend": false,
         "type": "scatter3d",
         "x": [
          0.7680339887498943,
          2.0107390870623787
         ],
         "y": [
          -2.363765563166595,
          -1.4608874594734929
         ],
         "z": [
          -0.352671151375484,
          -0.352671151375484
         ]
        },
        {
         "line": {
          "color": "black",
          "width": 2
         },
         "mode": "lines",
         "showlegend": false,
         "type": "scatter3d",
         "x": [
          2.0107390870623787,
          2.103444185374863
         ],
         "y": [
          -1.4608874594734929,
          -1.5282416559604308
         ],
         "z": [
          -0.352671151375484,
          0
         ]
        },
        {
         "line": {
          "color": "black",
          "width": 2
         },
         "mode": "lines",
         "showlegend": false,
         "type": "scatter3d",
         "x": [
          2.0107390870623787,
          2.485410196624968
         ],
         "y": [
          -1.4608874594734929,
          0
         ],
         "z": [
          -0.352671151375484,
          -0.352671151375484
         ]
        },
        {
         "colorscale": [
          [
           0,
           "lightgrey"
          ],
          [
           1,
           "lightgrey"
          ]
         ],
         "opacity": 0.2,
         "showscale": false,
         "type": "surface",
         "x": [
          -5,
          5
         ],
         "y": [
          -5,
          5
         ],
         "z": [
          [
           0,
           0
          ],
          [
           0,
           0
          ]
         ]
        },
        {
         "colorscale": [
          [
           0,
           "lightgrey"
          ],
          [
           1,
           "lightgrey"
          ]
         ],
         "opacity": 0.2,
         "showscale": false,
         "type": "surface",
         "x": [
          -5,
          5
         ],
         "y": [
          [
           0,
           0
          ],
          [
           0,
           0
          ]
         ],
         "z": [
          -5,
          5
         ]
        },
        {
         "colorscale": [
          [
           0,
           "lightgrey"
          ],
          [
           1,
           "lightgrey"
          ]
         ],
         "opacity": 0.2,
         "showscale": false,
         "type": "surface",
         "x": [
          [
           0,
           0
          ],
          [
           0,
           0
          ]
         ],
         "y": [
          -5,
          5
         ],
         "z": [
          -5,
          5
         ]
        }
       ],
       "layout": {
        "margin": {
         "b": 0,
         "l": 0,
         "r": 0,
         "t": 40
        },
        "scene": {
         "xaxis": {
          "visible": false
         },
         "yaxis": {
          "visible": false
         },
         "zaxis": {
          "visible": false
         }
        },
        "template": {
         "data": {
          "bar": [
           {
            "error_x": {
             "color": "#2a3f5f"
            },
            "error_y": {
             "color": "#2a3f5f"
            },
            "marker": {
             "line": {
              "color": "#E5ECF6",
              "width": 0.5
             },
             "pattern": {
              "fillmode": "overlay",
              "size": 10,
              "solidity": 0.2
             }
            },
            "type": "bar"
           }
          ],
          "barpolar": [
           {
            "marker": {
             "line": {
              "color": "#E5ECF6",
              "width": 0.5
             },
             "pattern": {
              "fillmode": "overlay",
              "size": 10,
              "solidity": 0.2
             }
            },
            "type": "barpolar"
           }
          ],
          "carpet": [
           {
            "aaxis": {
             "endlinecolor": "#2a3f5f",
             "gridcolor": "white",
             "linecolor": "white",
             "minorgridcolor": "white",
             "startlinecolor": "#2a3f5f"
            },
            "baxis": {
             "endlinecolor": "#2a3f5f",
             "gridcolor": "white",
             "linecolor": "white",
             "minorgridcolor": "white",
             "startlinecolor": "#2a3f5f"
            },
            "type": "carpet"
           }
          ],
          "choropleth": [
           {
            "colorbar": {
             "outlinewidth": 0,
             "ticks": ""
            },
            "type": "choropleth"
           }
          ],
          "contour": [
           {
            "colorbar": {
             "outlinewidth": 0,
             "ticks": ""
            },
            "colorscale": [
             [
              0,
              "#0d0887"
             ],
             [
              0.1111111111111111,
              "#46039f"
             ],
             [
              0.2222222222222222,
              "#7201a8"
             ],
             [
              0.3333333333333333,
              "#9c179e"
             ],
             [
              0.4444444444444444,
              "#bd3786"
             ],
             [
              0.5555555555555556,
              "#d8576b"
             ],
             [
              0.6666666666666666,
              "#ed7953"
             ],
             [
              0.7777777777777778,
              "#fb9f3a"
             ],
             [
              0.8888888888888888,
              "#fdca26"
             ],
             [
              1,
              "#f0f921"
             ]
            ],
            "type": "contour"
           }
          ],
          "contourcarpet": [
           {
            "colorbar": {
             "outlinewidth": 0,
             "ticks": ""
            },
            "type": "contourcarpet"
           }
          ],
          "heatmap": [
           {
            "colorbar": {
             "outlinewidth": 0,
             "ticks": ""
            },
            "colorscale": [
             [
              0,
              "#0d0887"
             ],
             [
              0.1111111111111111,
              "#46039f"
             ],
             [
              0.2222222222222222,
              "#7201a8"
             ],
             [
              0.3333333333333333,
              "#9c179e"
             ],
             [
              0.4444444444444444,
              "#bd3786"
             ],
             [
              0.5555555555555556,
              "#d8576b"
             ],
             [
              0.6666666666666666,
              "#ed7953"
             ],
             [
              0.7777777777777778,
              "#fb9f3a"
             ],
             [
              0.8888888888888888,
              "#fdca26"
             ],
             [
              1,
              "#f0f921"
             ]
            ],
            "type": "heatmap"
           }
          ],
          "heatmapgl": [
           {
            "colorbar": {
             "outlinewidth": 0,
             "ticks": ""
            },
            "colorscale": [
             [
              0,
              "#0d0887"
             ],
             [
              0.1111111111111111,
              "#46039f"
             ],
             [
              0.2222222222222222,
              "#7201a8"
             ],
             [
              0.3333333333333333,
              "#9c179e"
             ],
             [
              0.4444444444444444,
              "#bd3786"
             ],
             [
              0.5555555555555556,
              "#d8576b"
             ],
             [
              0.6666666666666666,
              "#ed7953"
             ],
             [
              0.7777777777777778,
              "#fb9f3a"
             ],
             [
              0.8888888888888888,
              "#fdca26"
             ],
             [
              1,
              "#f0f921"
             ]
            ],
            "type": "heatmapgl"
           }
          ],
          "histogram": [
           {
            "marker": {
             "pattern": {
              "fillmode": "overlay",
              "size": 10,
              "solidity": 0.2
             }
            },
            "type": "histogram"
           }
          ],
          "histogram2d": [
           {
            "colorbar": {
             "outlinewidth": 0,
             "ticks": ""
            },
            "colorscale": [
             [
              0,
              "#0d0887"
             ],
             [
              0.1111111111111111,
              "#46039f"
             ],
             [
              0.2222222222222222,
              "#7201a8"
             ],
             [
              0.3333333333333333,
              "#9c179e"
             ],
             [
              0.4444444444444444,
              "#bd3786"
             ],
             [
              0.5555555555555556,
              "#d8576b"
             ],
             [
              0.6666666666666666,
              "#ed7953"
             ],
             [
              0.7777777777777778,
              "#fb9f3a"
             ],
             [
              0.8888888888888888,
              "#fdca26"
             ],
             [
              1,
              "#f0f921"
             ]
            ],
            "type": "histogram2d"
           }
          ],
          "histogram2dcontour": [
           {
            "colorbar": {
             "outlinewidth": 0,
             "ticks": ""
            },
            "colorscale": [
             [
              0,
              "#0d0887"
             ],
             [
              0.1111111111111111,
              "#46039f"
             ],
             [
              0.2222222222222222,
              "#7201a8"
             ],
             [
              0.3333333333333333,
              "#9c179e"
             ],
             [
              0.4444444444444444,
              "#bd3786"
             ],
             [
              0.5555555555555556,
              "#d8576b"
             ],
             [
              0.6666666666666666,
              "#ed7953"
             ],
             [
              0.7777777777777778,
              "#fb9f3a"
             ],
             [
              0.8888888888888888,
              "#fdca26"
             ],
             [
              1,
              "#f0f921"
             ]
            ],
            "type": "histogram2dcontour"
           }
          ],
          "mesh3d": [
           {
            "colorbar": {
             "outlinewidth": 0,
             "ticks": ""
            },
            "type": "mesh3d"
           }
          ],
          "parcoords": [
           {
            "line": {
             "colorbar": {
              "outlinewidth": 0,
              "ticks": ""
             }
            },
            "type": "parcoords"
           }
          ],
          "pie": [
           {
            "automargin": true,
            "type": "pie"
           }
          ],
          "scatter": [
           {
            "fillpattern": {
             "fillmode": "overlay",
             "size": 10,
             "solidity": 0.2
            },
            "type": "scatter"
           }
          ],
          "scatter3d": [
           {
            "line": {
             "colorbar": {
              "outlinewidth": 0,
              "ticks": ""
             }
            },
            "marker": {
             "colorbar": {
              "outlinewidth": 0,
              "ticks": ""
             }
            },
            "type": "scatter3d"
           }
          ],
          "scattercarpet": [
           {
            "marker": {
             "colorbar": {
              "outlinewidth": 0,
              "ticks": ""
             }
            },
            "type": "scattercarpet"
           }
          ],
          "scattergeo": [
           {
            "marker": {
             "colorbar": {
              "outlinewidth": 0,
              "ticks": ""
             }
            },
            "type": "scattergeo"
           }
          ],
          "scattergl": [
           {
            "marker": {
             "colorbar": {
              "outlinewidth": 0,
              "ticks": ""
             }
            },
            "type": "scattergl"
           }
          ],
          "scattermapbox": [
           {
            "marker": {
             "colorbar": {
              "outlinewidth": 0,
              "ticks": ""
             }
            },
            "type": "scattermapbox"
           }
          ],
          "scatterpolar": [
           {
            "marker": {
             "colorbar": {
              "outlinewidth": 0,
              "ticks": ""
             }
            },
            "type": "scatterpolar"
           }
          ],
          "scatterpolargl": [
           {
            "marker": {
             "colorbar": {
              "outlinewidth": 0,
              "ticks": ""
             }
            },
            "type": "scatterpolargl"
           }
          ],
          "scatterternary": [
           {
            "marker": {
             "colorbar": {
              "outlinewidth": 0,
              "ticks": ""
             }
            },
            "type": "scatterternary"
           }
          ],
          "surface": [
           {
            "colorbar": {
             "outlinewidth": 0,
             "ticks": ""
            },
            "colorscale": [
             [
              0,
              "#0d0887"
             ],
             [
              0.1111111111111111,
              "#46039f"
             ],
             [
              0.2222222222222222,
              "#7201a8"
             ],
             [
              0.3333333333333333,
              "#9c179e"
             ],
             [
              0.4444444444444444,
              "#bd3786"
             ],
             [
              0.5555555555555556,
              "#d8576b"
             ],
             [
              0.6666666666666666,
              "#ed7953"
             ],
             [
              0.7777777777777778,
              "#fb9f3a"
             ],
             [
              0.8888888888888888,
              "#fdca26"
             ],
             [
              1,
              "#f0f921"
             ]
            ],
            "type": "surface"
           }
          ],
          "table": [
           {
            "cells": {
             "fill": {
              "color": "#EBF0F8"
             },
             "line": {
              "color": "white"
             }
            },
            "header": {
             "fill": {
              "color": "#C8D4E3"
             },
             "line": {
              "color": "white"
             }
            },
            "type": "table"
           }
          ]
         },
         "layout": {
          "annotationdefaults": {
           "arrowcolor": "#2a3f5f",
           "arrowhead": 0,
           "arrowwidth": 1
          },
          "autotypenumbers": "strict",
          "coloraxis": {
           "colorbar": {
            "outlinewidth": 0,
            "ticks": ""
           }
          },
          "colorscale": {
           "diverging": [
            [
             0,
             "#8e0152"
            ],
            [
             0.1,
             "#c51b7d"
            ],
            [
             0.2,
             "#de77ae"
            ],
            [
             0.3,
             "#f1b6da"
            ],
            [
             0.4,
             "#fde0ef"
            ],
            [
             0.5,
             "#f7f7f7"
            ],
            [
             0.6,
             "#e6f5d0"
            ],
            [
             0.7,
             "#b8e186"
            ],
            [
             0.8,
             "#7fbc41"
            ],
            [
             0.9,
             "#4d9221"
            ],
            [
             1,
             "#276419"
            ]
           ],
           "sequential": [
            [
             0,
             "#0d0887"
            ],
            [
             0.1111111111111111,
             "#46039f"
            ],
            [
             0.2222222222222222,
             "#7201a8"
            ],
            [
             0.3333333333333333,
             "#9c179e"
            ],
            [
             0.4444444444444444,
             "#bd3786"
            ],
            [
             0.5555555555555556,
             "#d8576b"
            ],
            [
             0.6666666666666666,
             "#ed7953"
            ],
            [
             0.7777777777777778,
             "#fb9f3a"
            ],
            [
             0.8888888888888888,
             "#fdca26"
            ],
            [
             1,
             "#f0f921"
            ]
           ],
           "sequentialminus": [
            [
             0,
             "#0d0887"
            ],
            [
             0.1111111111111111,
             "#46039f"
            ],
            [
             0.2222222222222222,
             "#7201a8"
            ],
            [
             0.3333333333333333,
             "#9c179e"
            ],
            [
             0.4444444444444444,
             "#bd3786"
            ],
            [
             0.5555555555555556,
             "#d8576b"
            ],
            [
             0.6666666666666666,
             "#ed7953"
            ],
            [
             0.7777777777777778,
             "#fb9f3a"
            ],
            [
             0.8888888888888888,
             "#fdca26"
            ],
            [
             1,
             "#f0f921"
            ]
           ]
          },
          "colorway": [
           "#636efa",
           "#EF553B",
           "#00cc96",
           "#ab63fa",
           "#FFA15A",
           "#19d3f3",
           "#FF6692",
           "#B6E880",
           "#FF97FF",
           "#FECB52"
          ],
          "font": {
           "color": "#2a3f5f"
          },
          "geo": {
           "bgcolor": "white",
           "lakecolor": "white",
           "landcolor": "#E5ECF6",
           "showlakes": true,
           "showland": true,
           "subunitcolor": "white"
          },
          "hoverlabel": {
           "align": "left"
          },
          "hovermode": "closest",
          "mapbox": {
           "style": "light"
          },
          "paper_bgcolor": "white",
          "plot_bgcolor": "#E5ECF6",
          "polar": {
           "angularaxis": {
            "gridcolor": "white",
            "linecolor": "white",
            "ticks": ""
           },
           "bgcolor": "#E5ECF6",
           "radialaxis": {
            "gridcolor": "white",
            "linecolor": "white",
            "ticks": ""
           }
          },
          "scene": {
           "xaxis": {
            "backgroundcolor": "#E5ECF6",
            "gridcolor": "white",
            "gridwidth": 2,
            "linecolor": "white",
            "showbackground": true,
            "ticks": "",
            "zerolinecolor": "white"
           },
           "yaxis": {
            "backgroundcolor": "#E5ECF6",
            "gridcolor": "white",
            "gridwidth": 2,
            "linecolor": "white",
            "showbackground": true,
            "ticks": "",
            "zerolinecolor": "white"
           },
           "zaxis": {
            "backgroundcolor": "#E5ECF6",
            "gridcolor": "white",
            "gridwidth": 2,
            "linecolor": "white",
            "showbackground": true,
            "ticks": "",
            "zerolinecolor": "white"
           }
          },
          "shapedefaults": {
           "line": {
            "color": "#2a3f5f"
           }
          },
          "ternary": {
           "aaxis": {
            "gridcolor": "white",
            "linecolor": "white",
            "ticks": ""
           },
           "baxis": {
            "gridcolor": "white",
            "linecolor": "white",
            "ticks": ""
           },
           "bgcolor": "#E5ECF6",
           "caxis": {
            "gridcolor": "white",
            "linecolor": "white",
            "ticks": ""
           }
          },
          "title": {
           "x": 0.05
          },
          "xaxis": {
           "automargin": true,
           "gridcolor": "white",
           "linecolor": "white",
           "ticks": "",
           "title": {
            "standoff": 15
           },
           "zerolinecolor": "white",
           "zerolinewidth": 2
          },
          "yaxis": {
           "automargin": true,
           "gridcolor": "white",
           "linecolor": "white",
           "ticks": "",
           "title": {
            "standoff": 15
           },
           "zerolinecolor": "white",
           "zerolinewidth": 2
          }
         }
        },
        "title": {
         "text": "Interactive Discrete Toroidal Lattice with Transparent Planes"
        }
       }
      }
     },
     "metadata": {},
     "output_type": "display_data"
    }
   ],
   "source": [
    "import numpy as np\n",
    "import plotly.graph_objects as go\n",
    "\n",
    "# Toroidal parameters\n",
    "R = 2      # Major radius (distance from center to middle of tube)\n",
    "r = 0.6    # Minor radius (radius of tube cross-section)\n",
    "N_u = 10   # Number of lattice points around the major loop\n",
    "N_v = 10   # Number of lattice points around the minor loop\n",
    "\n",
    "# Generate discrete lattice points\n",
    "theta = np.linspace(0, 2*np.pi, N_u, endpoint=False)  # Major angle (around torus)\n",
    "phi = np.linspace(0, 2*np.pi, N_v, endpoint=False)    # Minor angle (tube cross-section)\n",
    "theta, phi = np.meshgrid(theta, phi)\n",
    "\n",
    "# Convert to Cartesian coordinates\n",
    "X = (R + r * np.cos(phi)) * np.cos(theta)\n",
    "Y = (R + r * np.cos(phi)) * np.sin(theta)\n",
    "Z = r * np.sin(phi)\n",
    "\n",
    "# Convert to 1D arrays for easier edge connections\n",
    "X = X.flatten()\n",
    "Y = Y.flatten()\n",
    "Z = Z.flatten()\n",
    "\n",
    "# Create Plotly figure\n",
    "fig = go.Figure()\n",
    "\n",
    "# Add lattice points\n",
    "fig.add_trace(go.Scatter3d(x=X, y=Y, z=Z, mode='markers', marker=dict(size=4, color='blue'), name='Lattice Points'))\n",
    "\n",
    "# Add connections between neighboring points\n",
    "for i in range(N_u):\n",
    "    for j in range(N_v):\n",
    "        idx = i * N_v + j  # Index in the flattened array\n",
    "        \n",
    "        # Connect to neighbor along major direction (theta)\n",
    "        next_i = ((i + 1) % N_u) * N_v + j\n",
    "        fig.add_trace(go.Scatter3d(\n",
    "            x=[X[idx], X[next_i]], y=[Y[idx], Y[next_i]], z=[Z[idx], Z[next_i]], \n",
    "            mode='lines', line=dict(color='black', width=2), showlegend=False))\n",
    "        \n",
    "        # Connect to neighbor along minor direction (phi)\n",
    "        next_j = i * N_v + (j + 1) % N_v\n",
    "        fig.add_trace(go.Scatter3d(\n",
    "            x=[X[idx], X[next_j]], y=[Y[idx], Y[next_j]], z=[Z[idx], Z[next_j]], \n",
    "            mode='lines', line=dict(color='black', width=2), showlegend=False))\n",
    "\n",
    "# Add transparent planes to make the torus stand out\n",
    "plane_size = 5  # Adjust plane size for better visibility\n",
    "plane_opacity = 0.2  # Adjust transparency\n",
    "\n",
    "# XY Plane\n",
    "fig.add_trace(go.Surface(\n",
    "    z=np.full((2, 2), 0),  # Flat plane at z=0\n",
    "    x=[-plane_size, plane_size],\n",
    "    y=[-plane_size, plane_size],\n",
    "    colorscale=[(0, 'lightgrey'), (1, 'lightgrey')],\n",
    "    opacity=plane_opacity,\n",
    "    showscale=False\n",
    "))\n",
    "\n",
    "# XZ Plane\n",
    "fig.add_trace(go.Surface(\n",
    "    y=np.full((2, 2), 0),  # Flat plane at y=0\n",
    "    x=[-plane_size, plane_size],\n",
    "    z=[-plane_size, plane_size],\n",
    "    colorscale=[(0, 'lightgrey'), (1, 'lightgrey')],\n",
    "    opacity=plane_opacity,\n",
    "    showscale=False\n",
    "))\n",
    "\n",
    "# YZ Plane\n",
    "fig.add_trace(go.Surface(\n",
    "    x=np.full((2, 2), 0),  # Flat plane at x=0\n",
    "    y=[-plane_size, plane_size],\n",
    "    z=[-plane_size, plane_size],\n",
    "    colorscale=[(0, 'lightgrey'), (1, 'lightgrey')],\n",
    "    opacity=plane_opacity,\n",
    "    showscale=False\n",
    "))\n",
    "\n",
    "# Update layout for better viewing\n",
    "fig.update_layout(\n",
    "    title=\"Interactive Discrete Toroidal Lattice with Transparent Planes\",\n",
    "    scene=dict(\n",
    "        xaxis=dict(visible=False),\n",
    "        yaxis=dict(visible=False),\n",
    "        zaxis=dict(visible=False),\n",
    "    ),\n",
    "    margin=dict(l=0, r=0, b=0, t=40)\n",
    ")\n",
    "\n",
    "# Show the interactive plot\n",
    "fig.show()\n",
    "\n"
   ]
  },
  {
   "cell_type": "code",
   "execution_count": null,
   "metadata": {},
   "outputs": [],
   "source": []
  }
 ],
 "metadata": {
  "kernelspec": {
   "display_name": "Python 3",
   "language": "python",
   "name": "python3"
  },
  "language_info": {
   "codemirror_mode": {
    "name": "ipython",
    "version": 3
   },
   "file_extension": ".py",
   "mimetype": "text/x-python",
   "name": "python",
   "nbconvert_exporter": "python",
   "pygments_lexer": "ipython3",
   "version": "3.11.9"
  }
 },
 "nbformat": 4,
 "nbformat_minor": 2
}
